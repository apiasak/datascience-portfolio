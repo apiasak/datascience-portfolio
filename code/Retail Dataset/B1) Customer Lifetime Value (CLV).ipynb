{
 "cells": [
  {
   "cell_type": "markdown",
   "id": "0b0f1f3e-bf1e-4aa9-a05b-8577849e0c59",
   "metadata": {},
   "source": [
    "# Customer Lifetime Value (CLV) - A Case Study\n",
    "\n",
    "**Dataset Information:**\n",
    "\n",
    "This is a transnational data set which contains all the transactions occurring between 01/12/2010 and 09/12/2011 for a UK-based and registered non-store online retail.The company mainly sells unique all-occasion gifts. Many customers of the company are wholesalers.\n",
    "\n",
    "## Field description\n",
    "* **InvoiceNo**: Invoice number. Nominal, a 6-digit integral number uniquely assigned to each transaction. If this code starts with letter ‘c’, it indicates a cancellation.\n",
    "* **StockCode**: Product (item) code. Nominal, a 5-digit integral number uniquely assigned to each distinct product.\n",
    "* **Description**: Product (item) name. Nominal.\n",
    "* **Quantity**: The quantities of each product (item) per transaction. Numeric.\n",
    "* **InvoiceDate**: Invoice Date and time. Numeric, the day and time when each transaction was generated.\n",
    "* **UnitPrice**: Unit price. Numeric, Product price per unit in sterling.\n",
    "* **CustomerID**: Customer number. Nominal, a 5-digit integral number uniquely assigned to each customer.\n",
    "* **Country**: Country name. Nominal, the name of the country where each customer resides."
   ]
  },
  {
   "cell_type": "code",
   "execution_count": 1,
   "id": "7833b692",
   "metadata": {},
   "outputs": [],
   "source": [
    "# Importing necessary libraries\n",
    "import pandas as pd\n",
    "import numpy as np\n",
    "\n",
    "import matplotlib.pyplot as plt\n",
    "import seaborn as sns\n",
    "sns.set()\n",
    "\n",
    "pd.options.mode.chained_assignment = None"
   ]
  },
  {
   "cell_type": "markdown",
   "id": "efddfaf5",
   "metadata": {},
   "source": [
    "https://www.analyticsvidhya.com/blog/2020/10/a-definitive-guide-for-predicting-customer-lifetime-value-clv/"
   ]
  },
  {
   "cell_type": "code",
   "execution_count": 127,
   "id": "fa5a2a8c",
   "metadata": {},
   "outputs": [
    {
     "name": "stdout",
     "output_type": "stream",
     "text": [
      "Total number of transactions happened in the given period: 541909\n"
     ]
    },
    {
     "data": {
      "text/html": [
       "<div>\n",
       "<style scoped>\n",
       "    .dataframe tbody tr th:only-of-type {\n",
       "        vertical-align: middle;\n",
       "    }\n",
       "\n",
       "    .dataframe tbody tr th {\n",
       "        vertical-align: top;\n",
       "    }\n",
       "\n",
       "    .dataframe thead th {\n",
       "        text-align: right;\n",
       "    }\n",
       "</style>\n",
       "<table border=\"1\" class=\"dataframe\">\n",
       "  <thead>\n",
       "    <tr style=\"text-align: right;\">\n",
       "      <th></th>\n",
       "      <th>InvoiceNo</th>\n",
       "      <th>StockCode</th>\n",
       "      <th>Description</th>\n",
       "      <th>Quantity</th>\n",
       "      <th>InvoiceDate</th>\n",
       "      <th>UnitPrice</th>\n",
       "      <th>CustomerID</th>\n",
       "      <th>Country</th>\n",
       "    </tr>\n",
       "  </thead>\n",
       "  <tbody>\n",
       "    <tr>\n",
       "      <th>0</th>\n",
       "      <td>536365</td>\n",
       "      <td>85123A</td>\n",
       "      <td>WHITE HANGING HEART T-LIGHT HOLDER</td>\n",
       "      <td>6</td>\n",
       "      <td>2010-12-01 08:26:00</td>\n",
       "      <td>2.55</td>\n",
       "      <td>17850.0</td>\n",
       "      <td>United Kingdom</td>\n",
       "    </tr>\n",
       "    <tr>\n",
       "      <th>1</th>\n",
       "      <td>536365</td>\n",
       "      <td>71053</td>\n",
       "      <td>WHITE METAL LANTERN</td>\n",
       "      <td>6</td>\n",
       "      <td>2010-12-01 08:26:00</td>\n",
       "      <td>3.39</td>\n",
       "      <td>17850.0</td>\n",
       "      <td>United Kingdom</td>\n",
       "    </tr>\n",
       "    <tr>\n",
       "      <th>2</th>\n",
       "      <td>536365</td>\n",
       "      <td>84406B</td>\n",
       "      <td>CREAM CUPID HEARTS COAT HANGER</td>\n",
       "      <td>8</td>\n",
       "      <td>2010-12-01 08:26:00</td>\n",
       "      <td>2.75</td>\n",
       "      <td>17850.0</td>\n",
       "      <td>United Kingdom</td>\n",
       "    </tr>\n",
       "    <tr>\n",
       "      <th>3</th>\n",
       "      <td>536365</td>\n",
       "      <td>84029G</td>\n",
       "      <td>KNITTED UNION FLAG HOT WATER BOTTLE</td>\n",
       "      <td>6</td>\n",
       "      <td>2010-12-01 08:26:00</td>\n",
       "      <td>3.39</td>\n",
       "      <td>17850.0</td>\n",
       "      <td>United Kingdom</td>\n",
       "    </tr>\n",
       "    <tr>\n",
       "      <th>4</th>\n",
       "      <td>536365</td>\n",
       "      <td>84029E</td>\n",
       "      <td>RED WOOLLY HOTTIE WHITE HEART.</td>\n",
       "      <td>6</td>\n",
       "      <td>2010-12-01 08:26:00</td>\n",
       "      <td>3.39</td>\n",
       "      <td>17850.0</td>\n",
       "      <td>United Kingdom</td>\n",
       "    </tr>\n",
       "  </tbody>\n",
       "</table>\n",
       "</div>"
      ],
      "text/plain": [
       "  InvoiceNo StockCode                          Description  Quantity  \\\n",
       "0    536365    85123A   WHITE HANGING HEART T-LIGHT HOLDER         6   \n",
       "1    536365     71053                  WHITE METAL LANTERN         6   \n",
       "2    536365    84406B       CREAM CUPID HEARTS COAT HANGER         8   \n",
       "3    536365    84029G  KNITTED UNION FLAG HOT WATER BOTTLE         6   \n",
       "4    536365    84029E       RED WOOLLY HOTTIE WHITE HEART.         6   \n",
       "\n",
       "          InvoiceDate  UnitPrice  CustomerID         Country  \n",
       "0 2010-12-01 08:26:00       2.55     17850.0  United Kingdom  \n",
       "1 2010-12-01 08:26:00       3.39     17850.0  United Kingdom  \n",
       "2 2010-12-01 08:26:00       2.75     17850.0  United Kingdom  \n",
       "3 2010-12-01 08:26:00       3.39     17850.0  United Kingdom  \n",
       "4 2010-12-01 08:26:00       3.39     17850.0  United Kingdom  "
      ]
     },
     "execution_count": 127,
     "metadata": {},
     "output_type": "execute_result"
    }
   ],
   "source": [
    "# Loading the data\n",
    "data = pd.read_csv('data.csv', encoding=\"unicode_escape\", parse_dates=['InvoiceDate'])\n",
    "print(\"Total number of transactions happened in the given period: \"+ str(data.shape[0]))\n",
    "data.head(5)"
   ]
  },
  {
   "cell_type": "code",
   "execution_count": 3,
   "id": "4545067f",
   "metadata": {},
   "outputs": [
    {
     "name": "stdout",
     "output_type": "stream",
     "text": [
      "<class 'pandas.core.frame.DataFrame'>\n",
      "RangeIndex: 541909 entries, 0 to 541908\n",
      "Data columns (total 8 columns):\n",
      " #   Column       Non-Null Count   Dtype         \n",
      "---  ------       --------------   -----         \n",
      " 0   InvoiceNo    541909 non-null  object        \n",
      " 1   StockCode    541909 non-null  object        \n",
      " 2   Description  540455 non-null  object        \n",
      " 3   Quantity     541909 non-null  int64         \n",
      " 4   InvoiceDate  541909 non-null  datetime64[ns]\n",
      " 5   UnitPrice    541909 non-null  float64       \n",
      " 6   CustomerID   406829 non-null  float64       \n",
      " 7   Country      541909 non-null  object        \n",
      "dtypes: datetime64[ns](1), float64(2), int64(1), object(4)\n",
      "memory usage: 33.1+ MB\n"
     ]
    }
   ],
   "source": [
    "data.info()"
   ]
  },
  {
   "cell_type": "markdown",
   "id": "8a154bfa",
   "metadata": {},
   "source": [
    "For our Lifetime value calculation, we don't need all the features in this data set. We need only the CustomerID, InvoiceDate, Quantity and Total Sales (Quantity * UnitPrice)."
   ]
  },
  {
   "cell_type": "code",
   "execution_count": 128,
   "id": "17982124",
   "metadata": {},
   "outputs": [
    {
     "name": "stdout",
     "output_type": "stream",
     "text": [
      "(541909, 6)\n"
     ]
    },
    {
     "data": {
      "text/html": [
       "<div>\n",
       "<style scoped>\n",
       "    .dataframe tbody tr th:only-of-type {\n",
       "        vertical-align: middle;\n",
       "    }\n",
       "\n",
       "    .dataframe tbody tr th {\n",
       "        vertical-align: top;\n",
       "    }\n",
       "\n",
       "    .dataframe thead th {\n",
       "        text-align: right;\n",
       "    }\n",
       "</style>\n",
       "<table border=\"1\" class=\"dataframe\">\n",
       "  <thead>\n",
       "    <tr style=\"text-align: right;\">\n",
       "      <th></th>\n",
       "      <th>CustomerID</th>\n",
       "      <th>InvoiceNo</th>\n",
       "      <th>InvoiceDate</th>\n",
       "      <th>Quantity</th>\n",
       "      <th>UnitPrice</th>\n",
       "      <th>TotalSales</th>\n",
       "    </tr>\n",
       "  </thead>\n",
       "  <tbody>\n",
       "    <tr>\n",
       "      <th>0</th>\n",
       "      <td>17850.0</td>\n",
       "      <td>536365</td>\n",
       "      <td>2010-12-01 08:26:00</td>\n",
       "      <td>6</td>\n",
       "      <td>2.55</td>\n",
       "      <td>15.30</td>\n",
       "    </tr>\n",
       "    <tr>\n",
       "      <th>1</th>\n",
       "      <td>17850.0</td>\n",
       "      <td>536365</td>\n",
       "      <td>2010-12-01 08:26:00</td>\n",
       "      <td>6</td>\n",
       "      <td>3.39</td>\n",
       "      <td>20.34</td>\n",
       "    </tr>\n",
       "    <tr>\n",
       "      <th>2</th>\n",
       "      <td>17850.0</td>\n",
       "      <td>536365</td>\n",
       "      <td>2010-12-01 08:26:00</td>\n",
       "      <td>8</td>\n",
       "      <td>2.75</td>\n",
       "      <td>22.00</td>\n",
       "    </tr>\n",
       "    <tr>\n",
       "      <th>3</th>\n",
       "      <td>17850.0</td>\n",
       "      <td>536365</td>\n",
       "      <td>2010-12-01 08:26:00</td>\n",
       "      <td>6</td>\n",
       "      <td>3.39</td>\n",
       "      <td>20.34</td>\n",
       "    </tr>\n",
       "    <tr>\n",
       "      <th>4</th>\n",
       "      <td>17850.0</td>\n",
       "      <td>536365</td>\n",
       "      <td>2010-12-01 08:26:00</td>\n",
       "      <td>6</td>\n",
       "      <td>3.39</td>\n",
       "      <td>20.34</td>\n",
       "    </tr>\n",
       "  </tbody>\n",
       "</table>\n",
       "</div>"
      ],
      "text/plain": [
       "   CustomerID InvoiceNo         InvoiceDate  Quantity  UnitPrice  TotalSales\n",
       "0     17850.0    536365 2010-12-01 08:26:00         6       2.55       15.30\n",
       "1     17850.0    536365 2010-12-01 08:26:00         6       3.39       20.34\n",
       "2     17850.0    536365 2010-12-01 08:26:00         8       2.75       22.00\n",
       "3     17850.0    536365 2010-12-01 08:26:00         6       3.39       20.34\n",
       "4     17850.0    536365 2010-12-01 08:26:00         6       3.39       20.34"
      ]
     },
     "execution_count": 128,
     "metadata": {},
     "output_type": "execute_result"
    }
   ],
   "source": [
    "# Feature selection\n",
    "features = ['CustomerID', 'InvoiceNo', 'InvoiceDate', 'Quantity', 'UnitPrice']\n",
    "data_clv = data[features]\n",
    "data_clv['TotalSales'] = data_clv['Quantity'].multiply(data_clv['UnitPrice'])\n",
    "\n",
    "print(data_clv.shape)\n",
    "data_clv.head()"
   ]
  },
  {
   "cell_type": "markdown",
   "id": "ae61ad1f",
   "metadata": {},
   "source": [
    "Now, let's look at the discriptive statistics of the data."
   ]
  },
  {
   "cell_type": "code",
   "execution_count": 6,
   "id": "67124a81",
   "metadata": {},
   "outputs": [
    {
     "data": {
      "text/html": [
       "<div>\n",
       "<style scoped>\n",
       "    .dataframe tbody tr th:only-of-type {\n",
       "        vertical-align: middle;\n",
       "    }\n",
       "\n",
       "    .dataframe tbody tr th {\n",
       "        vertical-align: top;\n",
       "    }\n",
       "\n",
       "    .dataframe thead th {\n",
       "        text-align: right;\n",
       "    }\n",
       "</style>\n",
       "<table border=\"1\" class=\"dataframe\">\n",
       "  <thead>\n",
       "    <tr style=\"text-align: right;\">\n",
       "      <th></th>\n",
       "      <th>CustomerID</th>\n",
       "      <th>Quantity</th>\n",
       "      <th>UnitPrice</th>\n",
       "      <th>TotalSales</th>\n",
       "    </tr>\n",
       "  </thead>\n",
       "  <tbody>\n",
       "    <tr>\n",
       "      <th>count</th>\n",
       "      <td>406829.000000</td>\n",
       "      <td>541909.000000</td>\n",
       "      <td>541909.000000</td>\n",
       "      <td>541909.000000</td>\n",
       "    </tr>\n",
       "    <tr>\n",
       "      <th>mean</th>\n",
       "      <td>15287.690570</td>\n",
       "      <td>9.552250</td>\n",
       "      <td>4.611114</td>\n",
       "      <td>17.987795</td>\n",
       "    </tr>\n",
       "    <tr>\n",
       "      <th>std</th>\n",
       "      <td>1713.600303</td>\n",
       "      <td>218.081158</td>\n",
       "      <td>96.759853</td>\n",
       "      <td>378.810824</td>\n",
       "    </tr>\n",
       "    <tr>\n",
       "      <th>min</th>\n",
       "      <td>12346.000000</td>\n",
       "      <td>-80995.000000</td>\n",
       "      <td>-11062.060000</td>\n",
       "      <td>-168469.600000</td>\n",
       "    </tr>\n",
       "    <tr>\n",
       "      <th>25%</th>\n",
       "      <td>13953.000000</td>\n",
       "      <td>1.000000</td>\n",
       "      <td>1.250000</td>\n",
       "      <td>3.400000</td>\n",
       "    </tr>\n",
       "    <tr>\n",
       "      <th>50%</th>\n",
       "      <td>15152.000000</td>\n",
       "      <td>3.000000</td>\n",
       "      <td>2.080000</td>\n",
       "      <td>9.750000</td>\n",
       "    </tr>\n",
       "    <tr>\n",
       "      <th>75%</th>\n",
       "      <td>16791.000000</td>\n",
       "      <td>10.000000</td>\n",
       "      <td>4.130000</td>\n",
       "      <td>17.400000</td>\n",
       "    </tr>\n",
       "    <tr>\n",
       "      <th>max</th>\n",
       "      <td>18287.000000</td>\n",
       "      <td>80995.000000</td>\n",
       "      <td>38970.000000</td>\n",
       "      <td>168469.600000</td>\n",
       "    </tr>\n",
       "  </tbody>\n",
       "</table>\n",
       "</div>"
      ],
      "text/plain": [
       "          CustomerID       Quantity      UnitPrice     TotalSales\n",
       "count  406829.000000  541909.000000  541909.000000  541909.000000\n",
       "mean    15287.690570       9.552250       4.611114      17.987795\n",
       "std      1713.600303     218.081158      96.759853     378.810824\n",
       "min     12346.000000  -80995.000000  -11062.060000 -168469.600000\n",
       "25%     13953.000000       1.000000       1.250000       3.400000\n",
       "50%     15152.000000       3.000000       2.080000       9.750000\n",
       "75%     16791.000000      10.000000       4.130000      17.400000\n",
       "max     18287.000000   80995.000000   38970.000000  168469.600000"
      ]
     },
     "execution_count": 6,
     "metadata": {},
     "output_type": "execute_result"
    }
   ],
   "source": [
    "data_clv.describe()"
   ]
  },
  {
   "cell_type": "markdown",
   "id": "1195c7c6-6565-417e-902d-2b4f2b7f3820",
   "metadata": {},
   "source": [
    "There are some negative values in the Quantity variable and this is mainly because of returns and that causes the negative values in UnitPrice and TotalSales variable as well. Also, there are some other factors such as discount etc., are also contributing to the negative value in price.\n",
    "\n",
    "In our Customer Lifetime Value calculation, we are interested only in the total value a customer can generate to the business over his/her lifetime, we can simply drop negative values in Quantity & UnitPrice and work with only positive values."
   ]
  },
  {
   "cell_type": "code",
   "execution_count": 129,
   "id": "9163c5d0",
   "metadata": {},
   "outputs": [
    {
     "data": {
      "text/html": [
       "<div>\n",
       "<style scoped>\n",
       "    .dataframe tbody tr th:only-of-type {\n",
       "        vertical-align: middle;\n",
       "    }\n",
       "\n",
       "    .dataframe tbody tr th {\n",
       "        vertical-align: top;\n",
       "    }\n",
       "\n",
       "    .dataframe thead th {\n",
       "        text-align: right;\n",
       "    }\n",
       "</style>\n",
       "<table border=\"1\" class=\"dataframe\">\n",
       "  <thead>\n",
       "    <tr style=\"text-align: right;\">\n",
       "      <th></th>\n",
       "      <th>CustomerID</th>\n",
       "      <th>Quantity</th>\n",
       "      <th>UnitPrice</th>\n",
       "      <th>TotalSales</th>\n",
       "    </tr>\n",
       "  </thead>\n",
       "  <tbody>\n",
       "    <tr>\n",
       "      <th>count</th>\n",
       "      <td>397884.000000</td>\n",
       "      <td>530104.000000</td>\n",
       "      <td>530104.000000</td>\n",
       "      <td>530104.000000</td>\n",
       "    </tr>\n",
       "    <tr>\n",
       "      <th>mean</th>\n",
       "      <td>15294.423453</td>\n",
       "      <td>10.542037</td>\n",
       "      <td>3.907625</td>\n",
       "      <td>20.121871</td>\n",
       "    </tr>\n",
       "    <tr>\n",
       "      <th>std</th>\n",
       "      <td>1713.141560</td>\n",
       "      <td>155.524124</td>\n",
       "      <td>35.915681</td>\n",
       "      <td>270.356743</td>\n",
       "    </tr>\n",
       "    <tr>\n",
       "      <th>min</th>\n",
       "      <td>12346.000000</td>\n",
       "      <td>1.000000</td>\n",
       "      <td>0.001000</td>\n",
       "      <td>0.001000</td>\n",
       "    </tr>\n",
       "    <tr>\n",
       "      <th>25%</th>\n",
       "      <td>13969.000000</td>\n",
       "      <td>1.000000</td>\n",
       "      <td>1.250000</td>\n",
       "      <td>3.750000</td>\n",
       "    </tr>\n",
       "    <tr>\n",
       "      <th>50%</th>\n",
       "      <td>15159.000000</td>\n",
       "      <td>3.000000</td>\n",
       "      <td>2.080000</td>\n",
       "      <td>9.900000</td>\n",
       "    </tr>\n",
       "    <tr>\n",
       "      <th>75%</th>\n",
       "      <td>16795.000000</td>\n",
       "      <td>10.000000</td>\n",
       "      <td>4.130000</td>\n",
       "      <td>17.700000</td>\n",
       "    </tr>\n",
       "    <tr>\n",
       "      <th>max</th>\n",
       "      <td>18287.000000</td>\n",
       "      <td>80995.000000</td>\n",
       "      <td>13541.330000</td>\n",
       "      <td>168469.600000</td>\n",
       "    </tr>\n",
       "  </tbody>\n",
       "</table>\n",
       "</div>"
      ],
      "text/plain": [
       "          CustomerID       Quantity      UnitPrice     TotalSales\n",
       "count  397884.000000  530104.000000  530104.000000  530104.000000\n",
       "mean    15294.423453      10.542037       3.907625      20.121871\n",
       "std      1713.141560     155.524124      35.915681     270.356743\n",
       "min     12346.000000       1.000000       0.001000       0.001000\n",
       "25%     13969.000000       1.000000       1.250000       3.750000\n",
       "50%     15159.000000       3.000000       2.080000       9.900000\n",
       "75%     16795.000000      10.000000       4.130000      17.700000\n",
       "max     18287.000000   80995.000000   13541.330000  168469.600000"
      ]
     },
     "execution_count": 129,
     "metadata": {},
     "output_type": "execute_result"
    }
   ],
   "source": [
    "data_clv = data_clv[data_clv['TotalSales'] > 0]\n",
    "data_clv.describe()"
   ]
  },
  {
   "cell_type": "markdown",
   "id": "01625361-9029-4e8b-91db-bdce2d848f84",
   "metadata": {},
   "source": [
    "Let's check for missing values in the data and more importantly check for any missing values in the CustomerID variable."
   ]
  },
  {
   "cell_type": "code",
   "execution_count": 130,
   "id": "70439cbd",
   "metadata": {},
   "outputs": [
    {
     "data": {
      "text/html": [
       "<div>\n",
       "<style scoped>\n",
       "    .dataframe tbody tr th:only-of-type {\n",
       "        vertical-align: middle;\n",
       "    }\n",
       "\n",
       "    .dataframe tbody tr th {\n",
       "        vertical-align: top;\n",
       "    }\n",
       "\n",
       "    .dataframe thead th {\n",
       "        text-align: right;\n",
       "    }\n",
       "</style>\n",
       "<table border=\"1\" class=\"dataframe\">\n",
       "  <thead>\n",
       "    <tr style=\"text-align: right;\">\n",
       "      <th></th>\n",
       "      <th>Count</th>\n",
       "      <th>Proportion</th>\n",
       "    </tr>\n",
       "  </thead>\n",
       "  <tbody>\n",
       "    <tr>\n",
       "      <th>CustomerID</th>\n",
       "      <td>132220</td>\n",
       "      <td>0.249423</td>\n",
       "    </tr>\n",
       "    <tr>\n",
       "      <th>InvoiceNo</th>\n",
       "      <td>0</td>\n",
       "      <td>0.000000</td>\n",
       "    </tr>\n",
       "    <tr>\n",
       "      <th>InvoiceDate</th>\n",
       "      <td>0</td>\n",
       "      <td>0.000000</td>\n",
       "    </tr>\n",
       "    <tr>\n",
       "      <th>Quantity</th>\n",
       "      <td>0</td>\n",
       "      <td>0.000000</td>\n",
       "    </tr>\n",
       "    <tr>\n",
       "      <th>UnitPrice</th>\n",
       "      <td>0</td>\n",
       "      <td>0.000000</td>\n",
       "    </tr>\n",
       "    <tr>\n",
       "      <th>TotalSales</th>\n",
       "      <td>0</td>\n",
       "      <td>0.000000</td>\n",
       "    </tr>\n",
       "  </tbody>\n",
       "</table>\n",
       "</div>"
      ],
      "text/plain": [
       "              Count  Proportion\n",
       "CustomerID   132220    0.249423\n",
       "InvoiceNo         0    0.000000\n",
       "InvoiceDate       0    0.000000\n",
       "Quantity          0    0.000000\n",
       "UnitPrice         0    0.000000\n",
       "TotalSales        0    0.000000"
      ]
     },
     "execution_count": 130,
     "metadata": {},
     "output_type": "execute_result"
    }
   ],
   "source": [
    "pd.DataFrame(zip(data_clv.isnull().sum(), data_clv.isnull().sum()/len(data_clv)), \n",
    "             columns=['Count', 'Proportion'], \n",
    "             index=data_clv.columns)"
   ]
  },
  {
   "cell_type": "markdown",
   "id": "348746da",
   "metadata": {},
   "source": [
    "So, clearly we have around 24% missing values in the CustomerID variable.\n",
    "\n",
    "The main objective of our project is to calculate the lifetime value of each customer. Here each customer is identified by the unique CustomerID.Then How could we able to do that, if we don't have CustomerID in the first place?\n",
    "\n",
    "So, let's drop the null values in the CustomerID variable."
   ]
  },
  {
   "cell_type": "code",
   "execution_count": 9,
   "id": "811ae644",
   "metadata": {},
   "outputs": [
    {
     "data": {
      "text/html": [
       "<div>\n",
       "<style scoped>\n",
       "    .dataframe tbody tr th:only-of-type {\n",
       "        vertical-align: middle;\n",
       "    }\n",
       "\n",
       "    .dataframe tbody tr th {\n",
       "        vertical-align: top;\n",
       "    }\n",
       "\n",
       "    .dataframe thead th {\n",
       "        text-align: right;\n",
       "    }\n",
       "</style>\n",
       "<table border=\"1\" class=\"dataframe\">\n",
       "  <thead>\n",
       "    <tr style=\"text-align: right;\">\n",
       "      <th></th>\n",
       "      <th>Count</th>\n",
       "      <th>Proportion</th>\n",
       "    </tr>\n",
       "  </thead>\n",
       "  <tbody>\n",
       "    <tr>\n",
       "      <th>CustomerID</th>\n",
       "      <td>0</td>\n",
       "      <td>0.0</td>\n",
       "    </tr>\n",
       "    <tr>\n",
       "      <th>InvoiceNo</th>\n",
       "      <td>0</td>\n",
       "      <td>0.0</td>\n",
       "    </tr>\n",
       "    <tr>\n",
       "      <th>InvoiceDate</th>\n",
       "      <td>0</td>\n",
       "      <td>0.0</td>\n",
       "    </tr>\n",
       "    <tr>\n",
       "      <th>Quantity</th>\n",
       "      <td>0</td>\n",
       "      <td>0.0</td>\n",
       "    </tr>\n",
       "    <tr>\n",
       "      <th>UnitPrice</th>\n",
       "      <td>0</td>\n",
       "      <td>0.0</td>\n",
       "    </tr>\n",
       "    <tr>\n",
       "      <th>TotalSales</th>\n",
       "      <td>0</td>\n",
       "      <td>0.0</td>\n",
       "    </tr>\n",
       "  </tbody>\n",
       "</table>\n",
       "</div>"
      ],
      "text/plain": [
       "             Count  Proportion\n",
       "CustomerID       0         0.0\n",
       "InvoiceNo        0         0.0\n",
       "InvoiceDate      0         0.0\n",
       "Quantity         0         0.0\n",
       "UnitPrice        0         0.0\n",
       "TotalSales       0         0.0"
      ]
     },
     "execution_count": 9,
     "metadata": {},
     "output_type": "execute_result"
    }
   ],
   "source": [
    "# Dropping the null values in the CustomerID variable\n",
    "data_clv = data_clv[pd.notnull(data_clv['CustomerID'])]\n",
    "pd.DataFrame(zip(data_clv.isnull().sum(), data_clv.isnull().sum()/len(data_clv)), \n",
    "             columns=['Count', 'Proportion'], index=data_clv.columns)"
   ]
  },
  {
   "cell_type": "code",
   "execution_count": 10,
   "id": "c94edf6b",
   "metadata": {},
   "outputs": [
    {
     "name": "stdout",
     "output_type": "stream",
     "text": [
      "The Time range of transactions is: 2010-12-01 to 2011-12-09\n",
      "Total number of unique customers: 4338\n",
      "Total Quantity Sold: 5167812\n",
      "Total Sales for the period: 8911407.904\n"
     ]
    }
   ],
   "source": [
    "# Printing the details of the dataset\n",
    "maxdate = data_clv['InvoiceDate'].dt.date.max()\n",
    "mindate = data_clv['InvoiceDate'].dt.date.min()\n",
    "unique_cust = data_clv['CustomerID'].nunique()\n",
    "tot_quantity = data_clv['Quantity'].sum()\n",
    "tot_sales = data_clv['TotalSales'].sum()\n",
    "\n",
    "print(f\"The Time range of transactions is: {mindate} to {maxdate}\")\n",
    "print(f\"Total number of unique customers: {unique_cust}\")\n",
    "print(f\"Total Quantity Sold: {tot_quantity}\")\n",
    "print(f\"Total Sales for the period: {tot_sales}\")"
   ]
  },
  {
   "cell_type": "markdown",
   "id": "d37de583",
   "metadata": {},
   "source": [
    "## 1. Aggregate Model\n",
    "The most simplest and the oldest method of computing CLV is this Aggregate/Average method. This assumes a constant average spend and churn rate for all the customers.\n",
    "\n",
    "This method does not differentiate between customers and produces a single value for CLV at an overall Level. This leads to unrealistic estimates if some of the customers transacted in high value and high volume, which ultimately skews the average CLV value.\n",
    "\n",
    "The General Formula for calculating CLV is:\n",
    "\n",
    "**CLV = ((Average Sales X Purchase Frequency) / Churn) X Profit Margin**\n",
    "\n",
    "Where,\n",
    "Average Sales = TotalSales/Total no. of orders\n",
    "\n",
    "Purchase Frequency = Total no. of orders/Total unique customers\n",
    "\n",
    "Retention rate = Total no. of orders greater than 1/ Total unique customers\n",
    "\n",
    "Churn = 1 - Retention rate\n",
    "\n",
    "Profit Margin = Based on business context\n",
    "\n",
    "In this example case, I am assuming the Profit margin for each transaction to be roughly 5%."
   ]
  },
  {
   "cell_type": "code",
   "execution_count": 131,
   "id": "25fe75ff",
   "metadata": {},
   "outputs": [
    {
     "data": {
      "text/html": [
       "<div>\n",
       "<style scoped>\n",
       "    .dataframe tbody tr th:only-of-type {\n",
       "        vertical-align: middle;\n",
       "    }\n",
       "\n",
       "    .dataframe tbody tr th {\n",
       "        vertical-align: top;\n",
       "    }\n",
       "\n",
       "    .dataframe thead th {\n",
       "        text-align: right;\n",
       "    }\n",
       "</style>\n",
       "<table border=\"1\" class=\"dataframe\">\n",
       "  <thead>\n",
       "    <tr style=\"text-align: right;\">\n",
       "      <th></th>\n",
       "      <th>Age</th>\n",
       "      <th>Frequency</th>\n",
       "      <th>TotalSales</th>\n",
       "    </tr>\n",
       "    <tr>\n",
       "      <th>CustomerID</th>\n",
       "      <th></th>\n",
       "      <th></th>\n",
       "      <th></th>\n",
       "    </tr>\n",
       "  </thead>\n",
       "  <tbody>\n",
       "    <tr>\n",
       "      <th>12346.0</th>\n",
       "      <td>0</td>\n",
       "      <td>1</td>\n",
       "      <td>77183.60</td>\n",
       "    </tr>\n",
       "    <tr>\n",
       "      <th>12347.0</th>\n",
       "      <td>365</td>\n",
       "      <td>182</td>\n",
       "      <td>4310.00</td>\n",
       "    </tr>\n",
       "    <tr>\n",
       "      <th>12348.0</th>\n",
       "      <td>282</td>\n",
       "      <td>31</td>\n",
       "      <td>1797.24</td>\n",
       "    </tr>\n",
       "    <tr>\n",
       "      <th>12349.0</th>\n",
       "      <td>0</td>\n",
       "      <td>73</td>\n",
       "      <td>1757.55</td>\n",
       "    </tr>\n",
       "    <tr>\n",
       "      <th>12350.0</th>\n",
       "      <td>0</td>\n",
       "      <td>17</td>\n",
       "      <td>334.40</td>\n",
       "    </tr>\n",
       "  </tbody>\n",
       "</table>\n",
       "</div>"
      ],
      "text/plain": [
       "            Age  Frequency  TotalSales\n",
       "CustomerID                            \n",
       "12346.0       0          1    77183.60\n",
       "12347.0     365        182     4310.00\n",
       "12348.0     282         31     1797.24\n",
       "12349.0       0         73     1757.55\n",
       "12350.0       0         17      334.40"
      ]
     },
     "execution_count": 131,
     "metadata": {},
     "output_type": "execute_result"
    }
   ],
   "source": [
    "# Transforming the data to customer level for the analysis\n",
    "customer = data_clv.groupby('CustomerID').agg({'InvoiceDate':lambda x: (x.max() - x.min()).days, \n",
    "                                                   'InvoiceNo': lambda x: len(x),\n",
    "                                                  'TotalSales': lambda x: sum(x)})\n",
    "\n",
    "customer.columns = ['Age', 'Frequency', 'TotalSales']\n",
    "customer.head()"
   ]
  },
  {
   "cell_type": "code",
   "execution_count": 132,
   "id": "4695be40",
   "metadata": {},
   "outputs": [
    {
     "name": "stdout",
     "output_type": "stream",
     "text": [
      "Average sales: $2054.27\n",
      "Purchase Frequency: 91.72\n",
      "Churn: 0.02%\n"
     ]
    }
   ],
   "source": [
    "# Calculating the necessary variables for CLV calculation\n",
    "Average_sales = round(np.mean(customer['TotalSales']),2)\n",
    "print(f\"Average sales: ${Average_sales}\")\n",
    "\n",
    "Purchase_freq = round(np.mean(customer['Frequency']), 2)\n",
    "print(f\"Purchase Frequency: {Purchase_freq}\")\n",
    "\n",
    "Retention_rate = customer[customer['Frequency']>1].shape[0]/customer.shape[0]\n",
    "churn = round(1 - Retention_rate, 2)\n",
    "print(f\"Churn: {churn}%\")"
   ]
  },
  {
   "cell_type": "code",
   "execution_count": 133,
   "id": "b6394011",
   "metadata": {},
   "outputs": [
    {
     "name": "stdout",
     "output_type": "stream",
     "text": [
      "The Customer Lifetime Value (CLV) for each customer is: $471044.11\n"
     ]
    }
   ],
   "source": [
    "# Calculating the CLV\n",
    "Profit_margin = 0.05 \n",
    "\n",
    "CLV = round(((Average_sales * Purchase_freq/churn)) * Profit_margin, 2)\n",
    "print(f\"The Customer Lifetime Value (CLV) for each customer is: ${CLV}\")"
   ]
  },
  {
   "cell_type": "markdown",
   "id": "c1ace331",
   "metadata": {},
   "source": [
    "From our basic model, we got a CLV value of $471K for each customer. Do you think this number makes sense? Well it doesn't for me!\n",
    "\n",
    "The reason is becasue of the very high sales value from very few customers, which actually skewed the overall number. Also, not all the customers are same right!\n",
    "\n",
    "Take a look at it for yourself:"
   ]
  },
  {
   "cell_type": "code",
   "execution_count": 14,
   "id": "8afbcb3a",
   "metadata": {},
   "outputs": [
    {
     "data": {
      "text/plain": [
       "count      4338.000000\n",
       "mean       2054.266460\n",
       "std        8989.230441\n",
       "min           3.750000\n",
       "25%         307.415000\n",
       "50%         674.485000\n",
       "75%        1661.740000\n",
       "max      280206.020000\n",
       "Name: TotalSales, dtype: float64"
      ]
     },
     "execution_count": 14,
     "metadata": {},
     "output_type": "execute_result"
    }
   ],
   "source": [
    "customer['TotalSales'].describe()"
   ]
  },
  {
   "cell_type": "markdown",
   "id": "4e4fa6de",
   "metadata": {},
   "source": [
    "From the descriptive statistics it is clear that, almost 75% of customers in our data have sales value less than 2000. Whereas, the maximum sales value is around 280k. If you now look at the CLV value, do you think all the customers who transact with the business can really generate over 470K in their lifetime? Definitely not! It varies for each customers or atleast for each customer segments.\n",
    "\n",
    "This is another limitation of this model."
   ]
  },
  {
   "cell_type": "markdown",
   "id": "2c8ecf38",
   "metadata": {},
   "source": [
    "## 2. Cohort Model\n",
    "Instead of simply assuming all the customers to be one group, we can try to split them into multiple groups based and calculate the CLV for each group. This model overcomes the major drawback of the simple Aggregate model which assumes the entire customers as a single group. This is called Cohort model.\n",
    "\n",
    "The main assumption of this model is that, customers within a cohort spend similarly.\n",
    "\n",
    "The most common way to group customers into cohorts is by the start date of a customer, typically by month. The best choice will depend on the customer acquisition rate, seasonality of business, and whether additional customer information can be used.\n",
    "\n",
    "In this case, I am grouping them into different cohorts by their start month. So, I will get 12 cohorts of customers (Jan-Dec)."
   ]
  },
  {
   "cell_type": "code",
   "execution_count": 15,
   "id": "bcd82027",
   "metadata": {},
   "outputs": [
    {
     "data": {
      "text/html": [
       "<div>\n",
       "<style scoped>\n",
       "    .dataframe tbody tr th:only-of-type {\n",
       "        vertical-align: middle;\n",
       "    }\n",
       "\n",
       "    .dataframe tbody tr th {\n",
       "        vertical-align: top;\n",
       "    }\n",
       "\n",
       "    .dataframe thead th {\n",
       "        text-align: right;\n",
       "    }\n",
       "</style>\n",
       "<table border=\"1\" class=\"dataframe\">\n",
       "  <thead>\n",
       "    <tr style=\"text-align: right;\">\n",
       "      <th></th>\n",
       "      <th>Start_Month</th>\n",
       "      <th>Frequency</th>\n",
       "      <th>TotalSales</th>\n",
       "    </tr>\n",
       "    <tr>\n",
       "      <th>CustomerID</th>\n",
       "      <th></th>\n",
       "      <th></th>\n",
       "      <th></th>\n",
       "    </tr>\n",
       "  </thead>\n",
       "  <tbody>\n",
       "    <tr>\n",
       "      <th>12346.0</th>\n",
       "      <td>1</td>\n",
       "      <td>1</td>\n",
       "      <td>77183.60</td>\n",
       "    </tr>\n",
       "    <tr>\n",
       "      <th>12347.0</th>\n",
       "      <td>12</td>\n",
       "      <td>182</td>\n",
       "      <td>4310.00</td>\n",
       "    </tr>\n",
       "    <tr>\n",
       "      <th>12348.0</th>\n",
       "      <td>12</td>\n",
       "      <td>31</td>\n",
       "      <td>1797.24</td>\n",
       "    </tr>\n",
       "    <tr>\n",
       "      <th>12349.0</th>\n",
       "      <td>11</td>\n",
       "      <td>73</td>\n",
       "      <td>1757.55</td>\n",
       "    </tr>\n",
       "    <tr>\n",
       "      <th>12350.0</th>\n",
       "      <td>2</td>\n",
       "      <td>17</td>\n",
       "      <td>334.40</td>\n",
       "    </tr>\n",
       "  </tbody>\n",
       "</table>\n",
       "</div>"
      ],
      "text/plain": [
       "            Start_Month  Frequency  TotalSales\n",
       "CustomerID                                    \n",
       "12346.0               1          1    77183.60\n",
       "12347.0              12        182     4310.00\n",
       "12348.0              12         31     1797.24\n",
       "12349.0              11         73     1757.55\n",
       "12350.0               2         17      334.40"
      ]
     },
     "execution_count": 15,
     "metadata": {},
     "output_type": "execute_result"
    }
   ],
   "source": [
    "# Transforming the data to customer level for the analysis\n",
    "customer = data_clv.groupby('CustomerID').agg({'InvoiceDate':lambda x: x.min().month, \n",
    "                                                   'InvoiceNo': lambda x: len(x),\n",
    "                                                  'TotalSales': lambda x: np.sum(x)})\n",
    "\n",
    "customer.columns = ['Start_Month', 'Frequency', 'TotalSales']\n",
    "customer.head()"
   ]
  },
  {
   "cell_type": "code",
   "execution_count": 16,
   "id": "dd29eba1",
   "metadata": {},
   "outputs": [],
   "source": [
    "# Calculating CLV for each cohort\n",
    "months = ['Jan', 'Feb', 'March', 'Apr', 'May', 'Jun', 'Jul', 'Aug', 'Sep', 'Oct', 'Nov', 'Dec']\n",
    "Monthly_CLV = []\n",
    "\n",
    "for i in range(1, 13):\n",
    "    customer_m = customer[customer['Start_Month']==i]\n",
    "    \n",
    "    Average_sales = round(np.mean(customer_m['TotalSales']),2)\n",
    "    \n",
    "    Purchase_freq = round(np.mean(customer_m['Frequency']), 2)\n",
    "    \n",
    "    Retention_rate = customer_m[customer_m['Frequency']>1].shape[0]/customer_m.shape[0]\n",
    "    churn = round(1 - Retention_rate, 2)\n",
    "    \n",
    "    CLV = round(((Average_sales * Purchase_freq/churn)) * Profit_margin, 2)\n",
    "    \n",
    "    Monthly_CLV.append(CLV)"
   ]
  },
  {
   "cell_type": "code",
   "execution_count": 17,
   "id": "dea0699b",
   "metadata": {},
   "outputs": [
    {
     "data": {
      "text/html": [
       "<div>\n",
       "<style scoped>\n",
       "    .dataframe tbody tr th:only-of-type {\n",
       "        vertical-align: middle;\n",
       "    }\n",
       "\n",
       "    .dataframe tbody tr th {\n",
       "        vertical-align: top;\n",
       "    }\n",
       "\n",
       "    .dataframe thead th {\n",
       "        text-align: right;\n",
       "    }\n",
       "</style>\n",
       "<table border=\"1\" class=\"dataframe\">\n",
       "  <thead>\n",
       "    <tr style=\"text-align: right;\">\n",
       "      <th></th>\n",
       "      <th>Months</th>\n",
       "      <th>CLV</th>\n",
       "    </tr>\n",
       "  </thead>\n",
       "  <tbody>\n",
       "    <tr>\n",
       "      <th>0</th>\n",
       "      <td>Jan</td>\n",
       "      <td>1546537.09</td>\n",
       "    </tr>\n",
       "    <tr>\n",
       "      <th>1</th>\n",
       "      <td>Feb</td>\n",
       "      <td>313073.92</td>\n",
       "    </tr>\n",
       "    <tr>\n",
       "      <th>2</th>\n",
       "      <td>March</td>\n",
       "      <td>539933.18</td>\n",
       "    </tr>\n",
       "    <tr>\n",
       "      <th>3</th>\n",
       "      <td>Apr</td>\n",
       "      <td>349213.35</td>\n",
       "    </tr>\n",
       "    <tr>\n",
       "      <th>4</th>\n",
       "      <td>May</td>\n",
       "      <td>147597.49</td>\n",
       "    </tr>\n",
       "    <tr>\n",
       "      <th>5</th>\n",
       "      <td>Jun</td>\n",
       "      <td>323795.77</td>\n",
       "    </tr>\n",
       "    <tr>\n",
       "      <th>6</th>\n",
       "      <td>Jul</td>\n",
       "      <td>71760.42</td>\n",
       "    </tr>\n",
       "    <tr>\n",
       "      <th>7</th>\n",
       "      <td>Aug</td>\n",
       "      <td>148834.42</td>\n",
       "    </tr>\n",
       "    <tr>\n",
       "      <th>8</th>\n",
       "      <td>Sep</td>\n",
       "      <td>185155.70</td>\n",
       "    </tr>\n",
       "    <tr>\n",
       "      <th>9</th>\n",
       "      <td>Oct</td>\n",
       "      <td>144042.95</td>\n",
       "    </tr>\n",
       "    <tr>\n",
       "      <th>10</th>\n",
       "      <td>Nov</td>\n",
       "      <td>44869.79</td>\n",
       "    </tr>\n",
       "    <tr>\n",
       "      <th>11</th>\n",
       "      <td>Dec</td>\n",
       "      <td>4507588.12</td>\n",
       "    </tr>\n",
       "  </tbody>\n",
       "</table>\n",
       "</div>"
      ],
      "text/plain": [
       "   Months         CLV\n",
       "0     Jan  1546537.09\n",
       "1     Feb   313073.92\n",
       "2   March   539933.18\n",
       "3     Apr   349213.35\n",
       "4     May   147597.49\n",
       "5     Jun   323795.77\n",
       "6     Jul    71760.42\n",
       "7     Aug   148834.42\n",
       "8     Sep   185155.70\n",
       "9     Oct   144042.95\n",
       "10    Nov    44869.79\n",
       "11    Dec  4507588.12"
      ]
     },
     "execution_count": 17,
     "metadata": {},
     "output_type": "execute_result"
    }
   ],
   "source": [
    "monthly_clv = pd.DataFrame(zip(months, Monthly_CLV), columns=['Months', 'CLV'])\n",
    "monthly_clv"
   ]
  },
  {
   "cell_type": "markdown",
   "id": "b3f96db7",
   "metadata": {},
   "source": [
    "Now if you look at the result, we have 12 different CLV value for 12 months from Jan-Dec. And it is pretty clear that, customers who are acquired in different months have different CLV values attached to them. This is because, they could be acquired using different campaigns etc., so thier behaviour might be different from others.\n",
    "\n",
    "Also, if you look at the values for the month of Janaury and December, the CLV values are quite high. This could be a false value, because the data we are using is from a online retails who sell gifts to wholesalers/companies and the festivals like Christmas, Newyear falls on those months. That's why we are seeing a high CLV value for those customers who are started on the month of January and December."
   ]
  },
  {
   "cell_type": "markdown",
   "id": "1bebc38f",
   "metadata": {},
   "source": [
    "## 3. Churn Risk Model with BG/NBD Model (with Gamma-Gamma extension)\n",
    "BG/NBD stands for Beta Geometric/Negative Binomial Distribution.\n",
    "\n",
    "This is one of the most commonly used probabilistic model for predicting the CLV. This is an alternative to the Pareto/NBD model, which is also one of the most used method in CLV calculations. For the sake of this case, we are going to focus only on BG/NBD model, but the steps are similar if you want to try it for Pareto/NBD.\n",
    "\n",
    "To be precise, both the BG/NBD and Pareto/NBD model actually tries to predict the future transactions of each customer. It is then combined with Gamma-Gamma model, which then adds the monetary aspect of the customer transaction and we finally get the customer lifetime value (CLV).\n",
    "\n",
    "The BG/NBD model has few assumptions:\n",
    "\n",
    "1. When a user is active, number of transactions in a time t is described by Poisson distribution with rate lambda.\n",
    "2. Heterogeneity in transaction across users (difference in purchasing behavior across users) has Gamma distribution with shape parameter r and scale parameter a.\n",
    "3. Users may become inactive after any transaction with probability p and their dropout point is distributed between purchases with Geometric distribution.\n",
    "4. Heterogeneity in dropout probability has Beta distribution with the two shape parameters alpha and beta.\n",
    "5. Transaction rate and dropout probability vary independently across users.\n",
    "\n",
    "These are some of the assumptions this model considers for predicting the future transactions of a customer.\n",
    "\n",
    "The model technically fits the distribution to the historic data and learn the distribution parameter and then use them to predict future transactions of a customer.\n",
    "\n",
    "We don't need to worry about carrying out this complex probabilistic model by ourself. There is a Python package called Lifetimes which makes our life much simpler. This package is primarily built to aid customer lifetime value calculations, predicting customer churn, etc. It has all the major models and utility functions which are needed for CLV calculations.\n",
    "\n",
    "In this case, we are going to use just that. Let's jump into the coding."
   ]
  },
  {
   "cell_type": "code",
   "execution_count": 18,
   "id": "f1b80714",
   "metadata": {},
   "outputs": [],
   "source": [
    "# Importing the lifetimes package\n",
    "import lifetimes"
   ]
  },
  {
   "cell_type": "code",
   "execution_count": 38,
   "id": "b1ea3098-456d-435a-85b1-aa102d414a10",
   "metadata": {},
   "outputs": [],
   "source": [
    "from lifetimes.utils import *\n",
    "from lifetimes.plotting import plot_probability_alive_matrix, plot_frequency_recency_matrix, plot_period_transactions, plot_cumulative_transactions,plot_incremental_transactions\n",
    "from lifetimes.generate_data import beta_geometric_nbd_model\n",
    "from lifetimes.plotting import plot_calibration_purchases_vs_holdout_purchases, plot_period_transactions,plot_history_alive"
   ]
  },
  {
   "cell_type": "markdown",
   "id": "bc0b0f4f",
   "metadata": {},
   "source": [
    "First we need to create a summary table from the transactions data. The summary table is nothing but RFM table. (RFM - Recency, Frequency and Monetary value)\n",
    "\n",
    "For this we can use summary_data_from_transactions_data function in lifetimes package. What it does is, it aggregates the transaction level data into customer level and calculates the frequency, recency, T and monetary_value for each customer.\n",
    "\n",
    "* **frequency** - the number of repeat purchases (more than 1 purchases)\n",
    "* **recency** - the time between the first and the last transaction\n",
    "* **T** - the time between the first purchase and the end of the transaction period\n",
    "* **monetary_value** - it is the mean of a given customers sales value\n",
    "\n",
    "NOTE: If you closely look at the definition of recency and T, you can find that, the actual value of recency should be (T - recency), because the definition of recency is how recent a customer made a transaction with the business."
   ]
  },
  {
   "cell_type": "code",
   "execution_count": 135,
   "id": "38b31d00",
   "metadata": {},
   "outputs": [
    {
     "data": {
      "text/html": [
       "<div>\n",
       "<style scoped>\n",
       "    .dataframe tbody tr th:only-of-type {\n",
       "        vertical-align: middle;\n",
       "    }\n",
       "\n",
       "    .dataframe tbody tr th {\n",
       "        vertical-align: top;\n",
       "    }\n",
       "\n",
       "    .dataframe thead th {\n",
       "        text-align: right;\n",
       "    }\n",
       "</style>\n",
       "<table border=\"1\" class=\"dataframe\">\n",
       "  <thead>\n",
       "    <tr style=\"text-align: right;\">\n",
       "      <th></th>\n",
       "      <th>CustomerID</th>\n",
       "      <th>frequency</th>\n",
       "      <th>recency</th>\n",
       "      <th>T</th>\n",
       "      <th>monetary_value</th>\n",
       "    </tr>\n",
       "  </thead>\n",
       "  <tbody>\n",
       "    <tr>\n",
       "      <th>0</th>\n",
       "      <td>12346.0</td>\n",
       "      <td>0.0</td>\n",
       "      <td>0.0</td>\n",
       "      <td>325.0</td>\n",
       "      <td>0.000000</td>\n",
       "    </tr>\n",
       "    <tr>\n",
       "      <th>1</th>\n",
       "      <td>12347.0</td>\n",
       "      <td>6.0</td>\n",
       "      <td>365.0</td>\n",
       "      <td>367.0</td>\n",
       "      <td>599.701667</td>\n",
       "    </tr>\n",
       "    <tr>\n",
       "      <th>2</th>\n",
       "      <td>12348.0</td>\n",
       "      <td>3.0</td>\n",
       "      <td>283.0</td>\n",
       "      <td>358.0</td>\n",
       "      <td>301.480000</td>\n",
       "    </tr>\n",
       "    <tr>\n",
       "      <th>3</th>\n",
       "      <td>12349.0</td>\n",
       "      <td>0.0</td>\n",
       "      <td>0.0</td>\n",
       "      <td>18.0</td>\n",
       "      <td>0.000000</td>\n",
       "    </tr>\n",
       "    <tr>\n",
       "      <th>4</th>\n",
       "      <td>12350.0</td>\n",
       "      <td>0.0</td>\n",
       "      <td>0.0</td>\n",
       "      <td>310.0</td>\n",
       "      <td>0.000000</td>\n",
       "    </tr>\n",
       "  </tbody>\n",
       "</table>\n",
       "</div>"
      ],
      "text/plain": [
       "   CustomerID  frequency  recency      T  monetary_value\n",
       "0     12346.0        0.0      0.0  325.0        0.000000\n",
       "1     12347.0        6.0    365.0  367.0      599.701667\n",
       "2     12348.0        3.0    283.0  358.0      301.480000\n",
       "3     12349.0        0.0      0.0   18.0        0.000000\n",
       "4     12350.0        0.0      0.0  310.0        0.000000"
      ]
     },
     "execution_count": 135,
     "metadata": {},
     "output_type": "execute_result"
    }
   ],
   "source": [
    "# Creating the summary data using summary_data_from_transaction_data function\n",
    "summary = lifetimes.utils.summary_data_from_transaction_data(data_clv, 'CustomerID', 'InvoiceDate', 'TotalSales' )\n",
    "summary = summary.reset_index()\n",
    "summary.head()"
   ]
  },
  {
   "cell_type": "code",
   "execution_count": 136,
   "id": "2fffdd55-b2df-4491-90ee-4253661e7ea7",
   "metadata": {},
   "outputs": [
    {
     "data": {
      "text/html": [
       "<div>\n",
       "<style scoped>\n",
       "    .dataframe tbody tr th:only-of-type {\n",
       "        vertical-align: middle;\n",
       "    }\n",
       "\n",
       "    .dataframe tbody tr th {\n",
       "        vertical-align: top;\n",
       "    }\n",
       "\n",
       "    .dataframe thead th {\n",
       "        text-align: right;\n",
       "    }\n",
       "</style>\n",
       "<table border=\"1\" class=\"dataframe\">\n",
       "  <thead>\n",
       "    <tr style=\"text-align: right;\">\n",
       "      <th></th>\n",
       "      <th>CustomerID</th>\n",
       "      <th>frequency</th>\n",
       "      <th>recency</th>\n",
       "      <th>T</th>\n",
       "      <th>monetary_value</th>\n",
       "    </tr>\n",
       "  </thead>\n",
       "  <tbody>\n",
       "    <tr>\n",
       "      <th>count</th>\n",
       "      <td>4338.000000</td>\n",
       "      <td>4338.000000</td>\n",
       "      <td>4338.000000</td>\n",
       "      <td>4338.000000</td>\n",
       "      <td>4338.000000</td>\n",
       "    </tr>\n",
       "    <tr>\n",
       "      <th>mean</th>\n",
       "      <td>15300.408022</td>\n",
       "      <td>2.864223</td>\n",
       "      <td>130.771554</td>\n",
       "      <td>222.831028</td>\n",
       "      <td>307.028848</td>\n",
       "    </tr>\n",
       "    <tr>\n",
       "      <th>std</th>\n",
       "      <td>1721.808492</td>\n",
       "      <td>5.949000</td>\n",
       "      <td>132.210509</td>\n",
       "      <td>117.854570</td>\n",
       "      <td>2612.749850</td>\n",
       "    </tr>\n",
       "    <tr>\n",
       "      <th>min</th>\n",
       "      <td>12346.000000</td>\n",
       "      <td>0.000000</td>\n",
       "      <td>0.000000</td>\n",
       "      <td>0.000000</td>\n",
       "      <td>0.000000</td>\n",
       "    </tr>\n",
       "    <tr>\n",
       "      <th>25%</th>\n",
       "      <td>13813.250000</td>\n",
       "      <td>0.000000</td>\n",
       "      <td>0.000000</td>\n",
       "      <td>112.000000</td>\n",
       "      <td>0.000000</td>\n",
       "    </tr>\n",
       "    <tr>\n",
       "      <th>50%</th>\n",
       "      <td>15299.500000</td>\n",
       "      <td>1.000000</td>\n",
       "      <td>93.000000</td>\n",
       "      <td>248.000000</td>\n",
       "      <td>177.064773</td>\n",
       "    </tr>\n",
       "    <tr>\n",
       "      <th>75%</th>\n",
       "      <td>16778.750000</td>\n",
       "      <td>3.000000</td>\n",
       "      <td>252.000000</td>\n",
       "      <td>326.000000</td>\n",
       "      <td>360.162500</td>\n",
       "    </tr>\n",
       "    <tr>\n",
       "      <th>max</th>\n",
       "      <td>18287.000000</td>\n",
       "      <td>131.000000</td>\n",
       "      <td>373.000000</td>\n",
       "      <td>373.000000</td>\n",
       "      <td>168469.600000</td>\n",
       "    </tr>\n",
       "  </tbody>\n",
       "</table>\n",
       "</div>"
      ],
      "text/plain": [
       "         CustomerID    frequency      recency            T  monetary_value\n",
       "count   4338.000000  4338.000000  4338.000000  4338.000000     4338.000000\n",
       "mean   15300.408022     2.864223   130.771554   222.831028      307.028848\n",
       "std     1721.808492     5.949000   132.210509   117.854570     2612.749850\n",
       "min    12346.000000     0.000000     0.000000     0.000000        0.000000\n",
       "25%    13813.250000     0.000000     0.000000   112.000000        0.000000\n",
       "50%    15299.500000     1.000000    93.000000   248.000000      177.064773\n",
       "75%    16778.750000     3.000000   252.000000   326.000000      360.162500\n",
       "max    18287.000000   131.000000   373.000000   373.000000   168469.600000"
      ]
     },
     "execution_count": 136,
     "metadata": {},
     "output_type": "execute_result"
    }
   ],
   "source": [
    "summary.describe()"
   ]
  },
  {
   "cell_type": "markdown",
   "id": "3d1e2ce5",
   "metadata": {},
   "source": [
    "Here the value of 0 in frequency and recency means that, these are one time buyers. Let's check how many such one time buyers are there in our data."
   ]
  },
  {
   "cell_type": "code",
   "execution_count": 137,
   "id": "47e340e3",
   "metadata": {},
   "outputs": [
    {
     "name": "stdout",
     "output_type": "stream",
     "text": [
      "count    4338.000000\n",
      "mean        2.864223\n",
      "std         5.949000\n",
      "min         0.000000\n",
      "25%         0.000000\n",
      "50%         1.000000\n",
      "75%         3.000000\n",
      "max       131.000000\n",
      "Name: frequency, dtype: float64\n",
      "---------------------------------------\n",
      "Percentage of customers purchase the item only once: 35.68 %\n"
     ]
    },
    {
     "data": {
      "image/png": "[encoded data removed]",
      "text/plain": [
       "<Figure size 432x288 with 1 Axes>"
      ]
     },
     "metadata": {},
     "output_type": "display_data"
    }
   ],
   "source": [
    "# Create a distribution of frequency to understand the customer frequence level\n",
    "summary['frequency'].plot(kind='hist', bins=50)\n",
    "print(summary['frequency'].describe())\n",
    "print(\"---------------------------------------\")\n",
    "one_time_buyers = round(sum(summary['frequency'] == 0)/float(len(summary))*(100),2)\n",
    "print(\"Percentage of customers purchase the item only once:\", one_time_buyers ,\"%\")"
   ]
  },
  {
   "cell_type": "markdown",
   "id": "b49890e7",
   "metadata": {},
   "source": [
    "Now, let's fit the BG/NBD model to our summary data.\n",
    "\n",
    "BG/NBD model is available as BetaGeoFitter class in lifetimes package."
   ]
  },
  {
   "cell_type": "code",
   "execution_count": 138,
   "id": "d89013ff",
   "metadata": {},
   "outputs": [
    {
     "data": {
      "text/plain": [
       "<lifetimes.BetaGeoFitter: fitted with 4338 subjects, a: 0.00, alpha: 68.91, b: 6.75, r: 0.83>"
      ]
     },
     "execution_count": 138,
     "metadata": {},
     "output_type": "execute_result"
    }
   ],
   "source": [
    "# Fitting the BG/NBD model\n",
    "bgf = lifetimes.BetaGeoFitter(penalizer_coef=0.0)\n",
    "bgf.fit(summary['frequency'], summary['recency'], summary['T'])"
   ]
  },
  {
   "cell_type": "code",
   "execution_count": 139,
   "id": "90ed8109",
   "metadata": {},
   "outputs": [
    {
     "data": {
      "text/html": [
       "<div>\n",
       "<style scoped>\n",
       "    .dataframe tbody tr th:only-of-type {\n",
       "        vertical-align: middle;\n",
       "    }\n",
       "\n",
       "    .dataframe tbody tr th {\n",
       "        vertical-align: top;\n",
       "    }\n",
       "\n",
       "    .dataframe thead th {\n",
       "        text-align: right;\n",
       "    }\n",
       "</style>\n",
       "<table border=\"1\" class=\"dataframe\">\n",
       "  <thead>\n",
       "    <tr style=\"text-align: right;\">\n",
       "      <th></th>\n",
       "      <th>coef</th>\n",
       "      <th>se(coef)</th>\n",
       "      <th>lower 95% bound</th>\n",
       "      <th>upper 95% bound</th>\n",
       "    </tr>\n",
       "  </thead>\n",
       "  <tbody>\n",
       "    <tr>\n",
       "      <th>r</th>\n",
       "      <td>0.826542</td>\n",
       "      <td>0.026785</td>\n",
       "      <td>0.774044</td>\n",
       "      <td>0.879040</td>\n",
       "    </tr>\n",
       "    <tr>\n",
       "      <th>alpha</th>\n",
       "      <td>68.905121</td>\n",
       "      <td>2.611786</td>\n",
       "      <td>63.786020</td>\n",
       "      <td>74.024221</td>\n",
       "    </tr>\n",
       "    <tr>\n",
       "      <th>a</th>\n",
       "      <td>0.003437</td>\n",
       "      <td>0.010339</td>\n",
       "      <td>-0.016828</td>\n",
       "      <td>0.023702</td>\n",
       "    </tr>\n",
       "    <tr>\n",
       "      <th>b</th>\n",
       "      <td>6.745116</td>\n",
       "      <td>22.414725</td>\n",
       "      <td>-37.187745</td>\n",
       "      <td>50.677978</td>\n",
       "    </tr>\n",
       "  </tbody>\n",
       "</table>\n",
       "</div>"
      ],
      "text/plain": [
       "            coef   se(coef)  lower 95% bound  upper 95% bound\n",
       "r       0.826542   0.026785         0.774044         0.879040\n",
       "alpha  68.905121   2.611786        63.786020        74.024221\n",
       "a       0.003437   0.010339        -0.016828         0.023702\n",
       "b       6.745116  22.414725       -37.187745        50.677978"
      ]
     },
     "execution_count": 139,
     "metadata": {},
     "output_type": "execute_result"
    }
   ],
   "source": [
    "# Model summary\n",
    "bgf.summary"
   ]
  },
  {
   "cell_type": "markdown",
   "id": "53170fd9",
   "metadata": {},
   "source": [
    "The above table shows the estimated distribution parameter values from the historical data. The model now uses this to predict the future transactions and the customer churn rate.\n",
    "\n",
    "So, let's say you want to know whether a customer is now alive or not (or predict customer churn) based on the historical data. The lifetimes package provides a way to accomplish that task. You can use:\n",
    "\n",
    "1. **model.conditional_probability_alive()**: This method computes the probability that a customer with history (frequency, recency, T) is currently alive.\n",
    "\n",
    "2. **plot_probabilty_alive_matrix(model)**: This function from lifetimes.plotting will help to visually analyze the relationship between recency & frequency and the customer being alive."
   ]
  },
  {
   "cell_type": "code",
   "execution_count": 140,
   "id": "17e66b4d",
   "metadata": {},
   "outputs": [
    {
     "data": {
      "text/html": [
       "<div>\n",
       "<style scoped>\n",
       "    .dataframe tbody tr th:only-of-type {\n",
       "        vertical-align: middle;\n",
       "    }\n",
       "\n",
       "    .dataframe tbody tr th {\n",
       "        vertical-align: top;\n",
       "    }\n",
       "\n",
       "    .dataframe thead th {\n",
       "        text-align: right;\n",
       "    }\n",
       "</style>\n",
       "<table border=\"1\" class=\"dataframe\">\n",
       "  <thead>\n",
       "    <tr style=\"text-align: right;\">\n",
       "      <th></th>\n",
       "      <th>CustomerID</th>\n",
       "      <th>frequency</th>\n",
       "      <th>recency</th>\n",
       "      <th>T</th>\n",
       "      <th>monetary_value</th>\n",
       "      <th>probability_alive</th>\n",
       "    </tr>\n",
       "  </thead>\n",
       "  <tbody>\n",
       "    <tr>\n",
       "      <th>0</th>\n",
       "      <td>12346.0</td>\n",
       "      <td>0.0</td>\n",
       "      <td>0.0</td>\n",
       "      <td>325.0</td>\n",
       "      <td>0.000000</td>\n",
       "      <td>1.000000</td>\n",
       "    </tr>\n",
       "    <tr>\n",
       "      <th>1</th>\n",
       "      <td>12347.0</td>\n",
       "      <td>6.0</td>\n",
       "      <td>365.0</td>\n",
       "      <td>367.0</td>\n",
       "      <td>599.701667</td>\n",
       "      <td>0.999698</td>\n",
       "    </tr>\n",
       "    <tr>\n",
       "      <th>2</th>\n",
       "      <td>12348.0</td>\n",
       "      <td>3.0</td>\n",
       "      <td>283.0</td>\n",
       "      <td>358.0</td>\n",
       "      <td>301.480000</td>\n",
       "      <td>0.999177</td>\n",
       "    </tr>\n",
       "    <tr>\n",
       "      <th>3</th>\n",
       "      <td>12349.0</td>\n",
       "      <td>0.0</td>\n",
       "      <td>0.0</td>\n",
       "      <td>18.0</td>\n",
       "      <td>0.000000</td>\n",
       "      <td>1.000000</td>\n",
       "    </tr>\n",
       "    <tr>\n",
       "      <th>4</th>\n",
       "      <td>12350.0</td>\n",
       "      <td>0.0</td>\n",
       "      <td>0.0</td>\n",
       "      <td>310.0</td>\n",
       "      <td>0.000000</td>\n",
       "      <td>1.000000</td>\n",
       "    </tr>\n",
       "    <tr>\n",
       "      <th>5</th>\n",
       "      <td>12352.0</td>\n",
       "      <td>6.0</td>\n",
       "      <td>260.0</td>\n",
       "      <td>296.0</td>\n",
       "      <td>368.256667</td>\n",
       "      <td>0.999406</td>\n",
       "    </tr>\n",
       "    <tr>\n",
       "      <th>6</th>\n",
       "      <td>12353.0</td>\n",
       "      <td>0.0</td>\n",
       "      <td>0.0</td>\n",
       "      <td>204.0</td>\n",
       "      <td>0.000000</td>\n",
       "      <td>1.000000</td>\n",
       "    </tr>\n",
       "    <tr>\n",
       "      <th>7</th>\n",
       "      <td>12354.0</td>\n",
       "      <td>0.0</td>\n",
       "      <td>0.0</td>\n",
       "      <td>232.0</td>\n",
       "      <td>0.000000</td>\n",
       "      <td>1.000000</td>\n",
       "    </tr>\n",
       "    <tr>\n",
       "      <th>8</th>\n",
       "      <td>12355.0</td>\n",
       "      <td>0.0</td>\n",
       "      <td>0.0</td>\n",
       "      <td>214.0</td>\n",
       "      <td>0.000000</td>\n",
       "      <td>1.000000</td>\n",
       "    </tr>\n",
       "    <tr>\n",
       "      <th>9</th>\n",
       "      <td>12356.0</td>\n",
       "      <td>2.0</td>\n",
       "      <td>303.0</td>\n",
       "      <td>325.0</td>\n",
       "      <td>269.905000</td>\n",
       "      <td>0.999478</td>\n",
       "    </tr>\n",
       "  </tbody>\n",
       "</table>\n",
       "</div>"
      ],
      "text/plain": [
       "   CustomerID  frequency  recency      T  monetary_value  probability_alive\n",
       "0     12346.0        0.0      0.0  325.0        0.000000           1.000000\n",
       "1     12347.0        6.0    365.0  367.0      599.701667           0.999698\n",
       "2     12348.0        3.0    283.0  358.0      301.480000           0.999177\n",
       "3     12349.0        0.0      0.0   18.0        0.000000           1.000000\n",
       "4     12350.0        0.0      0.0  310.0        0.000000           1.000000\n",
       "5     12352.0        6.0    260.0  296.0      368.256667           0.999406\n",
       "6     12353.0        0.0      0.0  204.0        0.000000           1.000000\n",
       "7     12354.0        0.0      0.0  232.0        0.000000           1.000000\n",
       "8     12355.0        0.0      0.0  214.0        0.000000           1.000000\n",
       "9     12356.0        2.0    303.0  325.0      269.905000           0.999478"
      ]
     },
     "execution_count": 140,
     "metadata": {},
     "output_type": "execute_result"
    }
   ],
   "source": [
    "# Compute the customer alive probability\n",
    "summary['probability_alive'] = bgf.conditional_probability_alive(summary['frequency'], summary['recency'], summary['T'])\n",
    "summary.head(10)"
   ]
  },
  {
   "cell_type": "code",
   "execution_count": 143,
   "id": "82a5ea3a-b582-4f07-be20-fd40e9269fbf",
   "metadata": {},
   "outputs": [
    {
     "data": {
      "text/plain": [
       "<AxesSubplot:title={'center':'Expected Number of Future Purchases for 1 Unit of Time,\\nby Frequency and Recency of a Customer'}, xlabel=\"Customer's Historical Frequency\", ylabel=\"Customer's Recency\">"
      ]
     },
     "execution_count": 143,
     "metadata": {},
     "output_type": "execute_result"
    },
    {
     "data": {
      "image/png": "[encoded data removed]",
      "text/plain": [
       "<Figure size 864x576 with 2 Axes>"
      ]
     },
     "metadata": {},
     "output_type": "display_data"
    }
   ],
   "source": [
    "from lifetimes.plotting import plot_frequency_recency_matrix\n",
    "\n",
    "fig = plt.figure(figsize=(12,8))\n",
    "plot_frequency_recency_matrix(bgf)"
   ]
  },
  {
   "cell_type": "markdown",
   "id": "040e6dc6-ea56-4405-8552-003918492263",
   "metadata": {},
   "source": [
    "We can see that if a customer has bought 100 times from you, and their latest purchase was when they were 320 days old (given the individual is 320 weeks old), then they are your best customer (bottom-right). Your coldest customers are those that are in the top-right corner: they bought a lot quickly, and we haven’t seen them in weeks.\n",
    "\n",
    "There’s also that beautiful “tail” around (20,250). That represents the customer who buys infrequently, but we’ve seen him or her recently, so they might buy again - we’re not sure if they are dead or just between purchases."
   ]
  },
  {
   "cell_type": "code",
   "execution_count": 141,
   "id": "82e0c81d",
   "metadata": {},
   "outputs": [
    {
     "data": {
      "text/plain": [
       "<AxesSubplot:title={'center':'Probability Customer is Alive,\\nby Frequency and Recency of a Customer'}, xlabel=\"Customer's Historical Frequency\", ylabel=\"Customer's Recency\">"
      ]
     },
     "execution_count": 141,
     "metadata": {},
     "output_type": "execute_result"
    },
    {
     "data": {
      "image/png": "[encoded data removed]",
      "text/plain": [
       "<Figure size 864x576 with 2 Axes>"
      ]
     },
     "metadata": {},
     "output_type": "display_data"
    }
   ],
   "source": [
    "# Visual representation of relationship between recency and frequency\n",
    "from lifetimes.plotting import plot_probability_alive_matrix\n",
    "\n",
    "fig = plt.figure(figsize=(12,8))\n",
    "plot_probability_alive_matrix(bgf)"
   ]
  },
  {
   "cell_type": "markdown",
   "id": "ba8be01f",
   "metadata": {},
   "source": [
    "Let me explain the above two results.\n",
    "\n",
    "The probabilty of being alive is calculated based on the recency and frequency of a customer. So,\n",
    "\n",
    "* If a customer has bought multiple times (frequency) and the time between first & last transaction is high (recency), then his/her probability being alive is high.\n",
    "* Similarly, if a customer has less frequency (bought once or twice) and the time between first & last transaction is low (recency), then his/her probability being alive is high.\n",
    "\n",
    "Next thing we can do with this trained model is to predict the likely future transactions for each customer. You can use:\n",
    "\n",
    "1. **model.conditional_expected_number_of_purchases_up_to_time():** Calculate the expected number of repeat purchases up to time t for a randomly chosen individual from the population (or the whole population), given they have purchase history (frequency, recency, T)."
   ]
  },
  {
   "cell_type": "code",
   "execution_count": 142,
   "id": "49c48895",
   "metadata": {},
   "outputs": [
    {
     "data": {
      "text/html": [
       "<div>\n",
       "<style scoped>\n",
       "    .dataframe tbody tr th:only-of-type {\n",
       "        vertical-align: middle;\n",
       "    }\n",
       "\n",
       "    .dataframe tbody tr th {\n",
       "        vertical-align: top;\n",
       "    }\n",
       "\n",
       "    .dataframe thead th {\n",
       "        text-align: right;\n",
       "    }\n",
       "</style>\n",
       "<table border=\"1\" class=\"dataframe\">\n",
       "  <thead>\n",
       "    <tr style=\"text-align: right;\">\n",
       "      <th></th>\n",
       "      <th>index</th>\n",
       "      <th>CustomerID</th>\n",
       "      <th>frequency</th>\n",
       "      <th>recency</th>\n",
       "      <th>T</th>\n",
       "      <th>monetary_value</th>\n",
       "      <th>probability_alive</th>\n",
       "      <th>pred_num_txn</th>\n",
       "    </tr>\n",
       "  </thead>\n",
       "  <tbody>\n",
       "    <tr>\n",
       "      <th>0</th>\n",
       "      <td>1879</td>\n",
       "      <td>14911.0</td>\n",
       "      <td>131.0</td>\n",
       "      <td>372.0</td>\n",
       "      <td>373.0</td>\n",
       "      <td>1093.661679</td>\n",
       "      <td>0.999966</td>\n",
       "      <td>8.95</td>\n",
       "    </tr>\n",
       "    <tr>\n",
       "      <th>1</th>\n",
       "      <td>326</td>\n",
       "      <td>12748.0</td>\n",
       "      <td>112.0</td>\n",
       "      <td>373.0</td>\n",
       "      <td>373.0</td>\n",
       "      <td>301.024821</td>\n",
       "      <td>0.999971</td>\n",
       "      <td>7.66</td>\n",
       "    </tr>\n",
       "    <tr>\n",
       "      <th>2</th>\n",
       "      <td>4010</td>\n",
       "      <td>17841.0</td>\n",
       "      <td>111.0</td>\n",
       "      <td>372.0</td>\n",
       "      <td>373.0</td>\n",
       "      <td>364.452162</td>\n",
       "      <td>0.999962</td>\n",
       "      <td>7.59</td>\n",
       "    </tr>\n",
       "    <tr>\n",
       "      <th>3</th>\n",
       "      <td>2176</td>\n",
       "      <td>15311.0</td>\n",
       "      <td>89.0</td>\n",
       "      <td>373.0</td>\n",
       "      <td>373.0</td>\n",
       "      <td>677.729438</td>\n",
       "      <td>0.999964</td>\n",
       "      <td>6.10</td>\n",
       "    </tr>\n",
       "    <tr>\n",
       "      <th>4</th>\n",
       "      <td>1661</td>\n",
       "      <td>14606.0</td>\n",
       "      <td>88.0</td>\n",
       "      <td>372.0</td>\n",
       "      <td>373.0</td>\n",
       "      <td>135.890114</td>\n",
       "      <td>0.999955</td>\n",
       "      <td>6.03</td>\n",
       "    </tr>\n",
       "    <tr>\n",
       "      <th>5</th>\n",
       "      <td>481</td>\n",
       "      <td>12971.0</td>\n",
       "      <td>70.0</td>\n",
       "      <td>369.0</td>\n",
       "      <td>372.0</td>\n",
       "      <td>159.211286</td>\n",
       "      <td>0.999926</td>\n",
       "      <td>4.82</td>\n",
       "    </tr>\n",
       "    <tr>\n",
       "      <th>6</th>\n",
       "      <td>562</td>\n",
       "      <td>13089.0</td>\n",
       "      <td>65.0</td>\n",
       "      <td>367.0</td>\n",
       "      <td>369.0</td>\n",
       "      <td>893.714308</td>\n",
       "      <td>0.999934</td>\n",
       "      <td>4.51</td>\n",
       "    </tr>\n",
       "    <tr>\n",
       "      <th>7</th>\n",
       "      <td>1602</td>\n",
       "      <td>14527.0</td>\n",
       "      <td>53.0</td>\n",
       "      <td>367.0</td>\n",
       "      <td>369.0</td>\n",
       "      <td>155.016415</td>\n",
       "      <td>0.999925</td>\n",
       "      <td>3.69</td>\n",
       "    </tr>\n",
       "    <tr>\n",
       "      <th>8</th>\n",
       "      <td>1069</td>\n",
       "      <td>13798.0</td>\n",
       "      <td>52.0</td>\n",
       "      <td>371.0</td>\n",
       "      <td>372.0</td>\n",
       "      <td>706.650962</td>\n",
       "      <td>0.999933</td>\n",
       "      <td>3.59</td>\n",
       "    </tr>\n",
       "    <tr>\n",
       "      <th>9</th>\n",
       "      <td>2990</td>\n",
       "      <td>16422.0</td>\n",
       "      <td>47.0</td>\n",
       "      <td>352.0</td>\n",
       "      <td>369.0</td>\n",
       "      <td>702.472340</td>\n",
       "      <td>0.999567</td>\n",
       "      <td>3.27</td>\n",
       "    </tr>\n",
       "  </tbody>\n",
       "</table>\n",
       "</div>"
      ],
      "text/plain": [
       "   index  CustomerID  frequency  recency      T  monetary_value  \\\n",
       "0   1879     14911.0      131.0    372.0  373.0     1093.661679   \n",
       "1    326     12748.0      112.0    373.0  373.0      301.024821   \n",
       "2   4010     17841.0      111.0    372.0  373.0      364.452162   \n",
       "3   2176     15311.0       89.0    373.0  373.0      677.729438   \n",
       "4   1661     14606.0       88.0    372.0  373.0      135.890114   \n",
       "5    481     12971.0       70.0    369.0  372.0      159.211286   \n",
       "6    562     13089.0       65.0    367.0  369.0      893.714308   \n",
       "7   1602     14527.0       53.0    367.0  369.0      155.016415   \n",
       "8   1069     13798.0       52.0    371.0  372.0      706.650962   \n",
       "9   2990     16422.0       47.0    352.0  369.0      702.472340   \n",
       "\n",
       "   probability_alive  pred_num_txn  \n",
       "0           0.999966          8.95  \n",
       "1           0.999971          7.66  \n",
       "2           0.999962          7.59  \n",
       "3           0.999964          6.10  \n",
       "4           0.999955          6.03  \n",
       "5           0.999926          4.82  \n",
       "6           0.999934          4.51  \n",
       "7           0.999925          3.69  \n",
       "8           0.999933          3.59  \n",
       "9           0.999567          3.27  "
      ]
     },
     "execution_count": 142,
     "metadata": {},
     "output_type": "execute_result"
    }
   ],
   "source": [
    "#Predict future transaction for the next 30 days based on historical dataa\n",
    "t = 30\n",
    "summary['pred_num_txn'] = round(bgf.conditional_expected_number_of_purchases_up_to_time(t, summary['frequency'], summary['recency'], summary['T']),2)\n",
    "summary.sort_values(by='pred_num_txn', ascending=False).head(10).reset_index()"
   ]
  },
  {
   "cell_type": "markdown",
   "id": "dc6485e0",
   "metadata": {},
   "source": [
    "We now have the prediction for number of purchases a customer will make in the next 10 days.\n",
    "\n",
    "To check whether the predicted number makes sense, we can try something like this:\n",
    "\n",
    "Let's take CustomerID - 14911,\n",
    "\n",
    "*In 372 days, he purchased 131 times. So, in one day he purchases 131/372 = 0.352 times. Hence, for 30 days = 0.352\\*30 = 10.56 times.*\n",
    "\n",
    "Here, our predicted result is **8.95**, which is close to the manual probability prediction we did above. The reason for the difference is caused by the various assumptions about the customers, such as the dropout rate, customers lifetime being modeled as exponential distribution, etc.\n",
    "\n",
    "Now that we predicted the expected future transactions, we now need to predict the future monetary value of each transactions.\n",
    "\n",
    "Like I have previously mentioned above, the BG/NBD model can only be able to predict the future transactions and churn rate of a customer. In order to add the monetary aspect of the problem, we have to model the monetary value using the **Gamma-Gamma Model**.\n",
    "\n",
    "Some of the key assumptions of Gamma-Gamma model are:\n",
    "\n",
    "1. The monetary value of a customer's given transaction varies randomly around their average transaction value.\n",
    "2. Average transaction value varies across customers but do not vary over time for any given customer.\n",
    "3. The distribution of average transaction values across customers is independent of the transaction process.\n",
    "\n",
    "As a first step before fitting the model to the data, we have to check whether the assumptions made by the model holds good for the data. Only if it satisfies, we have proceed further.\n",
    "\n",
    "Out of the three, the final assumption can be validated. What it means is that, there is no relationship between frequency and monetary value of transactions. This can be easily validated using Pearson correlation.\n",
    "\n",
    "NOTE: We are considering only customers who made repeat purchases with the business i.e., frequency > 0. Because, if frequency is 0, it means that they are one time customer and are considered already dead."
   ]
  },
  {
   "cell_type": "markdown",
   "id": "8a616317-6131-4281-a97b-2fdd9f93f7ad",
   "metadata": {},
   "source": [
    "### 1) Calibration period histogram: does the model fit the training data?"
   ]
  },
  {
   "cell_type": "code",
   "execution_count": 144,
   "id": "2711b642-f68f-4951-b44d-2d4ca917ff04",
   "metadata": {},
   "outputs": [
    {
     "data": {
      "image/png": "[encoded data removed]",
      "text/plain": [
       "<Figure size 432x288 with 1 Axes>"
      ]
     },
     "metadata": {},
     "output_type": "display_data"
    }
   ],
   "source": [
    "plot_period_transactions(bgf).set_yscale('log');"
   ]
  },
  {
   "cell_type": "markdown",
   "id": "a91bb88f-a212-4fa7-a44d-c062b3001590",
   "metadata": {},
   "source": [
    "\n",
    "The model is fairly representative of the real data up until four repeat transactions. There are few customers who make more purchases."
   ]
  },
  {
   "cell_type": "markdown",
   "id": "a8ada9ce-933d-423c-b6d5-ab989243a12c",
   "metadata": {},
   "source": [
    "### 2) Cumulative transaction plot"
   ]
  },
  {
   "cell_type": "code",
   "execution_count": 59,
   "id": "fc3ad511-a038-4a58-96a9-ef73b795b5c1",
   "metadata": {},
   "outputs": [],
   "source": [
    "from datetime import timedelta\n",
    "\n",
    "# define end of calibration period\n",
    "holdout_days = 90\n",
    "calibration_end_date = maxdate - timedelta(days = holdout_days)"
   ]
  },
  {
   "cell_type": "code",
   "execution_count": 60,
   "id": "f5fc36d8-263b-4cec-adba-590391c380c2",
   "metadata": {},
   "outputs": [
    {
     "name": "stdout",
     "output_type": "stream",
     "text": [
      "holout_day : 90 \n",
      "calibration_end_date : 2011-09-10 \n",
      "observation_period_end : 2011-12-09 \n"
     ]
    }
   ],
   "source": [
    "print('holout_day : {0} \\ncalibration_end_date : {1} \\nobservation_period_end : {2} '.format(holdout_days, calibration_end_date, maxdate))"
   ]
  },
  {
   "cell_type": "code",
   "execution_count": 75,
   "id": "fc870e40-af2e-4b89-b92b-18eebd17272f",
   "metadata": {},
   "outputs": [],
   "source": [
    "summary_cal_holdout = calibration_and_holdout_data(data_clv, \n",
    "                                                   customer_id_col='CustomerID',\n",
    "                                                   datetime_col='InvoiceDate',\n",
    "                                                   calibration_period_end=calibration_end_date,\n",
    "                                                   observation_period_end=maxdate,\n",
    "                                                   freq='D' )"
   ]
  },
  {
   "cell_type": "code",
   "execution_count": 76,
   "id": "fef8fefe-cdd1-4c2f-afa5-463bbb8c37d2",
   "metadata": {},
   "outputs": [
    {
     "data": {
      "text/html": [
       "<div>\n",
       "<style scoped>\n",
       "    .dataframe tbody tr th:only-of-type {\n",
       "        vertical-align: middle;\n",
       "    }\n",
       "\n",
       "    .dataframe tbody tr th {\n",
       "        vertical-align: top;\n",
       "    }\n",
       "\n",
       "    .dataframe thead th {\n",
       "        text-align: right;\n",
       "    }\n",
       "</style>\n",
       "<table border=\"1\" class=\"dataframe\">\n",
       "  <thead>\n",
       "    <tr style=\"text-align: right;\">\n",
       "      <th></th>\n",
       "      <th>frequency_cal</th>\n",
       "      <th>recency_cal</th>\n",
       "      <th>T_cal</th>\n",
       "      <th>frequency_holdout</th>\n",
       "      <th>duration_holdout</th>\n",
       "    </tr>\n",
       "    <tr>\n",
       "      <th>CustomerID</th>\n",
       "      <th></th>\n",
       "      <th></th>\n",
       "      <th></th>\n",
       "      <th></th>\n",
       "      <th></th>\n",
       "    </tr>\n",
       "  </thead>\n",
       "  <tbody>\n",
       "    <tr>\n",
       "      <th>12346.0</th>\n",
       "      <td>0.0</td>\n",
       "      <td>0.0</td>\n",
       "      <td>235.0</td>\n",
       "      <td>0.0</td>\n",
       "      <td>90.0</td>\n",
       "    </tr>\n",
       "    <tr>\n",
       "      <th>12347.0</th>\n",
       "      <td>4.0</td>\n",
       "      <td>238.0</td>\n",
       "      <td>277.0</td>\n",
       "      <td>2.0</td>\n",
       "      <td>90.0</td>\n",
       "    </tr>\n",
       "    <tr>\n",
       "      <th>12348.0</th>\n",
       "      <td>2.0</td>\n",
       "      <td>110.0</td>\n",
       "      <td>268.0</td>\n",
       "      <td>1.0</td>\n",
       "      <td>90.0</td>\n",
       "    </tr>\n",
       "    <tr>\n",
       "      <th>12350.0</th>\n",
       "      <td>0.0</td>\n",
       "      <td>0.0</td>\n",
       "      <td>220.0</td>\n",
       "      <td>0.0</td>\n",
       "      <td>90.0</td>\n",
       "    </tr>\n",
       "    <tr>\n",
       "      <th>12352.0</th>\n",
       "      <td>3.0</td>\n",
       "      <td>34.0</td>\n",
       "      <td>206.0</td>\n",
       "      <td>3.0</td>\n",
       "      <td>90.0</td>\n",
       "    </tr>\n",
       "  </tbody>\n",
       "</table>\n",
       "</div>"
      ],
      "text/plain": [
       "            frequency_cal  recency_cal  T_cal  frequency_holdout  \\\n",
       "CustomerID                                                         \n",
       "12346.0               0.0          0.0  235.0                0.0   \n",
       "12347.0               4.0        238.0  277.0                2.0   \n",
       "12348.0               2.0        110.0  268.0                1.0   \n",
       "12350.0               0.0          0.0  220.0                0.0   \n",
       "12352.0               3.0         34.0  206.0                3.0   \n",
       "\n",
       "            duration_holdout  \n",
       "CustomerID                    \n",
       "12346.0                 90.0  \n",
       "12347.0                 90.0  \n",
       "12348.0                 90.0  \n",
       "12350.0                 90.0  \n",
       "12352.0                 90.0  "
      ]
     },
     "execution_count": 76,
     "metadata": {},
     "output_type": "execute_result"
    }
   ],
   "source": [
    "summary_cal_holdout.head()"
   ]
  },
  {
   "cell_type": "code",
   "execution_count": 85,
   "id": "2db33cf4-0a34-412f-bad2-a6af5f0c9e7a",
   "metadata": {},
   "outputs": [],
   "source": [
    "# remove customers with no repeats (complete dataset)\n",
    "filtered = summary[summary['frequency'] > 0]\n",
    "\n",
    "## remove customers with no repeats in calibration period\n",
    "filtered_cal = summary_cal_holdout[summary_cal_holdout['frequency_cal'] > 0]"
   ]
  },
  {
   "cell_type": "code",
   "execution_count": 87,
   "id": "ef824fa1-0b6c-409f-8ec5-864f4ae18625",
   "metadata": {},
   "outputs": [],
   "source": [
    "# load spark dataframe to pandas dataframe\n",
    "input_pd = filtered_cal.copy()"
   ]
  },
  {
   "cell_type": "code",
   "execution_count": 111,
   "id": "4e8386a4-2fb0-4635-a964-743e4e0e50b9",
   "metadata": {},
   "outputs": [
    {
     "data": {
      "text/plain": [
       "<lifetimes.BetaGeoFitter: fitted with 1956 subjects, a: 0.03, alpha: 118.69, b: 0.26, r: 2.27>"
      ]
     },
     "execution_count": 111,
     "metadata": {},
     "output_type": "execute_result"
    }
   ],
   "source": [
    "bgf.fit(filtered_cal['frequency_cal'], filtered_cal['recency_cal'], filtered_cal['T_cal'])"
   ]
  },
  {
   "cell_type": "code",
   "execution_count": 112,
   "id": "c970602f-4006-4f17-a4fb-4c6149c8e74e",
   "metadata": {},
   "outputs": [
    {
     "data": {
      "text/html": [
       "<div>\n",
       "<style scoped>\n",
       "    .dataframe tbody tr th:only-of-type {\n",
       "        vertical-align: middle;\n",
       "    }\n",
       "\n",
       "    .dataframe tbody tr th {\n",
       "        vertical-align: top;\n",
       "    }\n",
       "\n",
       "    .dataframe thead th {\n",
       "        text-align: right;\n",
       "    }\n",
       "</style>\n",
       "<table border=\"1\" class=\"dataframe\">\n",
       "  <thead>\n",
       "    <tr style=\"text-align: right;\">\n",
       "      <th></th>\n",
       "      <th>frequency_cal</th>\n",
       "      <th>recency_cal</th>\n",
       "      <th>T_cal</th>\n",
       "      <th>frequency_holdout</th>\n",
       "      <th>duration_holdout</th>\n",
       "    </tr>\n",
       "  </thead>\n",
       "  <tbody>\n",
       "    <tr>\n",
       "      <th>count</th>\n",
       "      <td>1956.000000</td>\n",
       "      <td>1956.000000</td>\n",
       "      <td>1956.000000</td>\n",
       "      <td>1956.000000</td>\n",
       "      <td>1956.0</td>\n",
       "    </tr>\n",
       "    <tr>\n",
       "      <th>mean</th>\n",
       "      <td>3.802147</td>\n",
       "      <td>151.451943</td>\n",
       "      <td>211.171779</td>\n",
       "      <td>1.857362</td>\n",
       "      <td>90.0</td>\n",
       "    </tr>\n",
       "    <tr>\n",
       "      <th>std</th>\n",
       "      <td>5.551730</td>\n",
       "      <td>77.979775</td>\n",
       "      <td>65.793991</td>\n",
       "      <td>2.706552</td>\n",
       "      <td>0.0</td>\n",
       "    </tr>\n",
       "    <tr>\n",
       "      <th>min</th>\n",
       "      <td>1.000000</td>\n",
       "      <td>1.000000</td>\n",
       "      <td>3.000000</td>\n",
       "      <td>0.000000</td>\n",
       "      <td>90.0</td>\n",
       "    </tr>\n",
       "    <tr>\n",
       "      <th>25%</th>\n",
       "      <td>1.000000</td>\n",
       "      <td>89.000000</td>\n",
       "      <td>169.000000</td>\n",
       "      <td>0.000000</td>\n",
       "      <td>90.0</td>\n",
       "    </tr>\n",
       "    <tr>\n",
       "      <th>50%</th>\n",
       "      <td>2.000000</td>\n",
       "      <td>154.000000</td>\n",
       "      <td>226.000000</td>\n",
       "      <td>1.000000</td>\n",
       "      <td>90.0</td>\n",
       "    </tr>\n",
       "    <tr>\n",
       "      <th>75%</th>\n",
       "      <td>4.000000</td>\n",
       "      <td>218.250000</td>\n",
       "      <td>272.000000</td>\n",
       "      <td>2.000000</td>\n",
       "      <td>90.0</td>\n",
       "    </tr>\n",
       "    <tr>\n",
       "      <th>max</th>\n",
       "      <td>82.000000</td>\n",
       "      <td>282.000000</td>\n",
       "      <td>283.000000</td>\n",
       "      <td>49.000000</td>\n",
       "      <td>90.0</td>\n",
       "    </tr>\n",
       "  </tbody>\n",
       "</table>\n",
       "</div>"
      ],
      "text/plain": [
       "       frequency_cal  recency_cal        T_cal  frequency_holdout  \\\n",
       "count    1956.000000  1956.000000  1956.000000        1956.000000   \n",
       "mean        3.802147   151.451943   211.171779           1.857362   \n",
       "std         5.551730    77.979775    65.793991           2.706552   \n",
       "min         1.000000     1.000000     3.000000           0.000000   \n",
       "25%         1.000000    89.000000   169.000000           0.000000   \n",
       "50%         2.000000   154.000000   226.000000           1.000000   \n",
       "75%         4.000000   218.250000   272.000000           2.000000   \n",
       "max        82.000000   282.000000   283.000000          49.000000   \n",
       "\n",
       "       duration_holdout  \n",
       "count            1956.0  \n",
       "mean               90.0  \n",
       "std                 0.0  \n",
       "min                90.0  \n",
       "25%                90.0  \n",
       "50%                90.0  \n",
       "75%                90.0  \n",
       "max                90.0  "
      ]
     },
     "execution_count": 112,
     "metadata": {},
     "output_type": "execute_result"
    }
   ],
   "source": [
    "filtered_cal.describe()"
   ]
  },
  {
   "cell_type": "code",
   "execution_count": 113,
   "id": "6043382b-abf2-43cc-ad25-bfcc433a0f6f",
   "metadata": {},
   "outputs": [
    {
     "data": {
      "image/png": "[encoded data removed]",
      "text/plain": [
       "<Figure size 432x288 with 1 Axes>"
      ]
     },
     "metadata": {},
     "output_type": "display_data"
    }
   ],
   "source": [
    "plot_cumulative_transactions(bgf, data_clv, customer_id_col='CustomerID', datetime_col='InvoiceDate', t=380, t_cal=283);"
   ]
  },
  {
   "cell_type": "markdown",
   "id": "92b69a8a-5709-442a-a8a8-72dc006a4fd9",
   "metadata": {},
   "source": [
    "The red line represents the boundary between the calibration period on the left and the holdout period on the right. As you can see, the BG/NBD model does a pretty swell job at predicting cumulative transactions."
   ]
  },
  {
   "cell_type": "markdown",
   "id": "42f4f151-e111-4cbf-b603-9f70ad634dd6",
   "metadata": {},
   "source": [
    "#### 3) Incremental transaction plot"
   ]
  },
  {
   "cell_type": "code",
   "execution_count": 110,
   "id": "d44694c3-5c4b-4366-82d0-7d838c381731",
   "metadata": {},
   "outputs": [
    {
     "data": {
      "image/png": "[encoded data removed]",
      "text/plain": [
       "<Figure size 432x288 with 1 Axes>"
      ]
     },
     "metadata": {},
     "output_type": "display_data"
    }
   ],
   "source": [
    "plot_incremental_transactions(bgf, data_clv, customer_id_col='CustomerID', datetime_col='InvoiceDate', t=380, t_cal=283);"
   ]
  },
  {
   "cell_type": "markdown",
   "id": "415a13eb-8efb-4fed-945a-b801f8d567cd",
   "metadata": {},
   "source": [
    "This plot shows that the model does a decent job capturing general trends in the data."
   ]
  },
  {
   "cell_type": "markdown",
   "id": "c08730c3-80db-4ff7-9139-276c67ef5c2e",
   "metadata": {},
   "source": [
    "#### 4) Conditional expectations plot"
   ]
  },
  {
   "cell_type": "code",
   "execution_count": 114,
   "id": "d9913c6e-4823-4792-afad-2eac77afe24f",
   "metadata": {},
   "outputs": [
    {
     "data": {
      "text/plain": [
       "<AxesSubplot:title={'center':'Actual Purchases in Holdout Period vs Predicted Purchases'}, xlabel='Purchases in calibration period', ylabel='Average of Purchases in Holdout Period'>"
      ]
     },
     "execution_count": 114,
     "metadata": {},
     "output_type": "execute_result"
    },
    {
     "data": {
      "image/png": "[encoded data removed]",
      "text/plain": [
       "<Figure size 432x288 with 1 Axes>"
      ]
     },
     "metadata": {},
     "output_type": "display_data"
    }
   ],
   "source": [
    "plot_calibration_purchases_vs_holdout_purchases(bgf, filtered_cal)"
   ]
  },
  {
   "cell_type": "markdown",
   "id": "a231b0d3-fb60-455a-876e-2cc7d737f715",
   "metadata": {},
   "source": [
    "## Modeling churn risk"
   ]
  },
  {
   "cell_type": "code",
   "execution_count": 115,
   "id": "31e4f647-3c03-4f6e-ba75-aff45889e1ba",
   "metadata": {},
   "outputs": [
    {
     "data": {
      "image/png": "[encoded data removed]",
      "text/plain": [
       "<Figure size 432x288 with 1 Axes>"
      ]
     },
     "metadata": {},
     "output_type": "display_data"
    }
   ],
   "source": [
    "sns.distplot(summary['probability_alive']);"
   ]
  },
  {
   "cell_type": "markdown",
   "id": "2080d997-daa9-4967-8770-44427aed0e2c",
   "metadata": {},
   "source": [
    "Next, I would like to set a decision threshold for customer churn. This is an opportunity to inject personal expertise or talk with domain experts. Assume I speak with the sales and marketing managers, and we agree to consider a customer with <80% chance of being alive to have churned."
   ]
  },
  {
   "cell_type": "code",
   "execution_count": 26,
   "id": "bf122b45",
   "metadata": {},
   "outputs": [
    {
     "name": "stdout",
     "output_type": "stream",
     "text": [
      "(2790, 7)\n"
     ]
    },
    {
     "data": {
      "text/html": [
       "<div>\n",
       "<style scoped>\n",
       "    .dataframe tbody tr th:only-of-type {\n",
       "        vertical-align: middle;\n",
       "    }\n",
       "\n",
       "    .dataframe tbody tr th {\n",
       "        vertical-align: top;\n",
       "    }\n",
       "\n",
       "    .dataframe thead th {\n",
       "        text-align: right;\n",
       "    }\n",
       "</style>\n",
       "<table border=\"1\" class=\"dataframe\">\n",
       "  <thead>\n",
       "    <tr style=\"text-align: right;\">\n",
       "      <th></th>\n",
       "      <th>CustomerID</th>\n",
       "      <th>frequency</th>\n",
       "      <th>recency</th>\n",
       "      <th>T</th>\n",
       "      <th>monetary_value</th>\n",
       "      <th>probability_alive</th>\n",
       "      <th>pred_num_txn</th>\n",
       "    </tr>\n",
       "  </thead>\n",
       "  <tbody>\n",
       "    <tr>\n",
       "      <th>1</th>\n",
       "      <td>12347.0</td>\n",
       "      <td>6.0</td>\n",
       "      <td>365.0</td>\n",
       "      <td>367.0</td>\n",
       "      <td>599.701667</td>\n",
       "      <td>0.999698</td>\n",
       "      <td>0.47</td>\n",
       "    </tr>\n",
       "    <tr>\n",
       "      <th>2</th>\n",
       "      <td>12348.0</td>\n",
       "      <td>3.0</td>\n",
       "      <td>283.0</td>\n",
       "      <td>358.0</td>\n",
       "      <td>301.480000</td>\n",
       "      <td>0.999177</td>\n",
       "      <td>0.27</td>\n",
       "    </tr>\n",
       "    <tr>\n",
       "      <th>5</th>\n",
       "      <td>12352.0</td>\n",
       "      <td>6.0</td>\n",
       "      <td>260.0</td>\n",
       "      <td>296.0</td>\n",
       "      <td>368.256667</td>\n",
       "      <td>0.999406</td>\n",
       "      <td>0.56</td>\n",
       "    </tr>\n",
       "    <tr>\n",
       "      <th>9</th>\n",
       "      <td>12356.0</td>\n",
       "      <td>2.0</td>\n",
       "      <td>303.0</td>\n",
       "      <td>325.0</td>\n",
       "      <td>269.905000</td>\n",
       "      <td>0.999478</td>\n",
       "      <td>0.22</td>\n",
       "    </tr>\n",
       "    <tr>\n",
       "      <th>11</th>\n",
       "      <td>12358.0</td>\n",
       "      <td>1.0</td>\n",
       "      <td>149.0</td>\n",
       "      <td>150.0</td>\n",
       "      <td>683.200000</td>\n",
       "      <td>0.999486</td>\n",
       "      <td>0.25</td>\n",
       "    </tr>\n",
       "  </tbody>\n",
       "</table>\n",
       "</div>"
      ],
      "text/plain": [
       "    CustomerID  frequency  recency      T  monetary_value  probability_alive  \\\n",
       "1      12347.0        6.0    365.0  367.0      599.701667           0.999698   \n",
       "2      12348.0        3.0    283.0  358.0      301.480000           0.999177   \n",
       "5      12352.0        6.0    260.0  296.0      368.256667           0.999406   \n",
       "9      12356.0        2.0    303.0  325.0      269.905000           0.999478   \n",
       "11     12358.0        1.0    149.0  150.0      683.200000           0.999486   \n",
       "\n",
       "    pred_num_txn  \n",
       "1           0.47  \n",
       "2           0.27  \n",
       "5           0.56  \n",
       "9           0.22  \n",
       "11          0.25  "
      ]
     },
     "execution_count": 26,
     "metadata": {},
     "output_type": "execute_result"
    }
   ],
   "source": [
    "# Checking the relationship between frequency and monetary_value\n",
    "return_customers_summary = summary[summary['frequency']>0]\n",
    "print(return_customers_summary.shape)\n",
    "return_customers_summary.head()"
   ]
  },
  {
   "cell_type": "code",
   "execution_count": 123,
   "id": "7049f430-10c7-4cdb-adc0-58ebd6d92863",
   "metadata": {},
   "outputs": [
    {
     "data": {
      "image/png": "[encoded data removed]",
      "text/plain": [
       "<Figure size 432x288 with 1 Axes>"
      ]
     },
     "metadata": {},
     "output_type": "display_data"
    }
   ],
   "source": [
    "summary['churn'] = ['churned' if p < .8 else 'not churned' for p in summary['probability_alive']]\n",
    "sns.countplot(summary['churn']);"
   ]
  },
  {
   "cell_type": "code",
   "execution_count": 124,
   "id": "f04efcfc-1435-472f-a3ab-40f8342118f3",
   "metadata": {},
   "outputs": [
    {
     "data": {
      "image/png": "[encoded data removed]",
      "text/plain": [
       "<Figure size 432x288 with 1 Axes>"
      ]
     },
     "metadata": {},
     "output_type": "display_data"
    }
   ],
   "source": [
    "sns.distplot(summary[summary['churn']=='not churned']['probability_alive']).set_title('Probability alive, not churned');"
   ]
  },
  {
   "cell_type": "code",
   "execution_count": 126,
   "id": "6138f143-12c0-4c2e-bd7c-970bb753495e",
   "metadata": {},
   "outputs": [
    {
     "data": {
      "text/plain": [
       "not churned    1814\n",
       "high risk       725\n",
       "churned         251\n",
       "Name: churn, dtype: int64"
      ]
     },
     "execution_count": 126,
     "metadata": {},
     "output_type": "execute_result"
    }
   ],
   "source": [
    "summary['churn'][(summary['probability_alive']>=.8) & (summary['probability_alive']<.9)] = \"high risk\"\n",
    "summary['churn'].value_counts()"
   ]
  },
  {
   "cell_type": "code",
   "execution_count": 27,
   "id": "8965da70",
   "metadata": {},
   "outputs": [
    {
     "data": {
      "text/html": [
       "<div>\n",
       "<style scoped>\n",
       "    .dataframe tbody tr th:only-of-type {\n",
       "        vertical-align: middle;\n",
       "    }\n",
       "\n",
       "    .dataframe tbody tr th {\n",
       "        vertical-align: top;\n",
       "    }\n",
       "\n",
       "    .dataframe thead th {\n",
       "        text-align: right;\n",
       "    }\n",
       "</style>\n",
       "<table border=\"1\" class=\"dataframe\">\n",
       "  <thead>\n",
       "    <tr style=\"text-align: right;\">\n",
       "      <th></th>\n",
       "      <th>frequency</th>\n",
       "      <th>monetary_value</th>\n",
       "    </tr>\n",
       "  </thead>\n",
       "  <tbody>\n",
       "    <tr>\n",
       "      <th>frequency</th>\n",
       "      <td>1.000000</td>\n",
       "      <td>0.015906</td>\n",
       "    </tr>\n",
       "    <tr>\n",
       "      <th>monetary_value</th>\n",
       "      <td>0.015906</td>\n",
       "      <td>1.000000</td>\n",
       "    </tr>\n",
       "  </tbody>\n",
       "</table>\n",
       "</div>"
      ],
      "text/plain": [
       "                frequency  monetary_value\n",
       "frequency        1.000000        0.015906\n",
       "monetary_value   0.015906        1.000000"
      ]
     },
     "execution_count": 27,
     "metadata": {},
     "output_type": "execute_result"
    }
   ],
   "source": [
    "# Checking the relationship between frequency and monetary_value\n",
    "return_customers_summary[['frequency', 'monetary_value']].corr()"
   ]
  },
  {
   "cell_type": "markdown",
   "id": "a067f9ee",
   "metadata": {},
   "source": [
    "The correlation seems very weak. Hence, we can conclude that, the assumption is satisfied and we can fit the model to our data."
   ]
  },
  {
   "cell_type": "code",
   "execution_count": 28,
   "id": "b74d9ea8",
   "metadata": {},
   "outputs": [
    {
     "data": {
      "text/plain": [
       "<lifetimes.GammaGammaFitter: fitted with 2790 subjects, p: 11.13, q: 0.84, v: 11.29>"
      ]
     },
     "execution_count": 28,
     "metadata": {},
     "output_type": "execute_result"
    }
   ],
   "source": [
    "# Modeling the monetary value using Gamma-Gamma Model\n",
    "ggf = lifetimes.GammaGammaFitter(penalizer_coef=0.001)\n",
    "ggf.fit(return_customers_summary['frequency'],\n",
    "       return_customers_summary['monetary_value'])"
   ]
  },
  {
   "cell_type": "code",
   "execution_count": 29,
   "id": "021a04e6",
   "metadata": {},
   "outputs": [
    {
     "data": {
      "text/html": [
       "<div>\n",
       "<style scoped>\n",
       "    .dataframe tbody tr th:only-of-type {\n",
       "        vertical-align: middle;\n",
       "    }\n",
       "\n",
       "    .dataframe tbody tr th {\n",
       "        vertical-align: top;\n",
       "    }\n",
       "\n",
       "    .dataframe thead th {\n",
       "        text-align: right;\n",
       "    }\n",
       "</style>\n",
       "<table border=\"1\" class=\"dataframe\">\n",
       "  <thead>\n",
       "    <tr style=\"text-align: right;\">\n",
       "      <th></th>\n",
       "      <th>coef</th>\n",
       "      <th>se(coef)</th>\n",
       "      <th>lower 95% bound</th>\n",
       "      <th>upper 95% bound</th>\n",
       "    </tr>\n",
       "  </thead>\n",
       "  <tbody>\n",
       "    <tr>\n",
       "      <th>p</th>\n",
       "      <td>11.125568</td>\n",
       "      <td>0.269274</td>\n",
       "      <td>10.597792</td>\n",
       "      <td>11.653344</td>\n",
       "    </tr>\n",
       "    <tr>\n",
       "      <th>q</th>\n",
       "      <td>0.838782</td>\n",
       "      <td>0.019731</td>\n",
       "      <td>0.800110</td>\n",
       "      <td>0.877455</td>\n",
       "    </tr>\n",
       "    <tr>\n",
       "      <th>v</th>\n",
       "      <td>11.292978</td>\n",
       "      <td>0.281539</td>\n",
       "      <td>10.741162</td>\n",
       "      <td>11.844795</td>\n",
       "    </tr>\n",
       "  </tbody>\n",
       "</table>\n",
       "</div>"
      ],
      "text/plain": [
       "        coef  se(coef)  lower 95% bound  upper 95% bound\n",
       "p  11.125568  0.269274        10.597792        11.653344\n",
       "q   0.838782  0.019731         0.800110         0.877455\n",
       "v  11.292978  0.281539        10.741162        11.844795"
      ]
     },
     "execution_count": 29,
     "metadata": {},
     "output_type": "execute_result"
    }
   ],
   "source": [
    "# Summary of the fitted parameters\n",
    "ggf.summary"
   ]
  },
  {
   "cell_type": "markdown",
   "id": "a699a873",
   "metadata": {},
   "source": [
    "Next, we can predict the expected average profit for each each transaction and Customer Lifetime Value using the model.\n",
    "\n",
    "1. model.conditional_expected_average_profit(): This method computes the conditional expectation of the average profit per transaction for a group of one or more customers.\n",
    "\n",
    "2. model.customer_lifetime_value(): This method computes the average lifetime value of a group of one or more customers. This method takes in BG/NBD model and the prediction horizon as a parameter to calculate the CLV."
   ]
  },
  {
   "cell_type": "code",
   "execution_count": 30,
   "id": "e91a810d",
   "metadata": {},
   "outputs": [
    {
     "data": {
      "text/html": [
       "<div>\n",
       "<style scoped>\n",
       "    .dataframe tbody tr th:only-of-type {\n",
       "        vertical-align: middle;\n",
       "    }\n",
       "\n",
       "    .dataframe tbody tr th {\n",
       "        vertical-align: top;\n",
       "    }\n",
       "\n",
       "    .dataframe thead th {\n",
       "        text-align: right;\n",
       "    }\n",
       "</style>\n",
       "<table border=\"1\" class=\"dataframe\">\n",
       "  <thead>\n",
       "    <tr style=\"text-align: right;\">\n",
       "      <th></th>\n",
       "      <th>CustomerID</th>\n",
       "      <th>frequency</th>\n",
       "      <th>recency</th>\n",
       "      <th>T</th>\n",
       "      <th>monetary_value</th>\n",
       "      <th>probability_alive</th>\n",
       "      <th>pred_num_txn</th>\n",
       "      <th>exp_avg_sales</th>\n",
       "    </tr>\n",
       "  </thead>\n",
       "  <tbody>\n",
       "    <tr>\n",
       "      <th>1</th>\n",
       "      <td>12347.0</td>\n",
       "      <td>6.0</td>\n",
       "      <td>365.0</td>\n",
       "      <td>367.0</td>\n",
       "      <td>599.701667</td>\n",
       "      <td>0.999698</td>\n",
       "      <td>0.47</td>\n",
       "      <td>603.040247</td>\n",
       "    </tr>\n",
       "    <tr>\n",
       "      <th>2</th>\n",
       "      <td>12348.0</td>\n",
       "      <td>3.0</td>\n",
       "      <td>283.0</td>\n",
       "      <td>358.0</td>\n",
       "      <td>301.480000</td>\n",
       "      <td>0.999177</td>\n",
       "      <td>0.27</td>\n",
       "      <td>306.725889</td>\n",
       "    </tr>\n",
       "    <tr>\n",
       "      <th>5</th>\n",
       "      <td>12352.0</td>\n",
       "      <td>6.0</td>\n",
       "      <td>260.0</td>\n",
       "      <td>296.0</td>\n",
       "      <td>368.256667</td>\n",
       "      <td>0.999406</td>\n",
       "      <td>0.56</td>\n",
       "      <td>371.034926</td>\n",
       "    </tr>\n",
       "    <tr>\n",
       "      <th>9</th>\n",
       "      <td>12356.0</td>\n",
       "      <td>2.0</td>\n",
       "      <td>303.0</td>\n",
       "      <td>325.0</td>\n",
       "      <td>269.905000</td>\n",
       "      <td>0.999478</td>\n",
       "      <td>0.22</td>\n",
       "      <td>277.562534</td>\n",
       "    </tr>\n",
       "    <tr>\n",
       "      <th>11</th>\n",
       "      <td>12358.0</td>\n",
       "      <td>1.0</td>\n",
       "      <td>149.0</td>\n",
       "      <td>150.0</td>\n",
       "      <td>683.200000</td>\n",
       "      <td>0.999486</td>\n",
       "      <td>0.25</td>\n",
       "      <td>704.704679</td>\n",
       "    </tr>\n",
       "  </tbody>\n",
       "</table>\n",
       "</div>"
      ],
      "text/plain": [
       "    CustomerID  frequency  recency      T  monetary_value  probability_alive  \\\n",
       "1      12347.0        6.0    365.0  367.0      599.701667           0.999698   \n",
       "2      12348.0        3.0    283.0  358.0      301.480000           0.999177   \n",
       "5      12352.0        6.0    260.0  296.0      368.256667           0.999406   \n",
       "9      12356.0        2.0    303.0  325.0      269.905000           0.999478   \n",
       "11     12358.0        1.0    149.0  150.0      683.200000           0.999486   \n",
       "\n",
       "    pred_num_txn  exp_avg_sales  \n",
       "1           0.47     603.040247  \n",
       "2           0.27     306.725889  \n",
       "5           0.56     371.034926  \n",
       "9           0.22     277.562534  \n",
       "11          0.25     704.704679  "
      ]
     },
     "execution_count": 30,
     "metadata": {},
     "output_type": "execute_result"
    }
   ],
   "source": [
    "# Calculating the conditional expected average profit for each customer per transaction\n",
    "summary = summary[summary['monetary_value'] >0]\n",
    "summary['exp_avg_sales'] = ggf.conditional_expected_average_profit(summary['frequency'],\n",
    "                                       summary['monetary_value'])\n",
    "summary.head()"
   ]
  },
  {
   "cell_type": "code",
   "execution_count": 31,
   "id": "2383737c",
   "metadata": {},
   "outputs": [
    {
     "name": "stdout",
     "output_type": "stream",
     "text": [
      "Expected Average Sales: 486.90902215126897\n",
      "Actual Average Sales: 477.3803385139518\n"
     ]
    }
   ],
   "source": [
    "# Checking the expected average value and the actual average value in the data to make sure the values are good\n",
    "print(f\"Expected Average Sales: {summary['exp_avg_sales'].mean()}\")\n",
    "print(f\"Actual Average Sales: {summary['monetary_value'].mean()}\")"
   ]
  },
  {
   "cell_type": "markdown",
   "id": "eb6fb564",
   "metadata": {},
   "source": [
    "The values seems to be fine. Now, let's calculate the customer lifetime value directly using the method from the lifetimes package.\n",
    "\n",
    "Three main important thing to note here is:\n",
    "\n",
    "1. time: This parameter in customer_lifetime_value() method takes in terms of months i.e., t=1 means one month and so on.\n",
    "\n",
    "2. freq: This parameter is where you will specify the time unit your data is in. If your data is in daily level then \"D\", monthly \"M\" and so on.\n",
    "\n",
    "3. discount_rate: This parameter is based on the concept of DCF (discounted cash flow), where you will discount the future monetary value by a discount rate to get the present value of that cash flow. In the documentation, it is given that for monthly it is 0.01 (annually ~12.7%)."
   ]
  },
  {
   "cell_type": "code",
   "execution_count": 32,
   "id": "b0433003",
   "metadata": {},
   "outputs": [
    {
     "data": {
      "text/html": [
       "<div>\n",
       "<style scoped>\n",
       "    .dataframe tbody tr th:only-of-type {\n",
       "        vertical-align: middle;\n",
       "    }\n",
       "\n",
       "    .dataframe tbody tr th {\n",
       "        vertical-align: top;\n",
       "    }\n",
       "\n",
       "    .dataframe thead th {\n",
       "        text-align: right;\n",
       "    }\n",
       "</style>\n",
       "<table border=\"1\" class=\"dataframe\">\n",
       "  <thead>\n",
       "    <tr style=\"text-align: right;\">\n",
       "      <th></th>\n",
       "      <th>CustomerID</th>\n",
       "      <th>frequency</th>\n",
       "      <th>recency</th>\n",
       "      <th>T</th>\n",
       "      <th>monetary_value</th>\n",
       "      <th>probability_alive</th>\n",
       "      <th>pred_num_txn</th>\n",
       "      <th>exp_avg_sales</th>\n",
       "      <th>predicted_clv</th>\n",
       "    </tr>\n",
       "  </thead>\n",
       "  <tbody>\n",
       "    <tr>\n",
       "      <th>1</th>\n",
       "      <td>12347.0</td>\n",
       "      <td>6.0</td>\n",
       "      <td>365.0</td>\n",
       "      <td>367.0</td>\n",
       "      <td>599.701667</td>\n",
       "      <td>0.999698</td>\n",
       "      <td>0.47</td>\n",
       "      <td>603.040247</td>\n",
       "      <td>280.409518</td>\n",
       "    </tr>\n",
       "    <tr>\n",
       "      <th>2</th>\n",
       "      <td>12348.0</td>\n",
       "      <td>3.0</td>\n",
       "      <td>283.0</td>\n",
       "      <td>358.0</td>\n",
       "      <td>301.480000</td>\n",
       "      <td>0.999177</td>\n",
       "      <td>0.27</td>\n",
       "      <td>306.725889</td>\n",
       "      <td>81.591026</td>\n",
       "    </tr>\n",
       "    <tr>\n",
       "      <th>5</th>\n",
       "      <td>12352.0</td>\n",
       "      <td>6.0</td>\n",
       "      <td>260.0</td>\n",
       "      <td>296.0</td>\n",
       "      <td>368.256667</td>\n",
       "      <td>0.999406</td>\n",
       "      <td>0.56</td>\n",
       "      <td>371.034926</td>\n",
       "      <td>206.034640</td>\n",
       "    </tr>\n",
       "    <tr>\n",
       "      <th>9</th>\n",
       "      <td>12356.0</td>\n",
       "      <td>2.0</td>\n",
       "      <td>303.0</td>\n",
       "      <td>325.0</td>\n",
       "      <td>269.905000</td>\n",
       "      <td>0.999478</td>\n",
       "      <td>0.22</td>\n",
       "      <td>277.562534</td>\n",
       "      <td>59.125290</td>\n",
       "    </tr>\n",
       "    <tr>\n",
       "      <th>11</th>\n",
       "      <td>12358.0</td>\n",
       "      <td>1.0</td>\n",
       "      <td>149.0</td>\n",
       "      <td>150.0</td>\n",
       "      <td>683.200000</td>\n",
       "      <td>0.999486</td>\n",
       "      <td>0.25</td>\n",
       "      <td>704.704679</td>\n",
       "      <td>174.550478</td>\n",
       "    </tr>\n",
       "  </tbody>\n",
       "</table>\n",
       "</div>"
      ],
      "text/plain": [
       "    CustomerID  frequency  recency      T  monetary_value  probability_alive  \\\n",
       "1      12347.0        6.0    365.0  367.0      599.701667           0.999698   \n",
       "2      12348.0        3.0    283.0  358.0      301.480000           0.999177   \n",
       "5      12352.0        6.0    260.0  296.0      368.256667           0.999406   \n",
       "9      12356.0        2.0    303.0  325.0      269.905000           0.999478   \n",
       "11     12358.0        1.0    149.0  150.0      683.200000           0.999486   \n",
       "\n",
       "    pred_num_txn  exp_avg_sales  predicted_clv  \n",
       "1           0.47     603.040247     280.409518  \n",
       "2           0.27     306.725889      81.591026  \n",
       "5           0.56     371.034926     206.034640  \n",
       "9           0.22     277.562534      59.125290  \n",
       "11          0.25     704.704679     174.550478  "
      ]
     },
     "execution_count": 32,
     "metadata": {},
     "output_type": "execute_result"
    }
   ],
   "source": [
    "# Predicting Customer Lifetime Value for the next 30 days\n",
    "summary['predicted_clv'] =      ggf.customer_lifetime_value(bgf,\n",
    "                                                               summary['frequency'],\n",
    "                                                               summary['recency'],\n",
    "                                                               summary['T'],\n",
    "                                                               summary['monetary_value'],\n",
    "                                                               time=1,     # lifetime in months\n",
    "                                                               freq='D',   # frequency in which the data is present(T)      \n",
    "                                                               discount_rate=0.01) # discount rate\n",
    "summary.head()"
   ]
  },
  {
   "cell_type": "markdown",
   "id": "50cabd3d",
   "metadata": {},
   "source": [
    "You can also calculate the CLV manually from the predicted number of future transactions (pred_num_txn) and expected average sales per transaction (exp_avg_sales).\n",
    "\n"
   ]
  },
  {
   "cell_type": "code",
   "execution_count": 33,
   "id": "8bbc89e1",
   "metadata": {},
   "outputs": [
    {
     "data": {
      "text/html": [
       "<div>\n",
       "<style scoped>\n",
       "    .dataframe tbody tr th:only-of-type {\n",
       "        vertical-align: middle;\n",
       "    }\n",
       "\n",
       "    .dataframe tbody tr th {\n",
       "        vertical-align: top;\n",
       "    }\n",
       "\n",
       "    .dataframe thead th {\n",
       "        text-align: right;\n",
       "    }\n",
       "</style>\n",
       "<table border=\"1\" class=\"dataframe\">\n",
       "  <thead>\n",
       "    <tr style=\"text-align: right;\">\n",
       "      <th></th>\n",
       "      <th>CustomerID</th>\n",
       "      <th>frequency</th>\n",
       "      <th>recency</th>\n",
       "      <th>T</th>\n",
       "      <th>monetary_value</th>\n",
       "      <th>probability_alive</th>\n",
       "      <th>pred_num_txn</th>\n",
       "      <th>exp_avg_sales</th>\n",
       "      <th>predicted_clv</th>\n",
       "      <th>manual_predicted_clv</th>\n",
       "    </tr>\n",
       "  </thead>\n",
       "  <tbody>\n",
       "    <tr>\n",
       "      <th>1</th>\n",
       "      <td>12347.0</td>\n",
       "      <td>6.0</td>\n",
       "      <td>365.0</td>\n",
       "      <td>367.0</td>\n",
       "      <td>599.701667</td>\n",
       "      <td>0.999698</td>\n",
       "      <td>0.47</td>\n",
       "      <td>603.040247</td>\n",
       "      <td>280.409518</td>\n",
       "      <td>283.428916</td>\n",
       "    </tr>\n",
       "    <tr>\n",
       "      <th>2</th>\n",
       "      <td>12348.0</td>\n",
       "      <td>3.0</td>\n",
       "      <td>283.0</td>\n",
       "      <td>358.0</td>\n",
       "      <td>301.480000</td>\n",
       "      <td>0.999177</td>\n",
       "      <td>0.27</td>\n",
       "      <td>306.725889</td>\n",
       "      <td>81.591026</td>\n",
       "      <td>82.815990</td>\n",
       "    </tr>\n",
       "    <tr>\n",
       "      <th>5</th>\n",
       "      <td>12352.0</td>\n",
       "      <td>6.0</td>\n",
       "      <td>260.0</td>\n",
       "      <td>296.0</td>\n",
       "      <td>368.256667</td>\n",
       "      <td>0.999406</td>\n",
       "      <td>0.56</td>\n",
       "      <td>371.034926</td>\n",
       "      <td>206.034640</td>\n",
       "      <td>207.779558</td>\n",
       "    </tr>\n",
       "    <tr>\n",
       "      <th>9</th>\n",
       "      <td>12356.0</td>\n",
       "      <td>2.0</td>\n",
       "      <td>303.0</td>\n",
       "      <td>325.0</td>\n",
       "      <td>269.905000</td>\n",
       "      <td>0.999478</td>\n",
       "      <td>0.22</td>\n",
       "      <td>277.562534</td>\n",
       "      <td>59.125290</td>\n",
       "      <td>61.063757</td>\n",
       "    </tr>\n",
       "    <tr>\n",
       "      <th>11</th>\n",
       "      <td>12358.0</td>\n",
       "      <td>1.0</td>\n",
       "      <td>149.0</td>\n",
       "      <td>150.0</td>\n",
       "      <td>683.200000</td>\n",
       "      <td>0.999486</td>\n",
       "      <td>0.25</td>\n",
       "      <td>704.704679</td>\n",
       "      <td>174.550478</td>\n",
       "      <td>176.176170</td>\n",
       "    </tr>\n",
       "  </tbody>\n",
       "</table>\n",
       "</div>"
      ],
      "text/plain": [
       "    CustomerID  frequency  recency      T  monetary_value  probability_alive  \\\n",
       "1      12347.0        6.0    365.0  367.0      599.701667           0.999698   \n",
       "2      12348.0        3.0    283.0  358.0      301.480000           0.999177   \n",
       "5      12352.0        6.0    260.0  296.0      368.256667           0.999406   \n",
       "9      12356.0        2.0    303.0  325.0      269.905000           0.999478   \n",
       "11     12358.0        1.0    149.0  150.0      683.200000           0.999486   \n",
       "\n",
       "    pred_num_txn  exp_avg_sales  predicted_clv  manual_predicted_clv  \n",
       "1           0.47     603.040247     280.409518            283.428916  \n",
       "2           0.27     306.725889      81.591026             82.815990  \n",
       "5           0.56     371.034926     206.034640            207.779558  \n",
       "9           0.22     277.562534      59.125290             61.063757  \n",
       "11          0.25     704.704679     174.550478            176.176170  "
      ]
     },
     "execution_count": 33,
     "metadata": {},
     "output_type": "execute_result"
    }
   ],
   "source": [
    "summary['manual_predicted_clv'] = summary['pred_num_txn'] * summary['exp_avg_sales']\n",
    "summary.head()"
   ]
  },
  {
   "cell_type": "code",
   "execution_count": 34,
   "id": "a85fdb3b",
   "metadata": {},
   "outputs": [
    {
     "data": {
      "text/html": [
       "<div>\n",
       "<style scoped>\n",
       "    .dataframe tbody tr th:only-of-type {\n",
       "        vertical-align: middle;\n",
       "    }\n",
       "\n",
       "    .dataframe tbody tr th {\n",
       "        vertical-align: top;\n",
       "    }\n",
       "\n",
       "    .dataframe thead th {\n",
       "        text-align: right;\n",
       "    }\n",
       "</style>\n",
       "<table border=\"1\" class=\"dataframe\">\n",
       "  <thead>\n",
       "    <tr style=\"text-align: right;\">\n",
       "      <th></th>\n",
       "      <th>CustomerID</th>\n",
       "      <th>frequency</th>\n",
       "      <th>recency</th>\n",
       "      <th>T</th>\n",
       "      <th>monetary_value</th>\n",
       "      <th>probability_alive</th>\n",
       "      <th>pred_num_txn</th>\n",
       "      <th>exp_avg_sales</th>\n",
       "      <th>predicted_clv</th>\n",
       "      <th>manual_predicted_clv</th>\n",
       "      <th>CLV</th>\n",
       "    </tr>\n",
       "  </thead>\n",
       "  <tbody>\n",
       "    <tr>\n",
       "      <th>1</th>\n",
       "      <td>12347.0</td>\n",
       "      <td>6.0</td>\n",
       "      <td>365.0</td>\n",
       "      <td>367.0</td>\n",
       "      <td>599.701667</td>\n",
       "      <td>0.999698</td>\n",
       "      <td>0.47</td>\n",
       "      <td>603.040247</td>\n",
       "      <td>280.409518</td>\n",
       "      <td>283.428916</td>\n",
       "      <td>14.020476</td>\n",
       "    </tr>\n",
       "    <tr>\n",
       "      <th>2</th>\n",
       "      <td>12348.0</td>\n",
       "      <td>3.0</td>\n",
       "      <td>283.0</td>\n",
       "      <td>358.0</td>\n",
       "      <td>301.480000</td>\n",
       "      <td>0.999177</td>\n",
       "      <td>0.27</td>\n",
       "      <td>306.725889</td>\n",
       "      <td>81.591026</td>\n",
       "      <td>82.815990</td>\n",
       "      <td>4.079551</td>\n",
       "    </tr>\n",
       "    <tr>\n",
       "      <th>5</th>\n",
       "      <td>12352.0</td>\n",
       "      <td>6.0</td>\n",
       "      <td>260.0</td>\n",
       "      <td>296.0</td>\n",
       "      <td>368.256667</td>\n",
       "      <td>0.999406</td>\n",
       "      <td>0.56</td>\n",
       "      <td>371.034926</td>\n",
       "      <td>206.034640</td>\n",
       "      <td>207.779558</td>\n",
       "      <td>10.301732</td>\n",
       "    </tr>\n",
       "    <tr>\n",
       "      <th>9</th>\n",
       "      <td>12356.0</td>\n",
       "      <td>2.0</td>\n",
       "      <td>303.0</td>\n",
       "      <td>325.0</td>\n",
       "      <td>269.905000</td>\n",
       "      <td>0.999478</td>\n",
       "      <td>0.22</td>\n",
       "      <td>277.562534</td>\n",
       "      <td>59.125290</td>\n",
       "      <td>61.063757</td>\n",
       "      <td>2.956265</td>\n",
       "    </tr>\n",
       "    <tr>\n",
       "      <th>11</th>\n",
       "      <td>12358.0</td>\n",
       "      <td>1.0</td>\n",
       "      <td>149.0</td>\n",
       "      <td>150.0</td>\n",
       "      <td>683.200000</td>\n",
       "      <td>0.999486</td>\n",
       "      <td>0.25</td>\n",
       "      <td>704.704679</td>\n",
       "      <td>174.550478</td>\n",
       "      <td>176.176170</td>\n",
       "      <td>8.727524</td>\n",
       "    </tr>\n",
       "  </tbody>\n",
       "</table>\n",
       "</div>"
      ],
      "text/plain": [
       "    CustomerID  frequency  recency      T  monetary_value  probability_alive  \\\n",
       "1      12347.0        6.0    365.0  367.0      599.701667           0.999698   \n",
       "2      12348.0        3.0    283.0  358.0      301.480000           0.999177   \n",
       "5      12352.0        6.0    260.0  296.0      368.256667           0.999406   \n",
       "9      12356.0        2.0    303.0  325.0      269.905000           0.999478   \n",
       "11     12358.0        1.0    149.0  150.0      683.200000           0.999486   \n",
       "\n",
       "    pred_num_txn  exp_avg_sales  predicted_clv  manual_predicted_clv  \\\n",
       "1           0.47     603.040247     280.409518            283.428916   \n",
       "2           0.27     306.725889      81.591026             82.815990   \n",
       "5           0.56     371.034926     206.034640            207.779558   \n",
       "9           0.22     277.562534      59.125290             61.063757   \n",
       "11          0.25     704.704679     174.550478            176.176170   \n",
       "\n",
       "          CLV  \n",
       "1   14.020476  \n",
       "2    4.079551  \n",
       "5   10.301732  \n",
       "9    2.956265  \n",
       "11   8.727524  "
      ]
     },
     "execution_count": 34,
     "metadata": {},
     "output_type": "execute_result"
    }
   ],
   "source": [
    "# CLV in terms of profit (profit margin is 5%)\n",
    "profit_margin = 0.05\n",
    "summary['CLV'] = summary['predicted_clv'] * profit_margin\n",
    "summary.head()"
   ]
  },
  {
   "cell_type": "code",
   "execution_count": 35,
   "id": "8be7fcc1",
   "metadata": {},
   "outputs": [
    {
     "data": {
      "text/plain": [
       "count    2790.000000\n",
       "mean       12.312040\n",
       "std        49.327361\n",
       "min         0.136205\n",
       "25%         2.826065\n",
       "50%         5.668581\n",
       "75%        10.967735\n",
       "max      1692.149403\n",
       "Name: CLV, dtype: float64"
      ]
     },
     "execution_count": 35,
     "metadata": {},
     "output_type": "execute_result"
    }
   ],
   "source": [
    "# Distribution of CLV for the business in the next 30 days\n",
    "summary['CLV'].describe()"
   ]
  },
  {
   "cell_type": "markdown",
   "id": "6a5c57e9",
   "metadata": {},
   "source": [
    "Finally, we predicted the CLV for each customers for the next 30 days.\n",
    "\n",
    "The marketing team can now use this information to target customers and increase their sales.\n",
    "\n",
    "Also, it is hard to target each individual customers. If we have access to customer demographics data, we can first create customer segmentation and then predict the CLV value for each segments. This segment level information can then be used for personalized targeting. If there is no access/availability of customer demographics data, then an easy way would be use RFM segmentation and then predict CLV for those RFM segments.\n",
    "\n",
    "Thanks for reading this far. I hope you enjoyed and learned as much as I did while I worked on this case study.\n",
    "Please share your suggestions and comments on the case study.\n"
   ]
  },
  {
   "cell_type": "code",
   "execution_count": null,
   "id": "f267850f",
   "metadata": {},
   "outputs": [],
   "source": []
  }
 ],
 "metadata": {
  "kernelspec": {
   "display_name": "Python 3",
   "language": "python",
   "name": "python3"
  },
  "language_info": {
   "codemirror_mode": {
    "name": "ipython",
    "version": 3
   },
   "file_extension": ".py",
   "mimetype": "text/x-python",
   "name": "python",
   "nbconvert_exporter": "python",
   "pygments_lexer": "ipython3",
   "version": "3.9.4"
  }
 },
 "nbformat": 4,
 "nbformat_minor": 5
}
