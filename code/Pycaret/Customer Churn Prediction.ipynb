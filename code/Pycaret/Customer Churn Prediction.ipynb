{
 "cells": [
  {
   "cell_type": "markdown",
   "id": "aacc4713",
   "metadata": {},
   "source": [
    "# Customer Churn Prediction\n",
    "\n",
    "ใช้ PyCaret ในการสร้าง Customer Churn Prediction Model\n",
    "\n",
    "### Import Libraries"
   ]
  },
  {
   "cell_type": "code",
   "execution_count": 1,
   "id": "acbba12b",
   "metadata": {},
   "outputs": [],
   "source": [
    "import pandas as pd\n",
    "import numpy as np\n",
    "import plotly.express as px\n",
    "import seaborn as sns"
   ]
  },
  {
   "cell_type": "markdown",
   "id": "2d76149a",
   "metadata": {},
   "source": [
    "### Load data"
   ]
  },
  {
   "cell_type": "code",
   "execution_count": 2,
   "id": "861c18b6",
   "metadata": {},
   "outputs": [
    {
     "data": {
      "text/html": [
       "<div>\n",
       "<style scoped>\n",
       "    .dataframe tbody tr th:only-of-type {\n",
       "        vertical-align: middle;\n",
       "    }\n",
       "\n",
       "    .dataframe tbody tr th {\n",
       "        vertical-align: top;\n",
       "    }\n",
       "\n",
       "    .dataframe thead th {\n",
       "        text-align: right;\n",
       "    }\n",
       "</style>\n",
       "<table border=\"1\" class=\"dataframe\">\n",
       "  <thead>\n",
       "    <tr style=\"text-align: right;\">\n",
       "      <th></th>\n",
       "      <th>customerID</th>\n",
       "      <th>gender</th>\n",
       "      <th>SeniorCitizen</th>\n",
       "      <th>Partner</th>\n",
       "      <th>Dependents</th>\n",
       "      <th>tenure</th>\n",
       "      <th>PhoneService</th>\n",
       "      <th>MultipleLines</th>\n",
       "      <th>InternetService</th>\n",
       "      <th>OnlineSecurity</th>\n",
       "      <th>...</th>\n",
       "      <th>DeviceProtection</th>\n",
       "      <th>TechSupport</th>\n",
       "      <th>StreamingTV</th>\n",
       "      <th>StreamingMovies</th>\n",
       "      <th>Contract</th>\n",
       "      <th>PaperlessBilling</th>\n",
       "      <th>PaymentMethod</th>\n",
       "      <th>MonthlyCharges</th>\n",
       "      <th>TotalCharges</th>\n",
       "      <th>Churn</th>\n",
       "    </tr>\n",
       "  </thead>\n",
       "  <tbody>\n",
       "    <tr>\n",
       "      <th>0</th>\n",
       "      <td>7590-VHVEG</td>\n",
       "      <td>Female</td>\n",
       "      <td>0</td>\n",
       "      <td>Yes</td>\n",
       "      <td>No</td>\n",
       "      <td>1</td>\n",
       "      <td>No</td>\n",
       "      <td>No phone service</td>\n",
       "      <td>DSL</td>\n",
       "      <td>No</td>\n",
       "      <td>...</td>\n",
       "      <td>No</td>\n",
       "      <td>No</td>\n",
       "      <td>No</td>\n",
       "      <td>No</td>\n",
       "      <td>Month-to-month</td>\n",
       "      <td>Yes</td>\n",
       "      <td>Electronic check</td>\n",
       "      <td>29.85</td>\n",
       "      <td>29.85</td>\n",
       "      <td>No</td>\n",
       "    </tr>\n",
       "    <tr>\n",
       "      <th>1</th>\n",
       "      <td>5575-GNVDE</td>\n",
       "      <td>Male</td>\n",
       "      <td>0</td>\n",
       "      <td>No</td>\n",
       "      <td>No</td>\n",
       "      <td>34</td>\n",
       "      <td>Yes</td>\n",
       "      <td>No</td>\n",
       "      <td>DSL</td>\n",
       "      <td>Yes</td>\n",
       "      <td>...</td>\n",
       "      <td>Yes</td>\n",
       "      <td>No</td>\n",
       "      <td>No</td>\n",
       "      <td>No</td>\n",
       "      <td>One year</td>\n",
       "      <td>No</td>\n",
       "      <td>Mailed check</td>\n",
       "      <td>56.95</td>\n",
       "      <td>1889.5</td>\n",
       "      <td>No</td>\n",
       "    </tr>\n",
       "    <tr>\n",
       "      <th>2</th>\n",
       "      <td>3668-QPYBK</td>\n",
       "      <td>Male</td>\n",
       "      <td>0</td>\n",
       "      <td>No</td>\n",
       "      <td>No</td>\n",
       "      <td>2</td>\n",
       "      <td>Yes</td>\n",
       "      <td>No</td>\n",
       "      <td>DSL</td>\n",
       "      <td>Yes</td>\n",
       "      <td>...</td>\n",
       "      <td>No</td>\n",
       "      <td>No</td>\n",
       "      <td>No</td>\n",
       "      <td>No</td>\n",
       "      <td>Month-to-month</td>\n",
       "      <td>Yes</td>\n",
       "      <td>Mailed check</td>\n",
       "      <td>53.85</td>\n",
       "      <td>108.15</td>\n",
       "      <td>Yes</td>\n",
       "    </tr>\n",
       "    <tr>\n",
       "      <th>3</th>\n",
       "      <td>7795-CFOCW</td>\n",
       "      <td>Male</td>\n",
       "      <td>0</td>\n",
       "      <td>No</td>\n",
       "      <td>No</td>\n",
       "      <td>45</td>\n",
       "      <td>No</td>\n",
       "      <td>No phone service</td>\n",
       "      <td>DSL</td>\n",
       "      <td>Yes</td>\n",
       "      <td>...</td>\n",
       "      <td>Yes</td>\n",
       "      <td>Yes</td>\n",
       "      <td>No</td>\n",
       "      <td>No</td>\n",
       "      <td>One year</td>\n",
       "      <td>No</td>\n",
       "      <td>Bank transfer (automatic)</td>\n",
       "      <td>42.30</td>\n",
       "      <td>1840.75</td>\n",
       "      <td>No</td>\n",
       "    </tr>\n",
       "    <tr>\n",
       "      <th>4</th>\n",
       "      <td>9237-HQITU</td>\n",
       "      <td>Female</td>\n",
       "      <td>0</td>\n",
       "      <td>No</td>\n",
       "      <td>No</td>\n",
       "      <td>2</td>\n",
       "      <td>Yes</td>\n",
       "      <td>No</td>\n",
       "      <td>Fiber optic</td>\n",
       "      <td>No</td>\n",
       "      <td>...</td>\n",
       "      <td>No</td>\n",
       "      <td>No</td>\n",
       "      <td>No</td>\n",
       "      <td>No</td>\n",
       "      <td>Month-to-month</td>\n",
       "      <td>Yes</td>\n",
       "      <td>Electronic check</td>\n",
       "      <td>70.70</td>\n",
       "      <td>151.65</td>\n",
       "      <td>Yes</td>\n",
       "    </tr>\n",
       "  </tbody>\n",
       "</table>\n",
       "<p>5 rows × 21 columns</p>\n",
       "</div>"
      ],
      "text/plain": [
       "   customerID  gender  SeniorCitizen Partner Dependents  tenure PhoneService  \\\n",
       "0  7590-VHVEG  Female              0     Yes         No       1           No   \n",
       "1  5575-GNVDE    Male              0      No         No      34          Yes   \n",
       "2  3668-QPYBK    Male              0      No         No       2          Yes   \n",
       "3  7795-CFOCW    Male              0      No         No      45           No   \n",
       "4  9237-HQITU  Female              0      No         No       2          Yes   \n",
       "\n",
       "      MultipleLines InternetService OnlineSecurity  ... DeviceProtection  \\\n",
       "0  No phone service             DSL             No  ...               No   \n",
       "1                No             DSL            Yes  ...              Yes   \n",
       "2                No             DSL            Yes  ...               No   \n",
       "3  No phone service             DSL            Yes  ...              Yes   \n",
       "4                No     Fiber optic             No  ...               No   \n",
       "\n",
       "  TechSupport StreamingTV StreamingMovies        Contract PaperlessBilling  \\\n",
       "0          No          No              No  Month-to-month              Yes   \n",
       "1          No          No              No        One year               No   \n",
       "2          No          No              No  Month-to-month              Yes   \n",
       "3         Yes          No              No        One year               No   \n",
       "4          No          No              No  Month-to-month              Yes   \n",
       "\n",
       "               PaymentMethod MonthlyCharges  TotalCharges Churn  \n",
       "0           Electronic check          29.85         29.85    No  \n",
       "1               Mailed check          56.95        1889.5    No  \n",
       "2               Mailed check          53.85        108.15   Yes  \n",
       "3  Bank transfer (automatic)          42.30       1840.75    No  \n",
       "4           Electronic check          70.70        151.65   Yes  \n",
       "\n",
       "[5 rows x 21 columns]"
      ]
     },
     "execution_count": 2,
     "metadata": {},
     "output_type": "execute_result"
    }
   ],
   "source": [
    "#Read csv data\n",
    "df=pd.read_csv('data/WA_Fn-UseC_-Telco-Customer-Churn.csv')\n",
    "df.head()"
   ]
  },
  {
   "cell_type": "code",
   "execution_count": 3,
   "id": "11ea1269",
   "metadata": {},
   "outputs": [
    {
     "data": {
      "text/plain": [
       "Index(['customerID', 'gender', 'SeniorCitizen', 'Partner', 'Dependents',\n",
       "       'tenure', 'PhoneService', 'MultipleLines', 'InternetService',\n",
       "       'OnlineSecurity', 'OnlineBackup', 'DeviceProtection', 'TechSupport',\n",
       "       'StreamingTV', 'StreamingMovies', 'Contract', 'PaperlessBilling',\n",
       "       'PaymentMethod', 'MonthlyCharges', 'TotalCharges', 'Churn'],\n",
       "      dtype='object')"
      ]
     },
     "execution_count": 3,
     "metadata": {},
     "output_type": "execute_result"
    }
   ],
   "source": [
    "df.columns"
   ]
  },
  {
   "cell_type": "code",
   "execution_count": 4,
   "id": "d3456871",
   "metadata": {
    "scrolled": false
   },
   "outputs": [
    {
     "name": "stdout",
     "output_type": "stream",
     "text": [
      "<class 'pandas.core.frame.DataFrame'>\n",
      "RangeIndex: 7043 entries, 0 to 7042\n",
      "Data columns (total 21 columns):\n",
      " #   Column            Non-Null Count  Dtype  \n",
      "---  ------            --------------  -----  \n",
      " 0   customerID        7043 non-null   object \n",
      " 1   gender            7043 non-null   object \n",
      " 2   SeniorCitizen     7043 non-null   int64  \n",
      " 3   Partner           7043 non-null   object \n",
      " 4   Dependents        7043 non-null   object \n",
      " 5   tenure            7043 non-null   int64  \n",
      " 6   PhoneService      7043 non-null   object \n",
      " 7   MultipleLines     7043 non-null   object \n",
      " 8   InternetService   7043 non-null   object \n",
      " 9   OnlineSecurity    7043 non-null   object \n",
      " 10  OnlineBackup      7043 non-null   object \n",
      " 11  DeviceProtection  7043 non-null   object \n",
      " 12  TechSupport       7043 non-null   object \n",
      " 13  StreamingTV       7043 non-null   object \n",
      " 14  StreamingMovies   7043 non-null   object \n",
      " 15  Contract          7043 non-null   object \n",
      " 16  PaperlessBilling  7043 non-null   object \n",
      " 17  PaymentMethod     7043 non-null   object \n",
      " 18  MonthlyCharges    7043 non-null   float64\n",
      " 19  TotalCharges      7043 non-null   object \n",
      " 20  Churn             7043 non-null   object \n",
      "dtypes: float64(1), int64(2), object(18)\n",
      "memory usage: 1.1+ MB\n"
     ]
    }
   ],
   "source": [
    "df.info()"
   ]
  },
  {
   "cell_type": "markdown",
   "id": "4d50d1aa",
   "metadata": {},
   "source": [
    "### Convert / Data Cleansing"
   ]
  },
  {
   "cell_type": "code",
   "execution_count": 55,
   "id": "8ddc1cda",
   "metadata": {},
   "outputs": [],
   "source": [
    "df[\"TotalCharges\"] = pd.to_numeric(df[\"TotalCharges\"], errors=\"coerce\")"
   ]
  },
  {
   "cell_type": "code",
   "execution_count": 56,
   "id": "21c780ce",
   "metadata": {},
   "outputs": [
    {
     "name": "stdout",
     "output_type": "stream",
     "text": [
      "<class 'pandas.core.frame.DataFrame'>\n",
      "RangeIndex: 7043 entries, 0 to 7042\n",
      "Data columns (total 21 columns):\n",
      " #   Column            Non-Null Count  Dtype  \n",
      "---  ------            --------------  -----  \n",
      " 0   customerID        7043 non-null   object \n",
      " 1   gender            7043 non-null   object \n",
      " 2   SeniorCitizen     7043 non-null   int64  \n",
      " 3   Partner           7043 non-null   object \n",
      " 4   Dependents        7043 non-null   object \n",
      " 5   tenure            7043 non-null   int64  \n",
      " 6   PhoneService      7043 non-null   object \n",
      " 7   MultipleLines     7043 non-null   object \n",
      " 8   InternetService   7043 non-null   object \n",
      " 9   OnlineSecurity    7043 non-null   object \n",
      " 10  OnlineBackup      7043 non-null   object \n",
      " 11  DeviceProtection  7043 non-null   object \n",
      " 12  TechSupport       7043 non-null   object \n",
      " 13  StreamingTV       7043 non-null   object \n",
      " 14  StreamingMovies   7043 non-null   object \n",
      " 15  Contract          7043 non-null   object \n",
      " 16  PaperlessBilling  7043 non-null   object \n",
      " 17  PaymentMethod     7043 non-null   object \n",
      " 18  MonthlyCharges    7043 non-null   float64\n",
      " 19  TotalCharges      7043 non-null   float64\n",
      " 20  Churn             7043 non-null   object \n",
      "dtypes: float64(2), int64(2), object(17)\n",
      "memory usage: 1.1+ MB\n"
     ]
    }
   ],
   "source": [
    "df.info()"
   ]
  },
  {
   "cell_type": "code",
   "execution_count": 50,
   "id": "44ee9c76",
   "metadata": {},
   "outputs": [
    {
     "data": {
      "text/plain": [
       "<AxesSubplot:xlabel='Churn', ylabel='count'>"
      ]
     },
     "execution_count": 50,
     "metadata": {},
     "output_type": "execute_result"
    },
    {
     "data": {
      "image/png": "[encoded data removed]",
      "text/plain": [
       "<Figure size 576x396 with 1 Axes>"
      ]
     },
     "metadata": {},
     "output_type": "display_data"
    }
   ],
   "source": [
    "sns.countplot(x='Churn', data=df)"
   ]
  },
  {
   "cell_type": "markdown",
   "id": "3da96f65",
   "metadata": {},
   "source": [
    "โดยข้อมูลที่เราต้องการ Predict คือ Column Churn ที่หมายถึงตัวที่ระบุว่า ลูกค้าเลิกซื้อสินค้าหรือไม่ Yes = ยกเลิก, No = ไม่ยกเลิก ถ้าดูกราฟ จะเห็นว่า Data เป็น Imbalance Dataset หรือ Yes / No มีจำนวน Record ที่แตกต่างกันนั่นเอง"
   ]
  },
  {
   "cell_type": "markdown",
   "id": "0e608927",
   "metadata": {},
   "source": [
    "### PyCaret Setup"
   ]
  },
  {
   "cell_type": "markdown",
   "id": "646a6a6b",
   "metadata": {},
   "source": [
    "Clean data พอเป็นพิธี เดี๋ยวเรามาลองใช้ PyCaret ในการสร้าง Model ดูครับ ใช้ Code ข้างล่าง แล้วก็ตรวจสอบ Data Type ถ้า OK แล้วก็กด Enter ในกล่อง input ใต้ ตารางครับ ตัว PyCaret ก็จะเริ่ม Train Model ให้เราทันที (ตรงกล่องสีฟ้าๆ ในรูป)\n",
    "\n",
    "ถ้าสังเกตใน setup ผมใส่ Parameter ให้ทำการ normalize data ด้วย ให้ Remove outlier แก้ไข imbalance data และให้ ignore field customerID ที่ไม่ได้มีผลต่อการ Train Model ครับ"
   ]
  },
  {
   "cell_type": "code",
   "execution_count": 57,
   "id": "8e0eea11",
   "metadata": {
    "scrolled": false
   },
   "outputs": [
    {
     "data": {
      "text/html": [
       "<style  type=\"text/css\" >\n",
       "#T_512e5_row29_col1,#T_512e5_row40_col1,#T_512e5_row57_col1{\n",
       "            background-color:  lightgreen;\n",
       "        }</style><table id=\"T_512e5_\" ><thead>    <tr>        <th class=\"blank level0\" ></th>        <th class=\"col_heading level0 col0\" >Description</th>        <th class=\"col_heading level0 col1\" >Value</th>    </tr></thead><tbody>\n",
       "                <tr>\n",
       "                        <th id=\"T_512e5_level0_row0\" class=\"row_heading level0 row0\" >0</th>\n",
       "                        <td id=\"T_512e5_row0_col0\" class=\"data row0 col0\" >session_id</td>\n",
       "                        <td id=\"T_512e5_row0_col1\" class=\"data row0 col1\" >4840</td>\n",
       "            </tr>\n",
       "            <tr>\n",
       "                        <th id=\"T_512e5_level0_row1\" class=\"row_heading level0 row1\" >1</th>\n",
       "                        <td id=\"T_512e5_row1_col0\" class=\"data row1 col0\" >Target</td>\n",
       "                        <td id=\"T_512e5_row1_col1\" class=\"data row1 col1\" >Churn</td>\n",
       "            </tr>\n",
       "            <tr>\n",
       "                        <th id=\"T_512e5_level0_row2\" class=\"row_heading level0 row2\" >2</th>\n",
       "                        <td id=\"T_512e5_row2_col0\" class=\"data row2 col0\" >Target Type</td>\n",
       "                        <td id=\"T_512e5_row2_col1\" class=\"data row2 col1\" >Binary</td>\n",
       "            </tr>\n",
       "            <tr>\n",
       "                        <th id=\"T_512e5_level0_row3\" class=\"row_heading level0 row3\" >3</th>\n",
       "                        <td id=\"T_512e5_row3_col0\" class=\"data row3 col0\" >Label Encoded</td>\n",
       "                        <td id=\"T_512e5_row3_col1\" class=\"data row3 col1\" >No: 0, Yes: 1</td>\n",
       "            </tr>\n",
       "            <tr>\n",
       "                        <th id=\"T_512e5_level0_row4\" class=\"row_heading level0 row4\" >4</th>\n",
       "                        <td id=\"T_512e5_row4_col0\" class=\"data row4 col0\" >Original Data</td>\n",
       "                        <td id=\"T_512e5_row4_col1\" class=\"data row4 col1\" >(7043, 21)</td>\n",
       "            </tr>\n",
       "            <tr>\n",
       "                        <th id=\"T_512e5_level0_row5\" class=\"row_heading level0 row5\" >5</th>\n",
       "                        <td id=\"T_512e5_row5_col0\" class=\"data row5 col0\" >Missing Values</td>\n",
       "                        <td id=\"T_512e5_row5_col1\" class=\"data row5 col1\" >False</td>\n",
       "            </tr>\n",
       "            <tr>\n",
       "                        <th id=\"T_512e5_level0_row6\" class=\"row_heading level0 row6\" >6</th>\n",
       "                        <td id=\"T_512e5_row6_col0\" class=\"data row6 col0\" >Numeric Features</td>\n",
       "                        <td id=\"T_512e5_row6_col1\" class=\"data row6 col1\" >3</td>\n",
       "            </tr>\n",
       "            <tr>\n",
       "                        <th id=\"T_512e5_level0_row7\" class=\"row_heading level0 row7\" >7</th>\n",
       "                        <td id=\"T_512e5_row7_col0\" class=\"data row7 col0\" >Categorical Features</td>\n",
       "                        <td id=\"T_512e5_row7_col1\" class=\"data row7 col1\" >16</td>\n",
       "            </tr>\n",
       "            <tr>\n",
       "                        <th id=\"T_512e5_level0_row8\" class=\"row_heading level0 row8\" >8</th>\n",
       "                        <td id=\"T_512e5_row8_col0\" class=\"data row8 col0\" >Ordinal Features</td>\n",
       "                        <td id=\"T_512e5_row8_col1\" class=\"data row8 col1\" >False</td>\n",
       "            </tr>\n",
       "            <tr>\n",
       "                        <th id=\"T_512e5_level0_row9\" class=\"row_heading level0 row9\" >9</th>\n",
       "                        <td id=\"T_512e5_row9_col0\" class=\"data row9 col0\" >High Cardinality Features</td>\n",
       "                        <td id=\"T_512e5_row9_col1\" class=\"data row9 col1\" >False</td>\n",
       "            </tr>\n",
       "            <tr>\n",
       "                        <th id=\"T_512e5_level0_row10\" class=\"row_heading level0 row10\" >10</th>\n",
       "                        <td id=\"T_512e5_row10_col0\" class=\"data row10 col0\" >High Cardinality Method</td>\n",
       "                        <td id=\"T_512e5_row10_col1\" class=\"data row10 col1\" >None</td>\n",
       "            </tr>\n",
       "            <tr>\n",
       "                        <th id=\"T_512e5_level0_row11\" class=\"row_heading level0 row11\" >11</th>\n",
       "                        <td id=\"T_512e5_row11_col0\" class=\"data row11 col0\" >Transformed Train Set</td>\n",
       "                        <td id=\"T_512e5_row11_col1\" class=\"data row11 col1\" >(4683, 33)</td>\n",
       "            </tr>\n",
       "            <tr>\n",
       "                        <th id=\"T_512e5_level0_row12\" class=\"row_heading level0 row12\" >12</th>\n",
       "                        <td id=\"T_512e5_row12_col0\" class=\"data row12 col0\" >Transformed Test Set</td>\n",
       "                        <td id=\"T_512e5_row12_col1\" class=\"data row12 col1\" >(2113, 33)</td>\n",
       "            </tr>\n",
       "            <tr>\n",
       "                        <th id=\"T_512e5_level0_row13\" class=\"row_heading level0 row13\" >13</th>\n",
       "                        <td id=\"T_512e5_row13_col0\" class=\"data row13 col0\" >Shuffle Train-Test</td>\n",
       "                        <td id=\"T_512e5_row13_col1\" class=\"data row13 col1\" >True</td>\n",
       "            </tr>\n",
       "            <tr>\n",
       "                        <th id=\"T_512e5_level0_row14\" class=\"row_heading level0 row14\" >14</th>\n",
       "                        <td id=\"T_512e5_row14_col0\" class=\"data row14 col0\" >Stratify Train-Test</td>\n",
       "                        <td id=\"T_512e5_row14_col1\" class=\"data row14 col1\" >False</td>\n",
       "            </tr>\n",
       "            <tr>\n",
       "                        <th id=\"T_512e5_level0_row15\" class=\"row_heading level0 row15\" >15</th>\n",
       "                        <td id=\"T_512e5_row15_col0\" class=\"data row15 col0\" >Fold Generator</td>\n",
       "                        <td id=\"T_512e5_row15_col1\" class=\"data row15 col1\" >StratifiedKFold</td>\n",
       "            </tr>\n",
       "            <tr>\n",
       "                        <th id=\"T_512e5_level0_row16\" class=\"row_heading level0 row16\" >16</th>\n",
       "                        <td id=\"T_512e5_row16_col0\" class=\"data row16 col0\" >Fold Number</td>\n",
       "                        <td id=\"T_512e5_row16_col1\" class=\"data row16 col1\" >10</td>\n",
       "            </tr>\n",
       "            <tr>\n",
       "                        <th id=\"T_512e5_level0_row17\" class=\"row_heading level0 row17\" >17</th>\n",
       "                        <td id=\"T_512e5_row17_col0\" class=\"data row17 col0\" >CPU Jobs</td>\n",
       "                        <td id=\"T_512e5_row17_col1\" class=\"data row17 col1\" >-1</td>\n",
       "            </tr>\n",
       "            <tr>\n",
       "                        <th id=\"T_512e5_level0_row18\" class=\"row_heading level0 row18\" >18</th>\n",
       "                        <td id=\"T_512e5_row18_col0\" class=\"data row18 col0\" >Use GPU</td>\n",
       "                        <td id=\"T_512e5_row18_col1\" class=\"data row18 col1\" >False</td>\n",
       "            </tr>\n",
       "            <tr>\n",
       "                        <th id=\"T_512e5_level0_row19\" class=\"row_heading level0 row19\" >19</th>\n",
       "                        <td id=\"T_512e5_row19_col0\" class=\"data row19 col0\" >Log Experiment</td>\n",
       "                        <td id=\"T_512e5_row19_col1\" class=\"data row19 col1\" >False</td>\n",
       "            </tr>\n",
       "            <tr>\n",
       "                        <th id=\"T_512e5_level0_row20\" class=\"row_heading level0 row20\" >20</th>\n",
       "                        <td id=\"T_512e5_row20_col0\" class=\"data row20 col0\" >Experiment Name</td>\n",
       "                        <td id=\"T_512e5_row20_col1\" class=\"data row20 col1\" >clf-default-name</td>\n",
       "            </tr>\n",
       "            <tr>\n",
       "                        <th id=\"T_512e5_level0_row21\" class=\"row_heading level0 row21\" >21</th>\n",
       "                        <td id=\"T_512e5_row21_col0\" class=\"data row21 col0\" >USI</td>\n",
       "                        <td id=\"T_512e5_row21_col1\" class=\"data row21 col1\" >844e</td>\n",
       "            </tr>\n",
       "            <tr>\n",
       "                        <th id=\"T_512e5_level0_row22\" class=\"row_heading level0 row22\" >22</th>\n",
       "                        <td id=\"T_512e5_row22_col0\" class=\"data row22 col0\" >Imputation Type</td>\n",
       "                        <td id=\"T_512e5_row22_col1\" class=\"data row22 col1\" >simple</td>\n",
       "            </tr>\n",
       "            <tr>\n",
       "                        <th id=\"T_512e5_level0_row23\" class=\"row_heading level0 row23\" >23</th>\n",
       "                        <td id=\"T_512e5_row23_col0\" class=\"data row23 col0\" >Iterative Imputation Iteration</td>\n",
       "                        <td id=\"T_512e5_row23_col1\" class=\"data row23 col1\" >None</td>\n",
       "            </tr>\n",
       "            <tr>\n",
       "                        <th id=\"T_512e5_level0_row24\" class=\"row_heading level0 row24\" >24</th>\n",
       "                        <td id=\"T_512e5_row24_col0\" class=\"data row24 col0\" >Numeric Imputer</td>\n",
       "                        <td id=\"T_512e5_row24_col1\" class=\"data row24 col1\" >mean</td>\n",
       "            </tr>\n",
       "            <tr>\n",
       "                        <th id=\"T_512e5_level0_row25\" class=\"row_heading level0 row25\" >25</th>\n",
       "                        <td id=\"T_512e5_row25_col0\" class=\"data row25 col0\" >Iterative Imputation Numeric Model</td>\n",
       "                        <td id=\"T_512e5_row25_col1\" class=\"data row25 col1\" >None</td>\n",
       "            </tr>\n",
       "            <tr>\n",
       "                        <th id=\"T_512e5_level0_row26\" class=\"row_heading level0 row26\" >26</th>\n",
       "                        <td id=\"T_512e5_row26_col0\" class=\"data row26 col0\" >Categorical Imputer</td>\n",
       "                        <td id=\"T_512e5_row26_col1\" class=\"data row26 col1\" >constant</td>\n",
       "            </tr>\n",
       "            <tr>\n",
       "                        <th id=\"T_512e5_level0_row27\" class=\"row_heading level0 row27\" >27</th>\n",
       "                        <td id=\"T_512e5_row27_col0\" class=\"data row27 col0\" >Iterative Imputation Categorical Model</td>\n",
       "                        <td id=\"T_512e5_row27_col1\" class=\"data row27 col1\" >None</td>\n",
       "            </tr>\n",
       "            <tr>\n",
       "                        <th id=\"T_512e5_level0_row28\" class=\"row_heading level0 row28\" >28</th>\n",
       "                        <td id=\"T_512e5_row28_col0\" class=\"data row28 col0\" >Unknown Categoricals Handling</td>\n",
       "                        <td id=\"T_512e5_row28_col1\" class=\"data row28 col1\" >least_frequent</td>\n",
       "            </tr>\n",
       "            <tr>\n",
       "                        <th id=\"T_512e5_level0_row29\" class=\"row_heading level0 row29\" >29</th>\n",
       "                        <td id=\"T_512e5_row29_col0\" class=\"data row29 col0\" >Normalize</td>\n",
       "                        <td id=\"T_512e5_row29_col1\" class=\"data row29 col1\" >True</td>\n",
       "            </tr>\n",
       "            <tr>\n",
       "                        <th id=\"T_512e5_level0_row30\" class=\"row_heading level0 row30\" >30</th>\n",
       "                        <td id=\"T_512e5_row30_col0\" class=\"data row30 col0\" >Normalize Method</td>\n",
       "                        <td id=\"T_512e5_row30_col1\" class=\"data row30 col1\" >zscore</td>\n",
       "            </tr>\n",
       "            <tr>\n",
       "                        <th id=\"T_512e5_level0_row31\" class=\"row_heading level0 row31\" >31</th>\n",
       "                        <td id=\"T_512e5_row31_col0\" class=\"data row31 col0\" >Transformation</td>\n",
       "                        <td id=\"T_512e5_row31_col1\" class=\"data row31 col1\" >False</td>\n",
       "            </tr>\n",
       "            <tr>\n",
       "                        <th id=\"T_512e5_level0_row32\" class=\"row_heading level0 row32\" >32</th>\n",
       "                        <td id=\"T_512e5_row32_col0\" class=\"data row32 col0\" >Transformation Method</td>\n",
       "                        <td id=\"T_512e5_row32_col1\" class=\"data row32 col1\" >None</td>\n",
       "            </tr>\n",
       "            <tr>\n",
       "                        <th id=\"T_512e5_level0_row33\" class=\"row_heading level0 row33\" >33</th>\n",
       "                        <td id=\"T_512e5_row33_col0\" class=\"data row33 col0\" >PCA</td>\n",
       "                        <td id=\"T_512e5_row33_col1\" class=\"data row33 col1\" >False</td>\n",
       "            </tr>\n",
       "            <tr>\n",
       "                        <th id=\"T_512e5_level0_row34\" class=\"row_heading level0 row34\" >34</th>\n",
       "                        <td id=\"T_512e5_row34_col0\" class=\"data row34 col0\" >PCA Method</td>\n",
       "                        <td id=\"T_512e5_row34_col1\" class=\"data row34 col1\" >None</td>\n",
       "            </tr>\n",
       "            <tr>\n",
       "                        <th id=\"T_512e5_level0_row35\" class=\"row_heading level0 row35\" >35</th>\n",
       "                        <td id=\"T_512e5_row35_col0\" class=\"data row35 col0\" >PCA Components</td>\n",
       "                        <td id=\"T_512e5_row35_col1\" class=\"data row35 col1\" >None</td>\n",
       "            </tr>\n",
       "            <tr>\n",
       "                        <th id=\"T_512e5_level0_row36\" class=\"row_heading level0 row36\" >36</th>\n",
       "                        <td id=\"T_512e5_row36_col0\" class=\"data row36 col0\" >Ignore Low Variance</td>\n",
       "                        <td id=\"T_512e5_row36_col1\" class=\"data row36 col1\" >False</td>\n",
       "            </tr>\n",
       "            <tr>\n",
       "                        <th id=\"T_512e5_level0_row37\" class=\"row_heading level0 row37\" >37</th>\n",
       "                        <td id=\"T_512e5_row37_col0\" class=\"data row37 col0\" >Combine Rare Levels</td>\n",
       "                        <td id=\"T_512e5_row37_col1\" class=\"data row37 col1\" >False</td>\n",
       "            </tr>\n",
       "            <tr>\n",
       "                        <th id=\"T_512e5_level0_row38\" class=\"row_heading level0 row38\" >38</th>\n",
       "                        <td id=\"T_512e5_row38_col0\" class=\"data row38 col0\" >Rare Level Threshold</td>\n",
       "                        <td id=\"T_512e5_row38_col1\" class=\"data row38 col1\" >None</td>\n",
       "            </tr>\n",
       "            <tr>\n",
       "                        <th id=\"T_512e5_level0_row39\" class=\"row_heading level0 row39\" >39</th>\n",
       "                        <td id=\"T_512e5_row39_col0\" class=\"data row39 col0\" >Numeric Binning</td>\n",
       "                        <td id=\"T_512e5_row39_col1\" class=\"data row39 col1\" >False</td>\n",
       "            </tr>\n",
       "            <tr>\n",
       "                        <th id=\"T_512e5_level0_row40\" class=\"row_heading level0 row40\" >40</th>\n",
       "                        <td id=\"T_512e5_row40_col0\" class=\"data row40 col0\" >Remove Outliers</td>\n",
       "                        <td id=\"T_512e5_row40_col1\" class=\"data row40 col1\" >True</td>\n",
       "            </tr>\n",
       "            <tr>\n",
       "                        <th id=\"T_512e5_level0_row41\" class=\"row_heading level0 row41\" >41</th>\n",
       "                        <td id=\"T_512e5_row41_col0\" class=\"data row41 col0\" >Outliers Threshold</td>\n",
       "                        <td id=\"T_512e5_row41_col1\" class=\"data row41 col1\" >0.050000</td>\n",
       "            </tr>\n",
       "            <tr>\n",
       "                        <th id=\"T_512e5_level0_row42\" class=\"row_heading level0 row42\" >42</th>\n",
       "                        <td id=\"T_512e5_row42_col0\" class=\"data row42 col0\" >Remove Multicollinearity</td>\n",
       "                        <td id=\"T_512e5_row42_col1\" class=\"data row42 col1\" >False</td>\n",
       "            </tr>\n",
       "            <tr>\n",
       "                        <th id=\"T_512e5_level0_row43\" class=\"row_heading level0 row43\" >43</th>\n",
       "                        <td id=\"T_512e5_row43_col0\" class=\"data row43 col0\" >Multicollinearity Threshold</td>\n",
       "                        <td id=\"T_512e5_row43_col1\" class=\"data row43 col1\" >None</td>\n",
       "            </tr>\n",
       "            <tr>\n",
       "                        <th id=\"T_512e5_level0_row44\" class=\"row_heading level0 row44\" >44</th>\n",
       "                        <td id=\"T_512e5_row44_col0\" class=\"data row44 col0\" >Clustering</td>\n",
       "                        <td id=\"T_512e5_row44_col1\" class=\"data row44 col1\" >False</td>\n",
       "            </tr>\n",
       "            <tr>\n",
       "                        <th id=\"T_512e5_level0_row45\" class=\"row_heading level0 row45\" >45</th>\n",
       "                        <td id=\"T_512e5_row45_col0\" class=\"data row45 col0\" >Clustering Iteration</td>\n",
       "                        <td id=\"T_512e5_row45_col1\" class=\"data row45 col1\" >None</td>\n",
       "            </tr>\n",
       "            <tr>\n",
       "                        <th id=\"T_512e5_level0_row46\" class=\"row_heading level0 row46\" >46</th>\n",
       "                        <td id=\"T_512e5_row46_col0\" class=\"data row46 col0\" >Polynomial Features</td>\n",
       "                        <td id=\"T_512e5_row46_col1\" class=\"data row46 col1\" >False</td>\n",
       "            </tr>\n",
       "            <tr>\n",
       "                        <th id=\"T_512e5_level0_row47\" class=\"row_heading level0 row47\" >47</th>\n",
       "                        <td id=\"T_512e5_row47_col0\" class=\"data row47 col0\" >Polynomial Degree</td>\n",
       "                        <td id=\"T_512e5_row47_col1\" class=\"data row47 col1\" >None</td>\n",
       "            </tr>\n",
       "            <tr>\n",
       "                        <th id=\"T_512e5_level0_row48\" class=\"row_heading level0 row48\" >48</th>\n",
       "                        <td id=\"T_512e5_row48_col0\" class=\"data row48 col0\" >Trignometry Features</td>\n",
       "                        <td id=\"T_512e5_row48_col1\" class=\"data row48 col1\" >False</td>\n",
       "            </tr>\n",
       "            <tr>\n",
       "                        <th id=\"T_512e5_level0_row49\" class=\"row_heading level0 row49\" >49</th>\n",
       "                        <td id=\"T_512e5_row49_col0\" class=\"data row49 col0\" >Polynomial Threshold</td>\n",
       "                        <td id=\"T_512e5_row49_col1\" class=\"data row49 col1\" >None</td>\n",
       "            </tr>\n",
       "            <tr>\n",
       "                        <th id=\"T_512e5_level0_row50\" class=\"row_heading level0 row50\" >50</th>\n",
       "                        <td id=\"T_512e5_row50_col0\" class=\"data row50 col0\" >Group Features</td>\n",
       "                        <td id=\"T_512e5_row50_col1\" class=\"data row50 col1\" >False</td>\n",
       "            </tr>\n",
       "            <tr>\n",
       "                        <th id=\"T_512e5_level0_row51\" class=\"row_heading level0 row51\" >51</th>\n",
       "                        <td id=\"T_512e5_row51_col0\" class=\"data row51 col0\" >Feature Selection</td>\n",
       "                        <td id=\"T_512e5_row51_col1\" class=\"data row51 col1\" >False</td>\n",
       "            </tr>\n",
       "            <tr>\n",
       "                        <th id=\"T_512e5_level0_row52\" class=\"row_heading level0 row52\" >52</th>\n",
       "                        <td id=\"T_512e5_row52_col0\" class=\"data row52 col0\" >Feature Selection Method</td>\n",
       "                        <td id=\"T_512e5_row52_col1\" class=\"data row52 col1\" >classic</td>\n",
       "            </tr>\n",
       "            <tr>\n",
       "                        <th id=\"T_512e5_level0_row53\" class=\"row_heading level0 row53\" >53</th>\n",
       "                        <td id=\"T_512e5_row53_col0\" class=\"data row53 col0\" >Features Selection Threshold</td>\n",
       "                        <td id=\"T_512e5_row53_col1\" class=\"data row53 col1\" >None</td>\n",
       "            </tr>\n",
       "            <tr>\n",
       "                        <th id=\"T_512e5_level0_row54\" class=\"row_heading level0 row54\" >54</th>\n",
       "                        <td id=\"T_512e5_row54_col0\" class=\"data row54 col0\" >Feature Interaction</td>\n",
       "                        <td id=\"T_512e5_row54_col1\" class=\"data row54 col1\" >False</td>\n",
       "            </tr>\n",
       "            <tr>\n",
       "                        <th id=\"T_512e5_level0_row55\" class=\"row_heading level0 row55\" >55</th>\n",
       "                        <td id=\"T_512e5_row55_col0\" class=\"data row55 col0\" >Feature Ratio</td>\n",
       "                        <td id=\"T_512e5_row55_col1\" class=\"data row55 col1\" >False</td>\n",
       "            </tr>\n",
       "            <tr>\n",
       "                        <th id=\"T_512e5_level0_row56\" class=\"row_heading level0 row56\" >56</th>\n",
       "                        <td id=\"T_512e5_row56_col0\" class=\"data row56 col0\" >Interaction Threshold</td>\n",
       "                        <td id=\"T_512e5_row56_col1\" class=\"data row56 col1\" >None</td>\n",
       "            </tr>\n",
       "            <tr>\n",
       "                        <th id=\"T_512e5_level0_row57\" class=\"row_heading level0 row57\" >57</th>\n",
       "                        <td id=\"T_512e5_row57_col0\" class=\"data row57 col0\" >Fix Imbalance</td>\n",
       "                        <td id=\"T_512e5_row57_col1\" class=\"data row57 col1\" >True</td>\n",
       "            </tr>\n",
       "            <tr>\n",
       "                        <th id=\"T_512e5_level0_row58\" class=\"row_heading level0 row58\" >58</th>\n",
       "                        <td id=\"T_512e5_row58_col0\" class=\"data row58 col0\" >Fix Imbalance Method</td>\n",
       "                        <td id=\"T_512e5_row58_col1\" class=\"data row58 col1\" >SMOTE</td>\n",
       "            </tr>\n",
       "    </tbody></table>"
      ],
      "text/plain": [
       "<pandas.io.formats.style.Styler at 0x7fc893926fa0>"
      ]
     },
     "metadata": {},
     "output_type": "display_data"
    }
   ],
   "source": [
    "# init setup\n",
    "from pycaret.classification import *\n",
    "s = setup(df, \n",
    "          target = 'Churn', \n",
    "          normalize=True,\n",
    "          remove_outliers=True, \n",
    "          fix_imbalance=True, \n",
    "          ignore_features = ['customerID'])"
   ]
  },
  {
   "cell_type": "markdown",
   "id": "cbd9bf31",
   "metadata": {},
   "source": [
    "### Evaluate Model Performance\n",
    "คราวนี้เรามาดูผลลัพธ์ของ แต่ละ Model กันครับ ในตัวอย่างนี้จะดู F1 Score เป็นหลัก เพราะ data เป็น imbalance dataset โจทย์นี้ Recall & Presicion สำคัญครับ โดยใช้คำสั่ง"
   ]
  },
  {
   "cell_type": "code",
   "execution_count": 58,
   "id": "808f2d93",
   "metadata": {},
   "outputs": [
    {
     "data": {
      "text/html": [
       "<style  type=\"text/css\" >\n",
       "    #T_cde0a_ th {\n",
       "          text-align: left;\n",
       "    }#T_cde0a_row0_col0,#T_cde0a_row0_col1,#T_cde0a_row0_col3,#T_cde0a_row0_col4,#T_cde0a_row1_col0,#T_cde0a_row1_col1,#T_cde0a_row1_col2,#T_cde0a_row1_col3,#T_cde0a_row1_col4,#T_cde0a_row1_col5,#T_cde0a_row1_col6,#T_cde0a_row1_col7,#T_cde0a_row2_col0,#T_cde0a_row2_col1,#T_cde0a_row2_col2,#T_cde0a_row2_col3,#T_cde0a_row2_col4,#T_cde0a_row2_col5,#T_cde0a_row2_col6,#T_cde0a_row2_col7,#T_cde0a_row3_col0,#T_cde0a_row3_col1,#T_cde0a_row3_col2,#T_cde0a_row3_col3,#T_cde0a_row3_col4,#T_cde0a_row3_col5,#T_cde0a_row3_col6,#T_cde0a_row3_col7,#T_cde0a_row4_col0,#T_cde0a_row4_col2,#T_cde0a_row4_col3,#T_cde0a_row4_col4,#T_cde0a_row4_col5,#T_cde0a_row4_col6,#T_cde0a_row4_col7,#T_cde0a_row5_col0,#T_cde0a_row5_col1,#T_cde0a_row5_col2,#T_cde0a_row5_col3,#T_cde0a_row5_col4,#T_cde0a_row5_col5,#T_cde0a_row5_col6,#T_cde0a_row5_col7,#T_cde0a_row6_col0,#T_cde0a_row6_col1,#T_cde0a_row6_col2,#T_cde0a_row6_col3,#T_cde0a_row6_col4,#T_cde0a_row6_col5,#T_cde0a_row6_col6,#T_cde0a_row6_col7,#T_cde0a_row7_col0,#T_cde0a_row7_col2,#T_cde0a_row7_col3,#T_cde0a_row7_col4,#T_cde0a_row7_col5,#T_cde0a_row7_col6,#T_cde0a_row7_col7,#T_cde0a_row8_col0,#T_cde0a_row8_col1,#T_cde0a_row8_col2,#T_cde0a_row8_col3,#T_cde0a_row8_col5,#T_cde0a_row8_col6,#T_cde0a_row8_col7,#T_cde0a_row9_col0,#T_cde0a_row9_col1,#T_cde0a_row9_col2,#T_cde0a_row9_col3,#T_cde0a_row9_col4,#T_cde0a_row9_col5,#T_cde0a_row9_col6,#T_cde0a_row9_col7,#T_cde0a_row10_col0,#T_cde0a_row10_col1,#T_cde0a_row10_col2,#T_cde0a_row10_col3,#T_cde0a_row10_col4,#T_cde0a_row10_col5,#T_cde0a_row10_col6,#T_cde0a_row10_col7,#T_cde0a_row11_col0,#T_cde0a_row11_col1,#T_cde0a_row11_col2,#T_cde0a_row11_col3,#T_cde0a_row11_col4,#T_cde0a_row11_col5,#T_cde0a_row11_col6,#T_cde0a_row11_col7,#T_cde0a_row12_col0,#T_cde0a_row12_col1,#T_cde0a_row12_col2,#T_cde0a_row12_col4,#T_cde0a_row12_col5,#T_cde0a_row12_col6,#T_cde0a_row12_col7{\n",
       "            text-align:  left;\n",
       "            text-align:  left;\n",
       "        }#T_cde0a_row0_col2,#T_cde0a_row0_col5,#T_cde0a_row0_col6,#T_cde0a_row0_col7,#T_cde0a_row4_col1,#T_cde0a_row7_col1,#T_cde0a_row8_col4,#T_cde0a_row12_col3{\n",
       "            text-align:  left;\n",
       "            text-align:  left;\n",
       "            background-color:  yellow;\n",
       "        }#T_cde0a_row0_col8,#T_cde0a_row1_col8,#T_cde0a_row2_col8,#T_cde0a_row3_col8,#T_cde0a_row4_col8,#T_cde0a_row6_col8,#T_cde0a_row7_col8,#T_cde0a_row8_col8,#T_cde0a_row9_col8,#T_cde0a_row10_col8,#T_cde0a_row11_col8,#T_cde0a_row12_col8{\n",
       "            text-align:  left;\n",
       "            text-align:  left;\n",
       "            background-color:  lightgrey;\n",
       "        }#T_cde0a_row5_col8{\n",
       "            text-align:  left;\n",
       "            text-align:  left;\n",
       "            background-color:  yellow;\n",
       "            background-color:  lightgrey;\n",
       "        }</style><table id=\"T_cde0a_\" ><thead>    <tr>        <th class=\"blank level0\" ></th>        <th class=\"col_heading level0 col0\" >Model</th>        <th class=\"col_heading level0 col1\" >Accuracy</th>        <th class=\"col_heading level0 col2\" >AUC</th>        <th class=\"col_heading level0 col3\" >Recall</th>        <th class=\"col_heading level0 col4\" >Prec.</th>        <th class=\"col_heading level0 col5\" >F1</th>        <th class=\"col_heading level0 col6\" >Kappa</th>        <th class=\"col_heading level0 col7\" >MCC</th>        <th class=\"col_heading level0 col8\" >TT (Sec)</th>    </tr></thead><tbody>\n",
       "                <tr>\n",
       "                        <th id=\"T_cde0a_level0_row0\" class=\"row_heading level0 row0\" >ada</th>\n",
       "                        <td id=\"T_cde0a_row0_col0\" class=\"data row0 col0\" >Ada Boost Classifier</td>\n",
       "                        <td id=\"T_cde0a_row0_col1\" class=\"data row0 col1\" >0.7758</td>\n",
       "                        <td id=\"T_cde0a_row0_col2\" class=\"data row0 col2\" >0.8470</td>\n",
       "                        <td id=\"T_cde0a_row0_col3\" class=\"data row0 col3\" >0.7352</td>\n",
       "                        <td id=\"T_cde0a_row0_col4\" class=\"data row0 col4\" >0.5684</td>\n",
       "                        <td id=\"T_cde0a_row0_col5\" class=\"data row0 col5\" >0.6407</td>\n",
       "                        <td id=\"T_cde0a_row0_col6\" class=\"data row0 col6\" >0.4816</td>\n",
       "                        <td id=\"T_cde0a_row0_col7\" class=\"data row0 col7\" >0.4906</td>\n",
       "                        <td id=\"T_cde0a_row0_col8\" class=\"data row0 col8\" >0.0720</td>\n",
       "            </tr>\n",
       "            <tr>\n",
       "                        <th id=\"T_cde0a_level0_row1\" class=\"row_heading level0 row1\" >lr</th>\n",
       "                        <td id=\"T_cde0a_row1_col0\" class=\"data row1 col0\" >Logistic Regression</td>\n",
       "                        <td id=\"T_cde0a_row1_col1\" class=\"data row1 col1\" >0.7536</td>\n",
       "                        <td id=\"T_cde0a_row1_col2\" class=\"data row1 col2\" >0.8445</td>\n",
       "                        <td id=\"T_cde0a_row1_col3\" class=\"data row1 col3\" >0.7947</td>\n",
       "                        <td id=\"T_cde0a_row1_col4\" class=\"data row1 col4\" >0.5322</td>\n",
       "                        <td id=\"T_cde0a_row1_col5\" class=\"data row1 col5\" >0.6371</td>\n",
       "                        <td id=\"T_cde0a_row1_col6\" class=\"data row1 col6\" >0.4614</td>\n",
       "                        <td id=\"T_cde0a_row1_col7\" class=\"data row1 col7\" >0.4833</td>\n",
       "                        <td id=\"T_cde0a_row1_col8\" class=\"data row1 col8\" >0.2010</td>\n",
       "            </tr>\n",
       "            <tr>\n",
       "                        <th id=\"T_cde0a_level0_row2\" class=\"row_heading level0 row2\" >lda</th>\n",
       "                        <td id=\"T_cde0a_row2_col0\" class=\"data row2 col0\" >Linear Discriminant Analysis</td>\n",
       "                        <td id=\"T_cde0a_row2_col1\" class=\"data row2 col1\" >0.7476</td>\n",
       "                        <td id=\"T_cde0a_row2_col2\" class=\"data row2 col2\" >0.8412</td>\n",
       "                        <td id=\"T_cde0a_row2_col3\" class=\"data row2 col3\" >0.7869</td>\n",
       "                        <td id=\"T_cde0a_row2_col4\" class=\"data row2 col4\" >0.5250</td>\n",
       "                        <td id=\"T_cde0a_row2_col5\" class=\"data row2 col5\" >0.6293</td>\n",
       "                        <td id=\"T_cde0a_row2_col6\" class=\"data row2 col6\" >0.4494</td>\n",
       "                        <td id=\"T_cde0a_row2_col7\" class=\"data row2 col7\" >0.4712</td>\n",
       "                        <td id=\"T_cde0a_row2_col8\" class=\"data row2 col8\" >0.0220</td>\n",
       "            </tr>\n",
       "            <tr>\n",
       "                        <th id=\"T_cde0a_level0_row3\" class=\"row_heading level0 row3\" >ridge</th>\n",
       "                        <td id=\"T_cde0a_row3_col0\" class=\"data row3 col0\" >Ridge Classifier</td>\n",
       "                        <td id=\"T_cde0a_row3_col1\" class=\"data row3 col1\" >0.7465</td>\n",
       "                        <td id=\"T_cde0a_row3_col2\" class=\"data row3 col2\" >0.0000</td>\n",
       "                        <td id=\"T_cde0a_row3_col3\" class=\"data row3 col3\" >0.7845</td>\n",
       "                        <td id=\"T_cde0a_row3_col4\" class=\"data row3 col4\" >0.5237</td>\n",
       "                        <td id=\"T_cde0a_row3_col5\" class=\"data row3 col5\" >0.6277</td>\n",
       "                        <td id=\"T_cde0a_row3_col6\" class=\"data row3 col6\" >0.4470</td>\n",
       "                        <td id=\"T_cde0a_row3_col7\" class=\"data row3 col7\" >0.4686</td>\n",
       "                        <td id=\"T_cde0a_row3_col8\" class=\"data row3 col8\" >0.0180</td>\n",
       "            </tr>\n",
       "            <tr>\n",
       "                        <th id=\"T_cde0a_level0_row4\" class=\"row_heading level0 row4\" >gbc</th>\n",
       "                        <td id=\"T_cde0a_row4_col0\" class=\"data row4 col0\" >Gradient Boosting Classifier</td>\n",
       "                        <td id=\"T_cde0a_row4_col1\" class=\"data row4 col1\" >0.7850</td>\n",
       "                        <td id=\"T_cde0a_row4_col2\" class=\"data row4 col2\" >0.8426</td>\n",
       "                        <td id=\"T_cde0a_row4_col3\" class=\"data row4 col3\" >0.6663</td>\n",
       "                        <td id=\"T_cde0a_row4_col4\" class=\"data row4 col4\" >0.5939</td>\n",
       "                        <td id=\"T_cde0a_row4_col5\" class=\"data row4 col5\" >0.6275</td>\n",
       "                        <td id=\"T_cde0a_row4_col6\" class=\"data row4 col6\" >0.4771</td>\n",
       "                        <td id=\"T_cde0a_row4_col7\" class=\"data row4 col7\" >0.4792</td>\n",
       "                        <td id=\"T_cde0a_row4_col8\" class=\"data row4 col8\" >0.1900</td>\n",
       "            </tr>\n",
       "            <tr>\n",
       "                        <th id=\"T_cde0a_level0_row5\" class=\"row_heading level0 row5\" >nb</th>\n",
       "                        <td id=\"T_cde0a_row5_col0\" class=\"data row5 col0\" >Naive Bayes</td>\n",
       "                        <td id=\"T_cde0a_row5_col1\" class=\"data row5 col1\" >0.7361</td>\n",
       "                        <td id=\"T_cde0a_row5_col2\" class=\"data row5 col2\" >0.8309</td>\n",
       "                        <td id=\"T_cde0a_row5_col3\" class=\"data row5 col3\" >0.7908</td>\n",
       "                        <td id=\"T_cde0a_row5_col4\" class=\"data row5 col4\" >0.5105</td>\n",
       "                        <td id=\"T_cde0a_row5_col5\" class=\"data row5 col5\" >0.6202</td>\n",
       "                        <td id=\"T_cde0a_row5_col6\" class=\"data row5 col6\" >0.4321</td>\n",
       "                        <td id=\"T_cde0a_row5_col7\" class=\"data row5 col7\" >0.4568</td>\n",
       "                        <td id=\"T_cde0a_row5_col8\" class=\"data row5 col8\" >0.0170</td>\n",
       "            </tr>\n",
       "            <tr>\n",
       "                        <th id=\"T_cde0a_level0_row6\" class=\"row_heading level0 row6\" >svm</th>\n",
       "                        <td id=\"T_cde0a_row6_col0\" class=\"data row6 col0\" >SVM - Linear Kernel</td>\n",
       "                        <td id=\"T_cde0a_row6_col1\" class=\"data row6 col1\" >0.7224</td>\n",
       "                        <td id=\"T_cde0a_row6_col2\" class=\"data row6 col2\" >0.0000</td>\n",
       "                        <td id=\"T_cde0a_row6_col3\" class=\"data row6 col3\" >0.8063</td>\n",
       "                        <td id=\"T_cde0a_row6_col4\" class=\"data row6 col4\" >0.5035</td>\n",
       "                        <td id=\"T_cde0a_row6_col5\" class=\"data row6 col5\" >0.6123</td>\n",
       "                        <td id=\"T_cde0a_row6_col6\" class=\"data row6 col6\" >0.4170</td>\n",
       "                        <td id=\"T_cde0a_row6_col7\" class=\"data row6 col7\" >0.4538</td>\n",
       "                        <td id=\"T_cde0a_row6_col8\" class=\"data row6 col8\" >0.0270</td>\n",
       "            </tr>\n",
       "            <tr>\n",
       "                        <th id=\"T_cde0a_level0_row7\" class=\"row_heading level0 row7\" >lightgbm</th>\n",
       "                        <td id=\"T_cde0a_row7_col0\" class=\"data row7 col0\" >Light Gradient Boosting Machine</td>\n",
       "                        <td id=\"T_cde0a_row7_col1\" class=\"data row7 col1\" >0.7850</td>\n",
       "                        <td id=\"T_cde0a_row7_col2\" class=\"data row7 col2\" >0.8321</td>\n",
       "                        <td id=\"T_cde0a_row7_col3\" class=\"data row7 col3\" >0.5966</td>\n",
       "                        <td id=\"T_cde0a_row7_col4\" class=\"data row7 col4\" >0.6079</td>\n",
       "                        <td id=\"T_cde0a_row7_col5\" class=\"data row7 col5\" >0.6010</td>\n",
       "                        <td id=\"T_cde0a_row7_col6\" class=\"data row7 col6\" >0.4541</td>\n",
       "                        <td id=\"T_cde0a_row7_col7\" class=\"data row7 col7\" >0.4550</td>\n",
       "                        <td id=\"T_cde0a_row7_col8\" class=\"data row7 col8\" >0.0950</td>\n",
       "            </tr>\n",
       "            <tr>\n",
       "                        <th id=\"T_cde0a_level0_row8\" class=\"row_heading level0 row8\" >rf</th>\n",
       "                        <td id=\"T_cde0a_row8_col0\" class=\"data row8 col0\" >Random Forest Classifier</td>\n",
       "                        <td id=\"T_cde0a_row8_col1\" class=\"data row8 col1\" >0.7845</td>\n",
       "                        <td id=\"T_cde0a_row8_col2\" class=\"data row8 col2\" >0.8240</td>\n",
       "                        <td id=\"T_cde0a_row8_col3\" class=\"data row8 col3\" >0.5794</td>\n",
       "                        <td id=\"T_cde0a_row8_col4\" class=\"data row8 col4\" >0.6103</td>\n",
       "                        <td id=\"T_cde0a_row8_col5\" class=\"data row8 col5\" >0.5937</td>\n",
       "                        <td id=\"T_cde0a_row8_col6\" class=\"data row8 col6\" >0.4474</td>\n",
       "                        <td id=\"T_cde0a_row8_col7\" class=\"data row8 col7\" >0.4482</td>\n",
       "                        <td id=\"T_cde0a_row8_col8\" class=\"data row8 col8\" >0.2210</td>\n",
       "            </tr>\n",
       "            <tr>\n",
       "                        <th id=\"T_cde0a_level0_row9\" class=\"row_heading level0 row9\" >knn</th>\n",
       "                        <td id=\"T_cde0a_row9_col0\" class=\"data row9 col0\" >K Neighbors Classifier</td>\n",
       "                        <td id=\"T_cde0a_row9_col1\" class=\"data row9 col1\" >0.6925</td>\n",
       "                        <td id=\"T_cde0a_row9_col2\" class=\"data row9 col2\" >0.7662</td>\n",
       "                        <td id=\"T_cde0a_row9_col3\" class=\"data row9 col3\" >0.7376</td>\n",
       "                        <td id=\"T_cde0a_row9_col4\" class=\"data row9 col4\" >0.4602</td>\n",
       "                        <td id=\"T_cde0a_row9_col5\" class=\"data row9 col5\" >0.5665</td>\n",
       "                        <td id=\"T_cde0a_row9_col6\" class=\"data row9 col6\" >0.3475</td>\n",
       "                        <td id=\"T_cde0a_row9_col7\" class=\"data row9 col7\" >0.3712</td>\n",
       "                        <td id=\"T_cde0a_row9_col8\" class=\"data row9 col8\" >0.0550</td>\n",
       "            </tr>\n",
       "            <tr>\n",
       "                        <th id=\"T_cde0a_level0_row10\" class=\"row_heading level0 row10\" >et</th>\n",
       "                        <td id=\"T_cde0a_row10_col0\" class=\"data row10 col0\" >Extra Trees Classifier</td>\n",
       "                        <td id=\"T_cde0a_row10_col1\" class=\"data row10 col1\" >0.7709</td>\n",
       "                        <td id=\"T_cde0a_row10_col2\" class=\"data row10 col2\" >0.7957</td>\n",
       "                        <td id=\"T_cde0a_row10_col3\" class=\"data row10 col3\" >0.5332</td>\n",
       "                        <td id=\"T_cde0a_row10_col4\" class=\"data row10 col4\" >0.5885</td>\n",
       "                        <td id=\"T_cde0a_row10_col5\" class=\"data row10 col5\" >0.5590</td>\n",
       "                        <td id=\"T_cde0a_row10_col6\" class=\"data row10 col6\" >0.4048</td>\n",
       "                        <td id=\"T_cde0a_row10_col7\" class=\"data row10 col7\" >0.4060</td>\n",
       "                        <td id=\"T_cde0a_row10_col8\" class=\"data row10 col8\" >0.1970</td>\n",
       "            </tr>\n",
       "            <tr>\n",
       "                        <th id=\"T_cde0a_level0_row11\" class=\"row_heading level0 row11\" >dt</th>\n",
       "                        <td id=\"T_cde0a_row11_col0\" class=\"data row11 col0\" >Decision Tree Classifier</td>\n",
       "                        <td id=\"T_cde0a_row11_col1\" class=\"data row11 col1\" >0.7215</td>\n",
       "                        <td id=\"T_cde0a_row11_col2\" class=\"data row11 col2\" >0.6678</td>\n",
       "                        <td id=\"T_cde0a_row11_col3\" class=\"data row11 col3\" >0.5472</td>\n",
       "                        <td id=\"T_cde0a_row11_col4\" class=\"data row11 col4\" >0.4905</td>\n",
       "                        <td id=\"T_cde0a_row11_col5\" class=\"data row11 col5\" >0.5158</td>\n",
       "                        <td id=\"T_cde0a_row11_col6\" class=\"data row11 col6\" >0.3217</td>\n",
       "                        <td id=\"T_cde0a_row11_col7\" class=\"data row11 col7\" >0.3236</td>\n",
       "                        <td id=\"T_cde0a_row11_col8\" class=\"data row11 col8\" >0.0240</td>\n",
       "            </tr>\n",
       "            <tr>\n",
       "                        <th id=\"T_cde0a_level0_row12\" class=\"row_heading level0 row12\" >qda</th>\n",
       "                        <td id=\"T_cde0a_row12_col0\" class=\"data row12 col0\" >Quadratic Discriminant Analysis</td>\n",
       "                        <td id=\"T_cde0a_row12_col1\" class=\"data row12 col1\" >0.2727</td>\n",
       "                        <td id=\"T_cde0a_row12_col2\" class=\"data row12 col2\" >0.5000</td>\n",
       "                        <td id=\"T_cde0a_row12_col3\" class=\"data row12 col3\" >1.0000</td>\n",
       "                        <td id=\"T_cde0a_row12_col4\" class=\"data row12 col4\" >0.2727</td>\n",
       "                        <td id=\"T_cde0a_row12_col5\" class=\"data row12 col5\" >0.4285</td>\n",
       "                        <td id=\"T_cde0a_row12_col6\" class=\"data row12 col6\" >0.0000</td>\n",
       "                        <td id=\"T_cde0a_row12_col7\" class=\"data row12 col7\" >0.0000</td>\n",
       "                        <td id=\"T_cde0a_row12_col8\" class=\"data row12 col8\" >0.0210</td>\n",
       "            </tr>\n",
       "    </tbody></table>"
      ],
      "text/plain": [
       "<pandas.io.formats.style.Styler at 0x7fc893febbe0>"
      ]
     },
     "metadata": {},
     "output_type": "display_data"
    }
   ],
   "source": [
    "# compare all models\n",
    "best_model = compare_models(sort='F1')"
   ]
  },
  {
   "cell_type": "markdown",
   "id": "86024bd1",
   "metadata": {},
   "source": [
    "ถ้าดูจากรูป จะเห็นว่า Model ที่ได้ค่า F1 สูงที่สุดคือ Ada Boost Classifier ครับ ได้ F1 Score = 0.6407"
   ]
  },
  {
   "cell_type": "code",
   "execution_count": 59,
   "id": "2cdf6306",
   "metadata": {
    "scrolled": true
   },
   "outputs": [
    {
     "name": "stdout",
     "output_type": "stream",
     "text": [
      "AdaBoostClassifier(algorithm='SAMME.R', base_estimator=None, learning_rate=1.0,\n",
      "                   n_estimators=50, random_state=4840)\n"
     ]
    }
   ],
   "source": [
    "# print best_model parameters\n",
    "print(best_model)"
   ]
  },
  {
   "cell_type": "markdown",
   "id": "57a856ec",
   "metadata": {},
   "source": [
    "### Hyper Parameter Tuning\n",
    "โดยที่ PyCaret ยังสามารถช่วยให้เราทำ Hyper Parameter Tuning ได้ง่ายๆ ด้วยเช่นกัน"
   ]
  },
  {
   "cell_type": "code",
   "execution_count": 60,
   "id": "1f9cc66b",
   "metadata": {
    "scrolled": false
   },
   "outputs": [
    {
     "data": {
      "text/html": [
       "<style  type=\"text/css\" >\n",
       "#T_6236a_row10_col0,#T_6236a_row10_col1,#T_6236a_row10_col2,#T_6236a_row10_col3,#T_6236a_row10_col4,#T_6236a_row10_col5,#T_6236a_row10_col6{\n",
       "            background:  yellow;\n",
       "        }</style><table id=\"T_6236a_\" ><thead>    <tr>        <th class=\"blank level0\" ></th>        <th class=\"col_heading level0 col0\" >Accuracy</th>        <th class=\"col_heading level0 col1\" >AUC</th>        <th class=\"col_heading level0 col2\" >Recall</th>        <th class=\"col_heading level0 col3\" >Prec.</th>        <th class=\"col_heading level0 col4\" >F1</th>        <th class=\"col_heading level0 col5\" >Kappa</th>        <th class=\"col_heading level0 col6\" >MCC</th>    </tr></thead><tbody>\n",
       "                <tr>\n",
       "                        <th id=\"T_6236a_level0_row0\" class=\"row_heading level0 row0\" >0</th>\n",
       "                        <td id=\"T_6236a_row0_col0\" class=\"data row0 col0\" >0.7676</td>\n",
       "                        <td id=\"T_6236a_row0_col1\" class=\"data row0 col1\" >0.8285</td>\n",
       "                        <td id=\"T_6236a_row0_col2\" class=\"data row0 col2\" >0.6953</td>\n",
       "                        <td id=\"T_6236a_row0_col3\" class=\"data row0 col3\" >0.5597</td>\n",
       "                        <td id=\"T_6236a_row0_col4\" class=\"data row0 col4\" >0.6202</td>\n",
       "                        <td id=\"T_6236a_row0_col5\" class=\"data row0 col5\" >0.4556</td>\n",
       "                        <td id=\"T_6236a_row0_col6\" class=\"data row0 col6\" >0.4611</td>\n",
       "            </tr>\n",
       "            <tr>\n",
       "                        <th id=\"T_6236a_level0_row1\" class=\"row_heading level0 row1\" >1</th>\n",
       "                        <td id=\"T_6236a_row1_col0\" class=\"data row1 col0\" >0.7804</td>\n",
       "                        <td id=\"T_6236a_row1_col1\" class=\"data row1 col1\" >0.8610</td>\n",
       "                        <td id=\"T_6236a_row1_col2\" class=\"data row1 col2\" >0.8047</td>\n",
       "                        <td id=\"T_6236a_row1_col3\" class=\"data row1 col3\" >0.5691</td>\n",
       "                        <td id=\"T_6236a_row1_col4\" class=\"data row1 col4\" >0.6667</td>\n",
       "                        <td id=\"T_6236a_row1_col5\" class=\"data row1 col5\" >0.5100</td>\n",
       "                        <td id=\"T_6236a_row1_col6\" class=\"data row1 col6\" >0.5270</td>\n",
       "            </tr>\n",
       "            <tr>\n",
       "                        <th id=\"T_6236a_level0_row2\" class=\"row_heading level0 row2\" >2</th>\n",
       "                        <td id=\"T_6236a_row2_col0\" class=\"data row2 col0\" >0.7932</td>\n",
       "                        <td id=\"T_6236a_row2_col1\" class=\"data row2 col1\" >0.8694</td>\n",
       "                        <td id=\"T_6236a_row2_col2\" class=\"data row2 col2\" >0.7891</td>\n",
       "                        <td id=\"T_6236a_row2_col3\" class=\"data row2 col3\" >0.5906</td>\n",
       "                        <td id=\"T_6236a_row2_col4\" class=\"data row2 col4\" >0.6756</td>\n",
       "                        <td id=\"T_6236a_row2_col5\" class=\"data row2 col5\" >0.5284</td>\n",
       "                        <td id=\"T_6236a_row2_col6\" class=\"data row2 col6\" >0.5403</td>\n",
       "            </tr>\n",
       "            <tr>\n",
       "                        <th id=\"T_6236a_level0_row3\" class=\"row_heading level0 row3\" >3</th>\n",
       "                        <td id=\"T_6236a_row3_col0\" class=\"data row3 col0\" >0.7885</td>\n",
       "                        <td id=\"T_6236a_row3_col1\" class=\"data row3 col1\" >0.8520</td>\n",
       "                        <td id=\"T_6236a_row3_col2\" class=\"data row3 col2\" >0.7244</td>\n",
       "                        <td id=\"T_6236a_row3_col3\" class=\"data row3 col3\" >0.5897</td>\n",
       "                        <td id=\"T_6236a_row3_col4\" class=\"data row3 col4\" >0.6502</td>\n",
       "                        <td id=\"T_6236a_row3_col5\" class=\"data row3 col5\" >0.5008</td>\n",
       "                        <td id=\"T_6236a_row3_col6\" class=\"data row3 col6\" >0.5063</td>\n",
       "            </tr>\n",
       "            <tr>\n",
       "                        <th id=\"T_6236a_level0_row4\" class=\"row_heading level0 row4\" >4</th>\n",
       "                        <td id=\"T_6236a_row4_col0\" class=\"data row4 col0\" >0.7543</td>\n",
       "                        <td id=\"T_6236a_row4_col1\" class=\"data row4 col1\" >0.8139</td>\n",
       "                        <td id=\"T_6236a_row4_col2\" class=\"data row4 col2\" >0.6378</td>\n",
       "                        <td id=\"T_6236a_row4_col3\" class=\"data row4 col3\" >0.5400</td>\n",
       "                        <td id=\"T_6236a_row4_col4\" class=\"data row4 col4\" >0.5848</td>\n",
       "                        <td id=\"T_6236a_row4_col5\" class=\"data row4 col5\" >0.4120</td>\n",
       "                        <td id=\"T_6236a_row4_col6\" class=\"data row4 col6\" >0.4149</td>\n",
       "            </tr>\n",
       "            <tr>\n",
       "                        <th id=\"T_6236a_level0_row5\" class=\"row_heading level0 row5\" >5</th>\n",
       "                        <td id=\"T_6236a_row5_col0\" class=\"data row5 col0\" >0.7756</td>\n",
       "                        <td id=\"T_6236a_row5_col1\" class=\"data row5 col1\" >0.8309</td>\n",
       "                        <td id=\"T_6236a_row5_col2\" class=\"data row5 col2\" >0.7087</td>\n",
       "                        <td id=\"T_6236a_row5_col3\" class=\"data row5 col3\" >0.5696</td>\n",
       "                        <td id=\"T_6236a_row5_col4\" class=\"data row5 col4\" >0.6316</td>\n",
       "                        <td id=\"T_6236a_row5_col5\" class=\"data row5 col5\" >0.4730</td>\n",
       "                        <td id=\"T_6236a_row5_col6\" class=\"data row5 col6\" >0.4788</td>\n",
       "            </tr>\n",
       "            <tr>\n",
       "                        <th id=\"T_6236a_level0_row6\" class=\"row_heading level0 row6\" >6</th>\n",
       "                        <td id=\"T_6236a_row6_col0\" class=\"data row6 col0\" >0.7671</td>\n",
       "                        <td id=\"T_6236a_row6_col1\" class=\"data row6 col1\" >0.8382</td>\n",
       "                        <td id=\"T_6236a_row6_col2\" class=\"data row6 col2\" >0.7188</td>\n",
       "                        <td id=\"T_6236a_row6_col3\" class=\"data row6 col3\" >0.5576</td>\n",
       "                        <td id=\"T_6236a_row6_col4\" class=\"data row6 col4\" >0.6280</td>\n",
       "                        <td id=\"T_6236a_row6_col5\" class=\"data row6 col5\" >0.4624</td>\n",
       "                        <td id=\"T_6236a_row6_col6\" class=\"data row6 col6\" >0.4703</td>\n",
       "            </tr>\n",
       "            <tr>\n",
       "                        <th id=\"T_6236a_level0_row7\" class=\"row_heading level0 row7\" >7</th>\n",
       "                        <td id=\"T_6236a_row7_col0\" class=\"data row7 col0\" >0.7735</td>\n",
       "                        <td id=\"T_6236a_row7_col1\" class=\"data row7 col1\" >0.8471</td>\n",
       "                        <td id=\"T_6236a_row7_col2\" class=\"data row7 col2\" >0.6719</td>\n",
       "                        <td id=\"T_6236a_row7_col3\" class=\"data row7 col3\" >0.5733</td>\n",
       "                        <td id=\"T_6236a_row7_col4\" class=\"data row7 col4\" >0.6187</td>\n",
       "                        <td id=\"T_6236a_row7_col5\" class=\"data row7 col5\" >0.4590</td>\n",
       "                        <td id=\"T_6236a_row7_col6\" class=\"data row7 col6\" >0.4620</td>\n",
       "            </tr>\n",
       "            <tr>\n",
       "                        <th id=\"T_6236a_level0_row8\" class=\"row_heading level0 row8\" >8</th>\n",
       "                        <td id=\"T_6236a_row8_col0\" class=\"data row8 col0\" >0.7885</td>\n",
       "                        <td id=\"T_6236a_row8_col1\" class=\"data row8 col1\" >0.8483</td>\n",
       "                        <td id=\"T_6236a_row8_col2\" class=\"data row8 col2\" >0.7500</td>\n",
       "                        <td id=\"T_6236a_row8_col3\" class=\"data row8 col3\" >0.5890</td>\n",
       "                        <td id=\"T_6236a_row8_col4\" class=\"data row8 col4\" >0.6598</td>\n",
       "                        <td id=\"T_6236a_row8_col5\" class=\"data row8 col5\" >0.5095</td>\n",
       "                        <td id=\"T_6236a_row8_col6\" class=\"data row8 col6\" >0.5173</td>\n",
       "            </tr>\n",
       "            <tr>\n",
       "                        <th id=\"T_6236a_level0_row9\" class=\"row_heading level0 row9\" >9</th>\n",
       "                        <td id=\"T_6236a_row9_col0\" class=\"data row9 col0\" >0.7970</td>\n",
       "                        <td id=\"T_6236a_row9_col1\" class=\"data row9 col1\" >0.8828</td>\n",
       "                        <td id=\"T_6236a_row9_col2\" class=\"data row9 col2\" >0.7734</td>\n",
       "                        <td id=\"T_6236a_row9_col3\" class=\"data row9 col3\" >0.6000</td>\n",
       "                        <td id=\"T_6236a_row9_col4\" class=\"data row9 col4\" >0.6758</td>\n",
       "                        <td id=\"T_6236a_row9_col5\" class=\"data row9 col5\" >0.5314</td>\n",
       "                        <td id=\"T_6236a_row9_col6\" class=\"data row9 col6\" >0.5405</td>\n",
       "            </tr>\n",
       "            <tr>\n",
       "                        <th id=\"T_6236a_level0_row10\" class=\"row_heading level0 row10\" >Mean</th>\n",
       "                        <td id=\"T_6236a_row10_col0\" class=\"data row10 col0\" >0.7786</td>\n",
       "                        <td id=\"T_6236a_row10_col1\" class=\"data row10 col1\" >0.8472</td>\n",
       "                        <td id=\"T_6236a_row10_col2\" class=\"data row10 col2\" >0.7274</td>\n",
       "                        <td id=\"T_6236a_row10_col3\" class=\"data row10 col3\" >0.5739</td>\n",
       "                        <td id=\"T_6236a_row10_col4\" class=\"data row10 col4\" >0.6411</td>\n",
       "                        <td id=\"T_6236a_row10_col5\" class=\"data row10 col5\" >0.4842</td>\n",
       "                        <td id=\"T_6236a_row10_col6\" class=\"data row10 col6\" >0.4919</td>\n",
       "            </tr>\n",
       "            <tr>\n",
       "                        <th id=\"T_6236a_level0_row11\" class=\"row_heading level0 row11\" >SD</th>\n",
       "                        <td id=\"T_6236a_row11_col0\" class=\"data row11 col0\" >0.0128</td>\n",
       "                        <td id=\"T_6236a_row11_col1\" class=\"data row11 col1\" >0.0194</td>\n",
       "                        <td id=\"T_6236a_row11_col2\" class=\"data row11 col2\" >0.0500</td>\n",
       "                        <td id=\"T_6236a_row11_col3\" class=\"data row11 col3\" >0.0176</td>\n",
       "                        <td id=\"T_6236a_row11_col4\" class=\"data row11 col4\" >0.0280</td>\n",
       "                        <td id=\"T_6236a_row11_col5\" class=\"data row11 col5\" >0.0361</td>\n",
       "                        <td id=\"T_6236a_row11_col6\" class=\"data row11 col6\" >0.0390</td>\n",
       "            </tr>\n",
       "    </tbody></table>"
      ],
      "text/plain": [
       "<pandas.io.formats.style.Styler at 0x7fc87a5e2880>"
      ]
     },
     "metadata": {},
     "output_type": "display_data"
    }
   ],
   "source": [
    "# tune best model\n",
    "tuned_best_model = tune_model(estimator=best_model, optimize=\"F1\")"
   ]
  },
  {
   "cell_type": "markdown",
   "id": "501c3286",
   "metadata": {},
   "source": [
    "หลังการทำ Hyper Parameter Tuning ตัว F1 เพิ่มขึ้นนิดหน่อย จาก 0.6407 เป็น 0.6411 ใช้ได้ๆ เขียนโค้ด บันทัดเดียว"
   ]
  },
  {
   "cell_type": "code",
   "execution_count": 73,
   "id": "f725baf3",
   "metadata": {
    "scrolled": false
   },
   "outputs": [
    {
     "data": {
      "text/html": [
       "<div>\n",
       "<style scoped>\n",
       "    .dataframe tbody tr th:only-of-type {\n",
       "        vertical-align: middle;\n",
       "    }\n",
       "\n",
       "    .dataframe tbody tr th {\n",
       "        vertical-align: top;\n",
       "    }\n",
       "\n",
       "    .dataframe thead th {\n",
       "        text-align: right;\n",
       "    }\n",
       "</style>\n",
       "<table border=\"1\" class=\"dataframe\">\n",
       "  <thead>\n",
       "    <tr style=\"text-align: right;\">\n",
       "      <th></th>\n",
       "      <th>Parameters</th>\n",
       "    </tr>\n",
       "  </thead>\n",
       "  <tbody>\n",
       "    <tr>\n",
       "      <th>algorithm</th>\n",
       "      <td>SAMME.R</td>\n",
       "    </tr>\n",
       "    <tr>\n",
       "      <th>base_estimator</th>\n",
       "      <td>None</td>\n",
       "    </tr>\n",
       "    <tr>\n",
       "      <th>learning_rate</th>\n",
       "      <td>0.4</td>\n",
       "    </tr>\n",
       "    <tr>\n",
       "      <th>n_estimators</th>\n",
       "      <td>190</td>\n",
       "    </tr>\n",
       "    <tr>\n",
       "      <th>random_state</th>\n",
       "      <td>4840</td>\n",
       "    </tr>\n",
       "  </tbody>\n",
       "</table>\n",
       "</div>"
      ],
      "text/plain": [
       "               Parameters\n",
       "algorithm         SAMME.R\n",
       "base_estimator       None\n",
       "learning_rate         0.4\n",
       "n_estimators          190\n",
       "random_state         4840"
      ]
     },
     "metadata": {},
     "output_type": "display_data"
    }
   ],
   "source": [
    "plot_model(tuned_best_model, plot=\"parameter\")"
   ]
  },
  {
   "cell_type": "markdown",
   "id": "8ce7774c",
   "metadata": {},
   "source": [
    "### Model Performance\n",
    "นอกจากนั้นยังไม่พอนะครับ PyCaret ยังสามารถ Plot graph Model Performace ให้เราดูได้ง่ายๆ ด้วย ไม่ว่าจะเป็น AUC Curve, Confusion Matrix, Feature Importance และอื่นๆ อีกมากครับ"
   ]
  },
  {
   "cell_type": "code",
   "execution_count": 61,
   "id": "6e5bed11",
   "metadata": {
    "scrolled": false
   },
   "outputs": [
    {
     "data": {
      "image/png": "[encoded data removed]",
      "text/plain": [
       "<Figure size 576x396 with 1 Axes>"
      ]
     },
     "metadata": {},
     "output_type": "display_data"
    }
   ],
   "source": [
    "# AUC Plot\n",
    "plot_model(tuned_best_model, plot = 'auc')"
   ]
  },
  {
   "cell_type": "markdown",
   "id": "520ebf95",
   "metadata": {},
   "source": [
    "AUC ของแต่ละ Class ได้ 0.84 ถือว่า Model ทำงานได้ดีเลยครับ"
   ]
  },
  {
   "cell_type": "code",
   "execution_count": 74,
   "id": "db46b223",
   "metadata": {},
   "outputs": [
    {
     "data": {
      "image/png": "[encoded data removed]",
      "text/plain": [
       "<Figure size 576x396 with 1 Axes>"
      ]
     },
     "metadata": {},
     "output_type": "display_data"
    }
   ],
   "source": [
    "plot_model(tuned_best_model, plot=\"pr\")"
   ]
  },
  {
   "cell_type": "markdown",
   "id": "2f19572f",
   "metadata": {},
   "source": [
    "Precision - Recall Curve ได้ค่าเฉลี่ย 0.66 ก็ถือว่า ok เลย่นะครับ"
   ]
  },
  {
   "cell_type": "code",
   "execution_count": 75,
   "id": "1708d8b2",
   "metadata": {},
   "outputs": [
    {
     "data": {
      "image/png": "[encoded data removed]",
      "text/plain": [
       "<Figure size 576x396 with 1 Axes>"
      ]
     },
     "metadata": {},
     "output_type": "display_data"
    }
   ],
   "source": [
    "# Confusion Matrix\n",
    "plot_model(tuned_best_model, plot = 'confusion_matrix')"
   ]
  },
  {
   "cell_type": "markdown",
   "id": "e932ce77",
   "metadata": {},
   "source": [
    "* ช่องซ้ายบน เราทาย ไม่ Churn และ ไม่ Churn จริงๆ (actual = prediction)\n",
    "* ช่องขวาล่าง เราทาย Churn และ Churn จริงๆ (actual = prediction)\n",
    "* เรามีทายผิดอยู่สองช่อง ด้านขวาบนและซ้ายล่าง (actual ≠ prediction)\n",
    "* ขวาบนคือ เราทายว่า Churn แต่จริงๆ แล้วไม่ Churn 333\n",
    "* ซ้ายล่าง คือ เราทายว่า ไม่ Churn แต่จริงๆ แล้ว Churn 158\n",
    "\n",
    "ถ้าดู Confusion Matrix จะเห็นว่า มี 333 คนที่ Model Predict ว่า Churn แต่จริงๆ แล้ว ไม่ Churn แต่ถ้า Predict ว่าใครจะไม่ Churn บ้างนี้ ค่อนข้างแม่นเลยครับ ทายถูก 1224 คน\n",
    "แต่ถ้าดูจริงๆ แล้ว มีถึง 398 คนที่ Model ทำนายว่าลูกค้าจะยกเลิกสัญญา และยกเลิกจริงๆ ซึ่งถ้าหากเราทำ Campaign ส่งเสริมการขาย ให้กับลูกค้ากลุ่มนี้ จะทำให้เราสามารถ บริหารจัดการค่าใช้จ่ายได้ง่ายขึ้น โดยที่เราไม่จำเป็นต้องทำกับลูกค้าทุกคน"
   ]
  },
  {
   "cell_type": "code",
   "execution_count": 76,
   "id": "0d18a0fe",
   "metadata": {
    "scrolled": false
   },
   "outputs": [
    {
     "data": {
      "image/png": "[encoded data removed]",
      "text/plain": [
       "<Figure size 576x396 with 2 Axes>"
      ]
     },
     "metadata": {},
     "output_type": "display_data"
    }
   ],
   "source": [
    "plot_model(tuned_best_model, plot=\"class_report\")"
   ]
  },
  {
   "cell_type": "markdown",
   "id": "50cc189d",
   "metadata": {},
   "source": [
    "โมเดลทำงานได้ค่อนข้างดี แต่ Precision 0.544 ในการ Preduct ว่าลูกค้าจะ Churn"
   ]
  },
  {
   "cell_type": "code",
   "execution_count": 77,
   "id": "37b15abe",
   "metadata": {},
   "outputs": [
    {
     "data": {
      "image/png": "[encoded data removed]",
      "text/plain": [
       "<Figure size 800x500 with 1 Axes>"
      ]
     },
     "metadata": {},
     "output_type": "display_data"
    }
   ],
   "source": [
    "# Feature Importance Plot\n",
    "plot_model(tuned_best_model, plot = 'feature')"
   ]
  },
  {
   "cell_type": "markdown",
   "id": "5a67eaf4",
   "metadata": {},
   "source": [
    "นอกจากนั้นยังไม่พอ เรายังสามารถ Plot Feature Importance ได้ง่ายเลยครับ \n",
    "\n",
    "จะเห็นว่า Feature ที่มีผลต่อการ ยกเลิก หรือ Churn คือ gender_Female, PaperlessBilline_No อันนี้ก็สามารถเอาไปวิเคราะห์เชิงลึกต่อได้ว่า ถ้าลูกค้าเปลี่ยนมาใช้ Paperless Billing แล้วจะทำให้ลูกค้าใช้บริการต่อ เราก็สามารถ Push marketing activity ต่อไปได้ เป็นต้น"
   ]
  },
  {
   "cell_type": "code",
   "execution_count": 71,
   "id": "a6abd43a",
   "metadata": {},
   "outputs": [
    {
     "data": {
      "text/html": [
       "<style  type=\"text/css\" >\n",
       "</style><table id=\"T_50f2e_\" ><thead>    <tr>        <th class=\"blank level0\" ></th>        <th class=\"col_heading level0 col0\" >Model</th>        <th class=\"col_heading level0 col1\" >Accuracy</th>        <th class=\"col_heading level0 col2\" >AUC</th>        <th class=\"col_heading level0 col3\" >Recall</th>        <th class=\"col_heading level0 col4\" >Prec.</th>        <th class=\"col_heading level0 col5\" >F1</th>        <th class=\"col_heading level0 col6\" >Kappa</th>        <th class=\"col_heading level0 col7\" >MCC</th>    </tr></thead><tbody>\n",
       "                <tr>\n",
       "                        <th id=\"T_50f2e_level0_row0\" class=\"row_heading level0 row0\" >0</th>\n",
       "                        <td id=\"T_50f2e_row0_col0\" class=\"data row0 col0\" >Ada Boost Classifier</td>\n",
       "                        <td id=\"T_50f2e_row0_col1\" class=\"data row0 col1\" >0.7676</td>\n",
       "                        <td id=\"T_50f2e_row0_col2\" class=\"data row0 col2\" >0.8376</td>\n",
       "                        <td id=\"T_50f2e_row0_col3\" class=\"data row0 col3\" >0.7158</td>\n",
       "                        <td id=\"T_50f2e_row0_col4\" class=\"data row0 col4\" >0.5445</td>\n",
       "                        <td id=\"T_50f2e_row0_col5\" class=\"data row0 col5\" >0.6185</td>\n",
       "                        <td id=\"T_50f2e_row0_col6\" class=\"data row0 col6\" >0.4558</td>\n",
       "                        <td id=\"T_50f2e_row0_col7\" class=\"data row0 col7\" >0.4647</td>\n",
       "            </tr>\n",
       "    </tbody></table>"
      ],
      "text/plain": [
       "<pandas.io.formats.style.Styler at 0x7fc87a53a4f0>"
      ]
     },
     "metadata": {},
     "output_type": "display_data"
    }
   ],
   "source": [
    "predict_model(tuned_best_model);\n",
    "\n"
   ]
  },
  {
   "cell_type": "markdown",
   "id": "f308c24e",
   "metadata": {},
   "source": [
    "ถือว่าใช้ได้ครับ สำหรับ PyCaret สามารถช่วยลดเวลาในการเขียน Code ได้เยอะเลย"
   ]
  },
  {
   "cell_type": "code",
   "execution_count": null,
   "id": "f7d3a63b",
   "metadata": {},
   "outputs": [],
   "source": []
  }
 ],
 "metadata": {
  "kernelspec": {
   "display_name": "Python 3",
   "language": "python",
   "name": "python3"
  },
  "language_info": {
   "codemirror_mode": {
    "name": "ipython",
    "version": 3
   },
   "file_extension": ".py",
   "mimetype": "text/x-python",
   "name": "python",
   "nbconvert_exporter": "python",
   "pygments_lexer": "ipython3",
   "version": "3.9.2"
  }
 },
 "nbformat": 4,
 "nbformat_minor": 5
}
